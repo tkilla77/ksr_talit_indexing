{
 "cells": [
  {
   "cell_type": "code",
   "execution_count": 64,
   "metadata": {},
   "outputs": [
    {
     "name": "stdout",
     "output_type": "stream",
     "text": [
      "Note: you may need to restart the kernel to use updated packages.\n",
      "Note: you may need to restart the kernel to use updated packages.\n",
      "Note: you may need to restart the kernel to use updated packages.\n"
     ]
    }
   ],
   "source": [
    "%run datasets.ipynb\n",
    "%run trees_lib.ipynb"
   ]
  },
  {
   "cell_type": "code",
   "execution_count": 65,
   "metadata": {},
   "outputs": [
    {
     "data": {
      "application/vnd.jupyter.widget-view+json": {
       "model_id": "b0d3171521ff4f6298759b032b18fb36",
       "version_major": 2,
       "version_minor": 0
      },
      "text/plain": [
       "cities500: 0it [00:00, ?it/s]"
      ]
     },
     "metadata": {},
     "output_type": "display_data"
    }
   ],
   "source": [
    "#dataset = datasets_thurgau_7()\n",
    "dataset = datasets_cities_200k()\n",
    "#dataset = datasets_world_12M()\n"
   ]
  },
  {
   "cell_type": "code",
   "execution_count": 68,
   "metadata": {},
   "outputs": [
    {
     "data": {
      "application/vnd.jupyter.widget-view+json": {
       "model_id": "4db5096c3572455b804107aa75beee2d",
       "version_major": 2,
       "version_minor": 0
      },
      "text/plain": [
       "  0%|          | 0/199726 [00:00<?, ?it/s]"
      ]
     },
     "metadata": {},
     "output_type": "display_data"
    }
   ],
   "source": [
    "kdtree = build_kd_tree(key_id_tuples(dataset, ['latitude', 'longitude']), len(dataset))\n"
   ]
  },
  {
   "cell_type": "code",
   "execution_count": 69,
   "metadata": {},
   "outputs": [
    {
     "name": "stdout",
     "output_type": "stream",
     "text": [
      "Towns in Oberthurgau:\n",
      "(47.50862, 9.225) 11790499 Hohentannen\n",
      "(47.51667, 9.43333) 2661731 Arbon\n",
      "(47.52102, 9.32484) 2659540 Muolen\n",
      "(47.54268, 9.38048) 2660932 Egnach\n",
      "(47.54699, 9.29586) 2661756 Amriswil\n",
      "(47.54814, 9.23415) 2660873 Erlen\n",
      "(47.55433, 9.37229) 2658849 Salmsach\n",
      "(47.56586, 9.37869) 2658985 Romanshorn\n",
      "(47.5844, 9.34101) 2658212 Uttwil\n",
      "(47.59353, 9.24727) 2660029 Langrickenbach\n",
      "(47.5935, 9.31723) 2660168 Kesswil\n",
      "CPU times: user 232 µs, sys: 19 µs, total: 251 µs\n",
      "Wall time: 245 µs\n"
     ]
    }
   ],
   "source": [
    "%%time\n",
    "# All towns in Oberthurgau\n",
    "lower_left = (47.5, 9.2)\n",
    "upper_right = (47.6, 9.5)\n",
    "print(\"Towns in Oberthurgau:\")\n",
    "for node in search_kd_tree(kdtree, [(lower_left[0], upper_right[0]), (lower_left[1], upper_right[1])]):\n",
    "    print(node.key, node.value, dataset[node.value]['name'])\n",
    "\n"
   ]
  }
 ],
 "metadata": {
  "kernelspec": {
   "display_name": "Python 3",
   "language": "python",
   "name": "python3"
  },
  "language_info": {
   "codemirror_mode": {
    "name": "ipython",
    "version": 3
   },
   "file_extension": ".py",
   "mimetype": "text/x-python",
   "name": "python",
   "nbconvert_exporter": "python",
   "pygments_lexer": "ipython3",
   "version": "3.11.5"
  },
  "orig_nbformat": 4
 },
 "nbformat": 4,
 "nbformat_minor": 2
}
