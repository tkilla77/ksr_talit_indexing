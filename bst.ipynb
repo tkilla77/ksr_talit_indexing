{
 "cells": [
  {
   "cell_type": "markdown",
   "metadata": {},
   "source": [
    "## Binary Search Tree\n",
    "\n",
    "How does a search tree work? What are its properties?"
   ]
  },
  {
   "cell_type": "code",
   "execution_count": 2,
   "metadata": {},
   "outputs": [],
   "source": [
    "# Toy dataset\n",
    "\n",
    "towns = {\n",
    "    0: {'name': 'Romanshorn', 'population': 11000, 'latitude': 47.56586, 'longitude': 9.37869},\n",
    "    1: {'name': 'Amriswil', 'population': 14000, 'latitude': 47.54814, 'longitude': 9.30327},\n",
    "    2: {'name': 'Arbon', 'population': 12000, 'latitude': 47.51360, 'longitude': 9.42999},\n",
    "    3: {'name': 'Weinfelden', 'population': 13000, 'latitude': 47.56638, 'longitude': 9.10588},\n",
    "    4: {'name': 'Frauenfeld', 'population': 25000, 'latitude': 47.55856, 'longitude': 8.89685},\n",
    "}"
   ]
  },
  {
   "cell_type": "markdown",
   "metadata": {},
   "source": [
    "### BST Nodes\n",
    "A binary node with two children, a key, and a value (payload)."
   ]
  },
  {
   "cell_type": "code",
   "execution_count": 3,
   "metadata": {},
   "outputs": [],
   "source": [
    "class BstNode():\n",
    "    \"\"\"Invariant: All keys in left subtree are <= key, all keys in right subtree are >= key.\"\"\"\n",
    "    def __init__(self, key, value):\n",
    "        self.left = None\n",
    "        self.right = None\n",
    "        self.key = key\n",
    "        self.value = value"
   ]
  },
  {
   "cell_type": "code",
   "execution_count": 7,
   "metadata": {},
   "outputs": [
    {
     "data": {
      "text/plain": [
       "[(11000, 0), (12000, 2), (13000, 3), (14000, 1), (25000, 4)]"
      ]
     },
     "execution_count": 7,
     "metadata": {},
     "output_type": "execute_result"
    }
   ],
   "source": [
    "# Lets sort the tuples\n",
    "sorted_by_population = []\n",
    "for id,town in towns.items():\n",
    "    tuple_population_id = (town['population'], id)\n",
    "    sorted_by_population.append(tuple_population_id)\n",
    "\n",
    "\n",
    "sorted_by_population.sort()\n",
    "sorted_by_population"
   ]
  },
  {
   "cell_type": "markdown",
   "metadata": {},
   "source": [
    "### Building a Tree\n",
    "\n",
    "Use the list of elements sorted by the search dimension - always use the median of the remaining list as the next node. Build the tree recursively."
   ]
  },
  {
   "cell_type": "code",
   "execution_count": 10,
   "metadata": {},
   "outputs": [],
   "source": [
    "def build_bst(sorted_tuples, lower, upper):\n",
    "    \"\"\"Include all elements in sorted_tuples from lower to upper indices (inclusive).\"\"\"\n",
    "    if lower > upper:\n",
    "        return None\n",
    "    median_index = (lower + upper) // 2\n",
    "    median = sorted_tuples[median_index]\n",
    "    node = BstNode(median[0], median[1])\n",
    "    node.left = build_bst(sorted_tuples, 0, median_index - 1)\n",
    "    node.right = build_bst(sorted_tuples, median_index + 1, upper)\n",
    "    return node\n",
    "\n",
    "tree = build_bst(sorted_by_population, 0, len(sorted_by_population)-1)"
   ]
  },
  {
   "cell_type": "code",
   "execution_count": 13,
   "metadata": {},
   "outputs": [
    {
     "name": "stdout",
     "output_type": "stream",
     "text": [
      "   13000\n",
      "11000   14000\n",
      "     12000   25000\n"
     ]
    }
   ],
   "source": [
    "print(f\"   {tree.key}\")\n",
    "print(f\"{tree.left.key}   {tree.right.key}\")\n",
    "print(f\"     {tree.left.right.key}   {tree.right.right.key}\")"
   ]
  }
 ],
 "metadata": {
  "kernelspec": {
   "display_name": "Python 3",
   "language": "python",
   "name": "python3"
  },
  "language_info": {
   "codemirror_mode": {
    "name": "ipython",
    "version": 3
   },
   "file_extension": ".py",
   "mimetype": "text/x-python",
   "name": "python",
   "nbconvert_exporter": "python",
   "pygments_lexer": "ipython3",
   "version": "3.11.2"
  },
  "orig_nbformat": 4
 },
 "nbformat": 4,
 "nbformat_minor": 2
}
