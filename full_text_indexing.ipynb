{
 "cells": [
  {
   "cell_type": "code",
   "execution_count": null,
   "metadata": {},
   "outputs": [],
   "source": []
  },
  {
   "cell_type": "markdown",
   "metadata": {},
   "source": []
  },
  {
   "cell_type": "code",
   "execution_count": 60,
   "metadata": {},
   "outputs": [],
   "source": [
    "documents = {\n",
    "    1: \"Ein Film über Sterne mit Harrison Ford.\",\n",
    "    2: \"Ein Film über Sterne von Antoine de Saint-Exupéry.\",\n",
    "    3: \"In diesem Film gewinnt James Bond gegen Dr. No.\",\n",
    "}\n",
    "\n",
    "def tokenize(text):\n",
    "    import re, string\n",
    "    text = text.lower()\n",
    "    for token in text.split():\n",
    "        yield token.strip(string.punctuation)\n",
    "    #yield from re.findall(\"\\w+\", text, )\n",
    "\n",
    "from tqdm.auto import tqdm\n",
    " \n",
    "def build_text_index(dataset, index=None):\n",
    "    \"\"\"Builds and returns full-text index for all documents in a dataset. Adds to an existing index if one is given.\"\"\"\n",
    "    if index is None:\n",
    "        index = dict()\n",
    "    for id, document in tqdm(dataset):\n",
    "        for token in tokenize(document):\n",
    "            index.setdefault(token, set()).add(id)\n",
    "    return index\n",
    "\n",
    "def query_index(index, query):\n",
    "    result_set = set()\n",
    "    return index.get(query, set())\n",
    "\n"
   ]
  },
  {
   "cell_type": "code",
   "execution_count": 62,
   "metadata": {},
   "outputs": [
    {
     "name": "stdout",
     "output_type": "stream",
     "text": [
      "ein\n",
      "film\n",
      "über\n",
      "sterne\n",
      "von\n",
      "antoine\n",
      "de\n",
      "saint-exupéry\n"
     ]
    }
   ],
   "source": [
    "for t in tokenize(documents[2]): print(t)"
   ]
  },
  {
   "cell_type": "code",
   "execution_count": 18,
   "metadata": {},
   "outputs": [
    {
     "data": {
      "application/vnd.jupyter.widget-view+json": {
       "model_id": "ab83350a38fa4e7faa39dad08c020e5a",
       "version_major": 2,
       "version_minor": 0
      },
      "text/plain": [
       "  0%|          | 0/3 [00:00<?, ?it/s]"
      ]
     },
     "metadata": {},
     "output_type": "display_data"
    },
    {
     "data": {
      "text/plain": [
       "{'ein': {1, 2},\n",
       " 'film': {1, 2, 3},\n",
       " 'über': {1, 2},\n",
       " 'sterne': {1, 2},\n",
       " 'mit': {1},\n",
       " 'harrison': {1},\n",
       " 'ford': {1},\n",
       " 'von': {2},\n",
       " 'antoine': {2},\n",
       " 'de': {2},\n",
       " 'saint': {2},\n",
       " 'exupéry': {2},\n",
       " 'in': {3},\n",
       " 'diesem': {3},\n",
       " 'gewinnt': {3},\n",
       " 'james': {3},\n",
       " 'bond': {3},\n",
       " 'gegen': {3},\n",
       " 'dr': {3},\n",
       " 'no': {3}}"
      ]
     },
     "execution_count": 18,
     "metadata": {},
     "output_type": "execute_result"
    }
   ],
   "source": [
    "index = build_text_index(documents.items())\n",
    "query_index(index, \"Ford\")\n",
    "index"
   ]
  },
  {
   "cell_type": "code",
   "execution_count": 20,
   "metadata": {},
   "outputs": [],
   "source": [
    "def read_movie_csv(filename):\n",
    "    import csv\n",
    "    with open(filename, 'r') as csvfile:\n",
    "        reader = csv.reader(csvfile)\n",
    "        for url, text in reader:\n",
    "            yield url, text"
   ]
  },
  {
   "cell_type": "code",
   "execution_count": 41,
   "metadata": {},
   "outputs": [
    {
     "data": {
      "application/vnd.jupyter.widget-view+json": {
       "model_id": "707ef4a6856e43a887904c0a7ecc8703",
       "version_major": 2,
       "version_minor": 0
      },
      "text/plain": [
       "0it [00:00, ?it/s]"
      ]
     },
     "metadata": {},
     "output_type": "display_data"
    }
   ],
   "source": [
    "movie_idx = build_text_index(read_movie_csv('data/movies_1985.csv'))"
   ]
  },
  {
   "cell_type": "code",
   "execution_count": 50,
   "metadata": {},
   "outputs": [
    {
     "data": {
      "text/plain": [
       "{'https://de.wikipedia.org/wiki/Zur%C3%BCck_in_die_Zukunft_(Film)'}"
      ]
     },
     "execution_count": 50,
     "metadata": {},
     "output_type": "execute_result"
    }
   ],
   "source": [
    "query_index(movie_idx, 'delorean')"
   ]
  },
  {
   "cell_type": "code",
   "execution_count": 51,
   "metadata": {},
   "outputs": [],
   "source": [
    "n = sum(1 for _ in read_movie_csv('data/movies_1985.csv'))\n",
    "cutoff = 0.5\n",
    "freqs = [(word, len(docs) / n) for word, docs in movie_idx.items() if len(docs) / n > cutoff]\n",
    "import operator\n",
    "freqs.sort(reverse=True, key=operator.itemgetter(1))\n",
    "\n",
    "stop_words = {freq[0] for freq in freqs}\n",
    "stop_words\n",
    "\n",
    "def tokenize(text, stop_words=stop_words):\n",
    "    import re\n",
    "    for token in re.findall(\"\\w+\", text):\n",
    "        if not token in stop_words:\n",
    "            yield token.lower()\n",
    "    "
   ]
  },
  {
   "cell_type": "code",
   "execution_count": 52,
   "metadata": {},
   "outputs": [
    {
     "data": {
      "application/vnd.jupyter.widget-view+json": {
       "model_id": "ac5b3e8eb9c14d28a14c850f368bbcdf",
       "version_major": 2,
       "version_minor": 0
      },
      "text/plain": [
       "0it [00:00, ?it/s]"
      ]
     },
     "metadata": {},
     "output_type": "display_data"
    }
   ],
   "source": [
    "movie_idx = build_text_index(read_movie_csv('data/movies_1985.csv'))"
   ]
  },
  {
   "cell_type": "code",
   "execution_count": 47,
   "metadata": {},
   "outputs": [
    {
     "data": {
      "text/plain": [
       "set()"
      ]
     },
     "execution_count": 47,
     "metadata": {},
     "output_type": "execute_result"
    }
   ],
   "source": [
    "query_index(movie_idx, 'der')"
   ]
  },
  {
   "cell_type": "code",
   "execution_count": 48,
   "metadata": {},
   "outputs": [
    {
     "data": {
      "text/plain": [
       "{'https://de.wikipedia.org/wiki/Zur%C3%BCck_in_die_Zukunft_(Film)'}"
      ]
     },
     "execution_count": 48,
     "metadata": {},
     "output_type": "execute_result"
    }
   ],
   "source": [
    "query_index(movie_idx, 'delorean')"
   ]
  }
 ],
 "metadata": {
  "kernelspec": {
   "display_name": "Python 3",
   "language": "python",
   "name": "python3"
  },
  "language_info": {
   "codemirror_mode": {
    "name": "ipython",
    "version": 3
   },
   "file_extension": ".py",
   "mimetype": "text/x-python",
   "name": "python",
   "nbconvert_exporter": "python",
   "pygments_lexer": "ipython3",
   "version": "3.11.6"
  }
 },
 "nbformat": 4,
 "nbformat_minor": 2
}
