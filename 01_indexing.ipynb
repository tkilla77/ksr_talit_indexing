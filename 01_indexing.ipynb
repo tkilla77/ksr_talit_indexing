{
 "cells": [
  {
   "cell_type": "markdown",
   "metadata": {},
   "source": [
    "# Information Retrieval & Indexing\n",
    "\n",
    "The goal of _information retrieval_ is to select a small number of results from a much larger _dataset_, according to a _query_. In the case of an internet search engine, the dataset is the collection of all internet pages, and the query is the search terms used to query the engine.\n",
    "\n",
    "The data structure used to quickly find the matching search results is called an **index**.\n",
    "\n",
    "Besides finding all matching elements from the dataset, we typically expect the results to be ordered by some measure, for example by relevance. We will only touch the subject of _ranking_ here, however."
   ]
  },
  {
   "cell_type": "markdown",
   "metadata": {},
   "source": [
    "## Datasets\n",
    "For this tutorial we will use one of three example datasets for testing our code and measuring performance. All cover geographic entities that come with textual information such as their name, but also numeric properties such as their population and coordinates.\n",
    "\n",
    "### Toy Dataset\n",
    "For developing and testing our code, using a small toy dataset can be useful:"
   ]
  },
  {
   "cell_type": "code",
   "execution_count": 1,
   "metadata": {},
   "outputs": [],
   "source": [
    "# Toy dataset\n",
    "thurgau = {\n",
    "    0: {'name': 'Romanshorn', 'population': 11556, 'latitude': 47.56586, 'longitude': 9.37869},\n",
    "    1: {'name': 'Amriswil', 'population': 14313, 'latitude': 47.54814, 'longitude': 9.30327},\n",
    "    2: {'name': 'Arbon', 'population': 15459, 'latitude': 47.51360, 'longitude': 9.42999},\n",
    "    3: {'name': 'Weinfelden', 'population': 11893, 'latitude': 47.56638, 'longitude': 9.10588},\n",
    "    4: {'name': 'Frauenfeld', 'population': 26093, 'latitude': 47.55856, 'longitude': 8.89685},\n",
    "    5: {'name': 'Kreuzlingen', 'population': 22788, 'latitude': 47.645837,'longitude': 9.178608},\n",
    "    6: {'name': 'Egnach', 'population': 4897, 'latitude': 47.54565, 'longitude': 9.37864},\n",
    "}"
   ]
  },
  {
   "cell_type": "markdown",
   "metadata": {},
   "source": [
    "### Data from geonames.org\n",
    "\n",
    "For more serious performance testing, we import two datasets from geonames.org:\n",
    "  * cities500: About 200k localities (towns etc.) from around the world.\n",
    "  * allCountries: About 12M entities (towns, lakes, establishments...)\n",
    "\n",
    "They follow the same layout:\n",
    "\n",
    "From http://download.geonames.org/export/dump/\n",
    "\n",
    "```\n",
    "The main 'geoname' table has the following fields :\n",
    "---------------------------------------------------\n",
    "geonameid         : integer id of record in geonames database\n",
    "name              : name of geographical point (utf8) varchar(200)\n",
    "asciiname         : name of geographical point in plain ascii characters, varchar(200)\n",
    "alternatenames    : alternatenames, comma separated, ascii names automatically transliterated, convenience attribute from alternatename table, varchar(10000)\n",
    "latitude          : latitude in decimal degrees (wgs84)\n",
    "longitude         : longitude in decimal degrees (wgs84)\n",
    "feature class     : see http://www.geonames.org/export/codes.html, char(1)\n",
    "feature code      : see http://www.geonames.org/export/codes.html, varchar(10)\n",
    "country code      : ISO-3166 2-letter country code, 2 characters\n",
    "cc2               : alternate country codes, comma separated, ISO-3166 2-letter country code, 200 characters\n",
    "admin1 code       : fipscode (subject to change to iso code), see exceptions below, see file admin1Codes.txt for display names of this code; varchar(20)\n",
    "admin2 code       : code for the second administrative division, a county in the US, see file admin2Codes.txt; varchar(80) \n",
    "admin3 code       : code for third level administrative division, varchar(20)\n",
    "admin4 code       : code for fourth level administrative division, varchar(20)\n",
    "population        : bigint (8 byte int) \n",
    "elevation         : in meters, integer\n",
    "dem               : digital elevation model, srtm3 or gtopo30, average elevation of 3''x3'' (ca 90mx90m) or 30''x30'' (ca 900mx900m) area in meters, integer. srtm processed by cgiar/ciat.\n",
    "timezone          : the iana timezone id (see file timeZone.txt) varchar(40)\n",
    "modification date : date of last modification in yyyy-MM-dd format\n",
    "```\n",
    "\n",
    "We need to download each of the datasets once:"
   ]
  },
  {
   "cell_type": "code",
   "execution_count": 2,
   "metadata": {},
   "outputs": [],
   "source": [
    "# Download\n",
    "#!curl http://download.geonames.org/export/dump/cities500.zip --output data/cities500.zip\n",
    "#!curl http://download.geonames.org/export/dump/allCountries.zip --output data/allCountries.zip"
   ]
  },
  {
   "cell_type": "markdown",
   "metadata": {},
   "source": [
    "We read the downloaded zip files in CSV format and produce outputs similar to the toy dataset above."
   ]
  },
  {
   "cell_type": "code",
   "execution_count": null,
   "metadata": {},
   "outputs": [],
   "source": [
    "%pip install tqdm\n",
    "%pip install ipywidgets"
   ]
  },
  {
   "cell_type": "code",
   "execution_count": 4,
   "metadata": {},
   "outputs": [
    {
     "data": {
      "application/vnd.jupyter.widget-view+json": {
       "model_id": "6ce747f2f295479faaa2e8ffdfb9bb78",
       "version_major": 2,
       "version_minor": 0
      },
      "text/plain": [
       "cities500: 0it [00:00, ?it/s]"
      ]
     },
     "metadata": {},
     "output_type": "display_data"
    },
    {
     "data": {
      "application/vnd.jupyter.widget-view+json": {
       "model_id": "99eddb73ec4242e0b771fd563f3d1895",
       "version_major": 2,
       "version_minor": 0
      },
      "text/plain": [
       "allCountries: 0it [00:00, ?it/s]"
      ]
     },
     "metadata": {},
     "output_type": "display_data"
    }
   ],
   "source": [
    "from tqdm.auto import tqdm\n",
    "\n",
    "def read_geonames(filename):\n",
    "    \"\"\"Read the given filename and produce a dictionary from geonameid to a dict per entity.\"\"\"\n",
    "    from io import TextIOWrapper\n",
    "    import zipfile\n",
    "    import csv\n",
    "    result = {}\n",
    "    with zipfile.ZipFile(f'data/{filename}.zip') as myzip:\n",
    "        with myzip.open(f'{filename}.txt', 'r') as csv_file:\n",
    "            reader = csv.DictReader(TextIOWrapper(csv_file, 'utf-8'), delimiter='\\t', fieldnames=['geonameid', 'name', 'asciiname', 'alternatenames', 'latitude', 'longitude', 'feature class', 'feature code', 'country code', 'cc2', 'admin1 code', 'admin2 code', 'admin3 code', 'admin4 code', 'population', 'elevation', 'dem', 'timezone', 'modification date'])\n",
    "            for data in tqdm(reader, desc=filename):\n",
    "                result[int(data['geonameid'])] = data\n",
    "\n",
    "    return result\n",
    "\n",
    "cities = read_geonames('cities500')  # 200k\n",
    "all_entities = read_geonames('allCountries')  # 12M\n",
    "places = all_entities"
   ]
  },
  {
   "cell_type": "markdown",
   "metadata": {},
   "source": [
    "### Visualize\n",
    "\n",
    "Print the size and look at the first entry. Refrain from using Pandas as we want to code retrieval ourselves."
   ]
  },
  {
   "cell_type": "code",
   "execution_count": 5,
   "metadata": {},
   "outputs": [
    {
     "name": "stdout",
     "output_type": "stream",
     "text": [
      "12410889\n"
     ]
    },
    {
     "data": {
      "text/plain": [
       "{'geonameid': '2986043',\n",
       " 'name': 'Pic de Font Blanca',\n",
       " 'asciiname': 'Pic de Font Blanca',\n",
       " 'alternatenames': 'Pic de Font Blanca,Pic du Port',\n",
       " 'latitude': '42.64991',\n",
       " 'longitude': '1.53335',\n",
       " 'feature class': 'T',\n",
       " 'feature code': 'PK',\n",
       " 'country code': 'AD',\n",
       " 'cc2': '',\n",
       " 'admin1 code': '00',\n",
       " 'admin2 code': '',\n",
       " 'admin3 code': '',\n",
       " 'admin4 code': '',\n",
       " 'population': '0',\n",
       " 'elevation': '',\n",
       " 'dem': '2860',\n",
       " 'timezone': 'Europe/Andorra',\n",
       " 'modification date': '2014-11-05'}"
      ]
     },
     "execution_count": 5,
     "metadata": {},
     "output_type": "execute_result"
    }
   ],
   "source": [
    "print(len(places))\n",
    "next(iter(places.values()))"
   ]
  },
  {
   "cell_type": "markdown",
   "metadata": {},
   "source": [
    "## Linear Search\n",
    "Let's find Romanshorn in the data - how long does that take? Oh, there is more than one match in the `places` database!\n",
    "\n",
    "Notes:\n",
    "  * we can use the `tqdm` library to provide nice progress bars for long-running code.\n",
    "  * alternatively, use the `%time` jupyter magic to measure the time it takes (only within jupyter)."
   ]
  },
  {
   "cell_type": "code",
   "execution_count": 14,
   "metadata": {},
   "outputs": [
    {
     "data": {
      "application/vnd.jupyter.widget-view+json": {
       "model_id": "e35e41cfb96a4161877f3e5ee33455f6",
       "version_major": 2,
       "version_minor": 0
      },
      "text/plain": [
       "  0%|          | 0/199727 [00:00<?, ?it/s]"
      ]
     },
     "metadata": {},
     "output_type": "display_data"
    },
    {
     "name": "stdout",
     "output_type": "stream",
     "text": [
      "{'geonameid': '2658985', 'name': 'Romanshorn', 'asciiname': 'Romanshorn', 'alternatenames': 'Romanshorn,Romanskhorn,luo man si huo en,Романсхорн,羅曼斯霍恩', 'latitude': '47.56586', 'longitude': '9.37869', 'feature class': 'P', 'feature code': 'PPLA3', 'country code': 'CH', 'cc2': '', 'admin1 code': 'TG', 'admin2 code': '2011', 'admin3 code': '4436', 'admin4 code': '', 'population': '8956', 'elevation': '', 'dem': '401', 'timezone': 'Europe/Zurich', 'modification date': '2013-04-02'}\n",
      "CPU times: user 45.4 ms, sys: 134 ms, total: 179 ms\n",
      "Wall time: 590 ms\n"
     ]
    }
   ],
   "source": [
    "from tqdm.auto import tqdm\n",
    "\n",
    "def lin_search(db, attribute, query):\n",
    "    \"\"\"Linear search through db, looking for entities with an attribute equal to query.\"\"\"\n",
    "    for town in tqdm(db.values()):\n",
    "        if town[attribute] == query:\n",
    "            yield town\n",
    "\n",
    "%time for result in lin_search(cities, \"name\", \"Romanshorn\"): print(result)"
   ]
  },
  {
   "cell_type": "markdown",
   "metadata": {},
   "source": [
    "## Direct Lookup\n",
    "\n",
    "When reading the data, we conveniently recorded a dictionary with the `geonameid` as key. If we know it, lookup is quick.\n",
    "\n",
    "Note the use of the `%%timeit` magic which runs the line of code many times to accurately measure how long it takes (only within jupyter)."
   ]
  },
  {
   "cell_type": "code",
   "execution_count": 7,
   "metadata": {},
   "outputs": [
    {
     "name": "stdout",
     "output_type": "stream",
     "text": [
      "21.6 ns ± 0.265 ns per loop (mean ± std. dev. of 7 runs, 10,000,000 loops each)\n",
      "{'geonameid': '11963382', 'name': 'Romanshorn', 'asciiname': 'Romanshorn', 'alternatenames': '8506121,RH,Romanshorn', 'latitude': '47.56553', 'longitude': '9.37936', 'feature class': 'S', 'feature code': 'RSTN', 'country code': 'CH', 'cc2': '', 'admin1 code': 'TG', 'admin2 code': '2011', 'admin3 code': '4436', 'admin4 code': '', 'population': '0', 'elevation': '', 'dem': '398', 'timezone': 'Europe/Zurich', 'modification date': '2018-11-05'}\n"
     ]
    }
   ],
   "source": [
    "%timeit result = places[2658985]\n",
    "print(result)"
   ]
  },
  {
   "cell_type": "markdown",
   "metadata": {},
   "source": [
    "## Secondary Index\n",
    "\n",
    "We want fast lookups for place name, we can create a _secondary index_: a dictionary that maps from place name to the primary, unique key (geonameid). The dictionary values are _sets_ of ids."
   ]
  },
  {
   "cell_type": "code",
   "execution_count": 19,
   "metadata": {},
   "outputs": [
    {
     "data": {
      "application/vnd.jupyter.widget-view+json": {
       "model_id": "fd41cc9ba85f4123834a00bb1ce04ee4",
       "version_major": 2,
       "version_minor": 0
      },
      "text/plain": [
       "  0%|          | 0/12410889 [00:00<?, ?it/s]"
      ]
     },
     "metadata": {},
     "output_type": "display_data"
    },
    {
     "name": "stdout",
     "output_type": "stream",
     "text": [
      "CPU times: user 20 s, sys: 1min 1s, total: 1min 21s\n",
      "Wall time: 2min 23s\n"
     ]
    }
   ],
   "source": [
    "from tqdm.auto import tqdm\n",
    "\n",
    "def build_attribute_index(dataset, attribute):\n",
    "    index = {}\n",
    "    for id, entity in tqdm(dataset.items()):\n",
    "        # matching_places = None\n",
    "        # if town['name'] in name_idx:\n",
    "        #     matching_places = name_idx[town['name']]\n",
    "        # else:\n",
    "        #     matching_places = set()\n",
    "        #     name_idx[town['name']] = matching_places\n",
    "        # matching_places.add(id)\n",
    "\n",
    "        # setdefault retrieves the value for key or adds\n",
    "        # the given default value if the key does not exist.\n",
    "        index.setdefault(entity[attribute], set()).add(id)\n",
    "    return index\n",
    "\n",
    "def index_search(dataset, idx, query):\n",
    "    \"\"\"Search using the secondary index 'idx', then look up the entity in the dataset.\"\"\"\n",
    "    for id in idx[query]:\n",
    "        yield dataset[id]\n",
    "\n",
    "%time name_idx = build_attribute_index(places, 'name')\n"
   ]
  },
  {
   "cell_type": "code",
   "execution_count": 18,
   "metadata": {},
   "outputs": [
    {
     "data": {
      "text/plain": [
       "{0: {'name': 'Romanshorn',\n",
       "  'population': 11556,\n",
       "  'latitude': 47.56586,\n",
       "  'longitude': 9.37869},\n",
       " 1: {'name': 'Amriswil',\n",
       "  'population': 14313,\n",
       "  'latitude': 47.54814,\n",
       "  'longitude': 9.30327},\n",
       " 2: {'name': 'Arbon',\n",
       "  'population': 15459,\n",
       "  'latitude': 47.5136,\n",
       "  'longitude': 9.42999},\n",
       " 3: {'name': 'Weinfelden',\n",
       "  'population': 11893,\n",
       "  'latitude': 47.56638,\n",
       "  'longitude': 9.10588},\n",
       " 4: {'name': 'Frauenfeld',\n",
       "  'population': 26093,\n",
       "  'latitude': 47.55856,\n",
       "  'longitude': 8.89685},\n",
       " 5: {'name': 'Frauenfeld',\n",
       "  'population': 22788,\n",
       "  'latitude': 47.645837,\n",
       "  'longitude': 9.178608},\n",
       " 6: {'name': 'Egnach',\n",
       "  'population': 4897,\n",
       "  'latitude': 47.54565,\n",
       "  'longitude': 9.37864}}"
      ]
     },
     "execution_count": 18,
     "metadata": {},
     "output_type": "execute_result"
    }
   ],
   "source": [
    "thurgau"
   ]
  },
  {
   "cell_type": "code",
   "execution_count": 17,
   "metadata": {},
   "outputs": [
    {
     "data": {
      "text/plain": [
       "{'Romanshorn': {0},\n",
       " 'Amriswil': {1},\n",
       " 'Arbon': {2},\n",
       " 'Weinfelden': {3},\n",
       " 'Frauenfeld': {4, 5},\n",
       " 'Egnach': {6}}"
      ]
     },
     "execution_count": 17,
     "metadata": {},
     "output_type": "execute_result"
    }
   ],
   "source": [
    "name_idx"
   ]
  },
  {
   "cell_type": "markdown",
   "metadata": {},
   "source": [
    "Index creation takes a long time, but lookup is instant compared to the long time with linear search."
   ]
  },
  {
   "cell_type": "code",
   "execution_count": 20,
   "metadata": {},
   "outputs": [
    {
     "name": "stdout",
     "output_type": "stream",
     "text": [
      "CPU times: user 12 µs, sys: 160 µs, total: 172 µs\n",
      "Wall time: 460 µs\n",
      "{'geonameid': '2658985', 'name': 'Romanshorn', 'asciiname': 'Romanshorn', 'alternatenames': 'Romanshorn,Romanskhorn,luo man si huo en,Романсхорн,羅曼斯霍恩', 'latitude': '47.56586', 'longitude': '9.37869', 'feature class': 'P', 'feature code': 'PPLA3', 'country code': 'CH', 'cc2': '', 'admin1 code': 'TG', 'admin2 code': '2011', 'admin3 code': '4436', 'admin4 code': '', 'population': '8956', 'elevation': '', 'dem': '401', 'timezone': 'Europe/Zurich', 'modification date': '2013-04-02'}\n",
      "{'geonameid': '7286940', 'name': 'Romanshorn', 'asciiname': 'Romanshorn', 'alternatenames': 'CH4436', 'latitude': '47.56354', 'longitude': '9.35639', 'feature class': 'A', 'feature code': 'ADM3', 'country code': 'CH', 'cc2': '', 'admin1 code': 'TG', 'admin2 code': '2011', 'admin3 code': '4436', 'admin4 code': '', 'population': '11269', 'elevation': '', 'dem': '428', 'timezone': 'Europe/Zurich', 'modification date': '2021-12-03'}\n",
      "{'geonameid': '11963382', 'name': 'Romanshorn', 'asciiname': 'Romanshorn', 'alternatenames': '8506121,RH,Romanshorn', 'latitude': '47.56553', 'longitude': '9.37936', 'feature class': 'S', 'feature code': 'RSTN', 'country code': 'CH', 'cc2': '', 'admin1 code': 'TG', 'admin2 code': '2011', 'admin3 code': '4436', 'admin4 code': '', 'population': '0', 'elevation': '', 'dem': '398', 'timezone': 'Europe/Zurich', 'modification date': '2018-11-05'}\n"
     ]
    }
   ],
   "source": [
    "%time results = list(index_search(places, name_idx, \"Romanshorn\"))\n",
    "for place in results: print(place)"
   ]
  },
  {
   "cell_type": "markdown",
   "metadata": {},
   "source": [
    "## Range Queries\n",
    "\n",
    "We want to find all towns with a population between 10M and 15M, but avoid a costly linear pass.\n",
    "\n",
    "Solution: use a lists of (population, geonameid) tuples, sorted by population. Using binary search, we can find the boundaries for the requested range."
   ]
  },
  {
   "cell_type": "code",
   "execution_count": 13,
   "metadata": {},
   "outputs": [
    {
     "data": {
      "application/vnd.jupyter.widget-view+json": {
       "model_id": "d9418b1159a84481b10c4068a649c8ea",
       "version_major": 2,
       "version_minor": 0
      },
      "text/plain": [
       "  0%|          | 0/12410889 [00:00<?, ?it/s]"
      ]
     },
     "metadata": {},
     "output_type": "display_data"
    },
    {
     "name": "stdout",
     "output_type": "stream",
     "text": [
      "CPU times: user 3.14 s, sys: 4.19 s, total: 7.33 s\n",
      "Wall time: 14.2 s\n"
     ]
    }
   ],
   "source": [
    "from tqdm.auto import tqdm\n",
    "\n",
    "# Create the index.\n",
    "def build_integer_range_index(dataset, attribute):\n",
    "    index = []\n",
    "    for id, entity in tqdm(dataset.items()):\n",
    "        # Only include entities that specify a population (no mountains and lakes, please)\n",
    "        try:\n",
    "            value = int(entity[attribute])\n",
    "            if value > 0:\n",
    "                index.append((value, id))\n",
    "        except ValueError:\n",
    "            pass\n",
    "    index.sort()  # Sort first by population, then id\n",
    "    return index\n",
    "\n",
    "\n",
    "def query_numeric_index(dataset, idx, lower, upper):\n",
    "    # Use bisect instead of implementing binary search ourselves:\n",
    "    import bisect\n",
    "    # Use operator.itemgetter(0) to extract the population from the (pop, id) tuple.\n",
    "    import operator\n",
    "\n",
    "    # The index of the smallest entity in idx greater or equal than lower.\n",
    "    lower_index = bisect.bisect_left(idx, lower, key=operator.itemgetter(0))\n",
    "    # The index of the smallest entity in population_idx greater than upper.\n",
    "    upper_index = bisect.bisect_right(idx, upper, key=operator.itemgetter(0))\n",
    "    for index_key in range(lower_index, upper_index):\n",
    "        yield dataset[idx[index_key][1]]\n",
    "\n",
    "%time population_idx = build_integer_range_index(places, 'population')"
   ]
  },
  {
   "cell_type": "markdown",
   "metadata": {},
   "source": [
    "Again, building the index takes a long time, but querying is instant."
   ]
  },
  {
   "cell_type": "code",
   "execution_count": 25,
   "metadata": {},
   "outputs": [
    {
     "name": "stdout",
     "output_type": "stream",
     "text": [
      "CPU times: user 150 µs, sys: 28 µs, total: 178 µs\n",
      "Wall time: 216 µs\n",
      "Seoul 10349312\n",
      "Dhaka 10356500\n",
      "Moscow 10381222\n",
      "Wuhan 10392693\n",
      "Delhi 10927986\n",
      "Tianjin 11090314\n",
      "Karachi 11624219\n",
      "Mexico City 12294193\n",
      "São Paulo 12400232\n",
      "Mumbai 12691836\n",
      "Chengdu 13568357\n",
      "Istanbul 14804116\n"
     ]
    }
   ],
   "source": [
    "%time results = list(query_numeric_index(places, population_idx, 10e6, 15e6))\n",
    "for place in results:\n",
    "    # Only report places, not countries or administrative areas.\n",
    "    if place['feature class'] == 'P':\n",
    "        print(place['name'], place['population'])"
   ]
  }
 ],
 "metadata": {
  "kernelspec": {
   "display_name": "Python 3",
   "language": "python",
   "name": "python3"
  },
  "language_info": {
   "codemirror_mode": {
    "name": "ipython",
    "version": 3
   },
   "file_extension": ".py",
   "mimetype": "text/x-python",
   "name": "python",
   "nbconvert_exporter": "python",
   "pygments_lexer": "ipython3",
   "version": "3.11.6"
  },
  "orig_nbformat": 4
 },
 "nbformat": 4,
 "nbformat_minor": 2
}
