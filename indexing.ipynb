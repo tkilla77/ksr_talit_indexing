{
 "cells": [
  {
   "cell_type": "markdown",
   "metadata": {},
   "source": [
    "# Indexing"
   ]
  },
  {
   "cell_type": "markdown",
   "metadata": {},
   "source": [
    "## Direct Indexing"
   ]
  },
  {
   "cell_type": "markdown",
   "metadata": {},
   "source": [
    "## Example Data from geonames\n",
    "\n",
    "From http://download.geonames.org/export/dump/\n",
    "\n",
    "```\n",
    "The main 'geoname' table has the following fields :\n",
    "---------------------------------------------------\n",
    "geonameid         : integer id of record in geonames database\n",
    "name              : name of geographical point (utf8) varchar(200)\n",
    "asciiname         : name of geographical point in plain ascii characters, varchar(200)\n",
    "alternatenames    : alternatenames, comma separated, ascii names automatically transliterated, convenience attribute from alternatename table, varchar(10000)\n",
    "latitude          : latitude in decimal degrees (wgs84)\n",
    "longitude         : longitude in decimal degrees (wgs84)\n",
    "feature class     : see http://www.geonames.org/export/codes.html, char(1)\n",
    "feature code      : see http://www.geonames.org/export/codes.html, varchar(10)\n",
    "country code      : ISO-3166 2-letter country code, 2 characters\n",
    "cc2               : alternate country codes, comma separated, ISO-3166 2-letter country code, 200 characters\n",
    "admin1 code       : fipscode (subject to change to iso code), see exceptions below, see file admin1Codes.txt for display names of this code; varchar(20)\n",
    "admin2 code       : code for the second administrative division, a county in the US, see file admin2Codes.txt; varchar(80) \n",
    "admin3 code       : code for third level administrative division, varchar(20)\n",
    "admin4 code       : code for fourth level administrative division, varchar(20)\n",
    "population        : bigint (8 byte int) \n",
    "elevation         : in meters, integer\n",
    "dem               : digital elevation model, srtm3 or gtopo30, average elevation of 3''x3'' (ca 90mx90m) or 30''x30'' (ca 900mx900m) area in meters, integer. srtm processed by cgiar/ciat.\n",
    "timezone          : the iana timezone id (see file timeZone.txt) varchar(40)\n",
    "modification date : date of last modification in yyyy-MM-dd format\n",
    "```\n",
    "\n"
   ]
  },
  {
   "cell_type": "code",
   "execution_count": 3,
   "metadata": {},
   "outputs": [],
   "source": [
    "# Download\n",
    "#!curl http://download.geonames.org/export/dump/allCountries.zip --output data/allCountries.zip\n"
   ]
  },
  {
   "cell_type": "code",
   "execution_count": 4,
   "metadata": {},
   "outputs": [],
   "source": [
    "\n",
    "def read_geonames(filename):\n",
    "    from io import TextIOWrapper\n",
    "    import zipfile\n",
    "    import csv\n",
    "    result = {}\n",
    "    with zipfile.ZipFile(f'data/{filename}.zip') as myzip:\n",
    "        with myzip.open(f'{filename}.txt', 'r') as csv_file:\n",
    "            reader = csv.DictReader(TextIOWrapper(csv_file, 'utf-8'), delimiter='\\t', fieldnames=['geonameid', 'name', 'asciiname', 'alternatenames', 'latitude', 'longitude', 'feature class', 'feature code', 'country code', 'cc2', 'admin1 code', 'admin2 code', 'admin3 code', 'admin4 code', 'population', 'elevation', 'dem', 'timezone', 'modification date'])\n",
    "            for data in reader:\n",
    "                result[int(data['geonameid'])] = data\n",
    "\n",
    "    return result\n",
    "\n",
    "cities = read_geonames('cities500')  # Use this if you don't want to wait too long...\n",
    "places = read_geonames('allCountries')"
   ]
  },
  {
   "cell_type": "markdown",
   "metadata": {},
   "source": [
    "## Visualize\n",
    "\n",
    "Print the size and look at the first entry. Refrain from using Pandas as we want to code retrieval ourselves."
   ]
  },
  {
   "cell_type": "code",
   "execution_count": 5,
   "metadata": {},
   "outputs": [
    {
     "name": "stdout",
     "output_type": "stream",
     "text": [
      "12410889\n"
     ]
    },
    {
     "data": {
      "text/plain": [
       "{'geonameid': '2986043',\n",
       " 'name': 'Pic de Font Blanca',\n",
       " 'asciiname': 'Pic de Font Blanca',\n",
       " 'alternatenames': 'Pic de Font Blanca,Pic du Port',\n",
       " 'latitude': '42.64991',\n",
       " 'longitude': '1.53335',\n",
       " 'feature class': 'T',\n",
       " 'feature code': 'PK',\n",
       " 'country code': 'AD',\n",
       " 'cc2': '',\n",
       " 'admin1 code': '00',\n",
       " 'admin2 code': '',\n",
       " 'admin3 code': '',\n",
       " 'admin4 code': '',\n",
       " 'population': '0',\n",
       " 'elevation': '',\n",
       " 'dem': '2860',\n",
       " 'timezone': 'Europe/Andorra',\n",
       " 'modification date': '2014-11-05'}"
      ]
     },
     "execution_count": 5,
     "metadata": {},
     "output_type": "execute_result"
    }
   ],
   "source": [
    "print(len(places))\n",
    "next(iter(places.values()))"
   ]
  },
  {
   "cell_type": "markdown",
   "metadata": {},
   "source": [
    "## Lookup\n",
    "Let's find London in the data - oh, we have more than one?"
   ]
  },
  {
   "cell_type": "code",
   "execution_count": 6,
   "metadata": {},
   "outputs": [
    {
     "name": "stdout",
     "output_type": "stream",
     "text": [
      "{'geonameid': '3581797', 'name': 'London', 'asciiname': 'London', 'alternatenames': '', 'latitude': '17.98333', 'longitude': '-88.43333', 'feature class': 'P', 'feature code': 'PPL', 'country code': 'BZ', 'cc2': '', 'admin1 code': '04', 'admin2 code': '', 'admin3 code': '', 'admin4 code': '', 'population': '0', 'elevation': '', 'dem': '15', 'timezone': 'America/Belize', 'modification date': '1993-12-18'}\n",
      "{'geonameid': '6058559', 'name': 'London', 'asciiname': 'London', 'alternatenames': '', 'latitude': '43.08339', 'longitude': '-81.29975', 'feature class': 'L', 'feature code': 'AREA', 'country code': 'CA', 'cc2': '', 'admin1 code': '08', 'admin2 code': '', 'admin3 code': '', 'admin4 code': '', 'population': '0', 'elevation': '', 'dem': '281', 'timezone': 'America/Toronto', 'modification date': '2006-01-18'}\n",
      "{'geonameid': '6058560', 'name': 'London', 'asciiname': 'London', 'alternatenames': 'Landona,London,Londonas,Londono,YXU,leondeon,lndn,lndn  antaryw,londoni,lun dui,lun dun,lwndwn,rondon,Лондон,לונדון,لندن,لندن، انتاریو,لندن، اونٹاریو,ლონდონი,ロンドン,伦敦,런던', 'latitude': '42.98339', 'longitude': '-81.23304', 'feature class': 'P', 'feature code': 'PPL', 'country code': 'CA', 'cc2': '', 'admin1 code': '08', 'admin2 code': '', 'admin3 code': '', 'admin4 code': '', 'population': '346765', 'elevation': '', 'dem': '252', 'timezone': 'America/Toronto', 'modification date': '2012-08-19'}\n",
      "{'geonameid': '2661811', 'name': 'London', 'asciiname': 'London', 'alternatenames': \"Allondon,Allondon River,L'Allondon,La London Riviere,La London Rivière,London\", 'latitude': '46.16667', 'longitude': '6.01667', 'feature class': 'H', 'feature code': 'STM', 'country code': 'FR', 'cc2': '', 'admin1 code': '00', 'admin2 code': '', 'admin3 code': '', 'admin4 code': '', 'population': '0', 'elevation': '', 'dem': '427', 'timezone': 'Europe/Paris', 'modification date': '2021-06-03'}\n",
      "{'geonameid': '6474424', 'name': 'London', 'asciiname': 'London', 'alternatenames': '', 'latitude': '48.8715', 'longitude': '2.337', 'feature class': 'S', 'feature code': 'HTL', 'country code': 'FR', 'cc2': '', 'admin1 code': '11', 'admin2 code': '75', 'admin3 code': '751', 'admin4 code': '75056', 'population': '0', 'elevation': '', 'dem': '51', 'timezone': 'Europe/Paris', 'modification date': '2016-02-18'}\n",
      "{'geonameid': '2643743', 'name': 'London', 'asciiname': 'London', 'alternatenames': 'ILondon,LON,Lakana,Landan,Landen,Ljondan,Llundain,Lodoni,Londain,Londan,Londar,Londe,Londen,Londin,Londinium,Londino,Londn,London,London osh,Londona,Londonas,Londoni,Londono,Londons,Londonu,Londra,Londres,Londrez,Londri,Londro,Londye,Londyn,Londýn,Lonn,Lontoo,Loundres,Luan GJon,Lun-tun,Lunden,Lundra,Lundun,Lundunir,Lundúnir,Lung-dung,Lunnainn,Lunnin,Lunnon,Luân Đôn,Lùn-tûn,Lùng-dŭng,Lûn-tun,Lākana,Lůndůn,Lọndọnu,Ranana,Rānana,ilantan,ladana,landan,landana,leondeon,lndn,london,londoni,lun dui,lun dun,lwndwn,lxndxn,rondon,Łondra,Λονδίνο,Лондан,Лондон,Лондон ош,Лондонъ,Лёндан,Լոնդոն,לאנדאן,לונדון,لأندأن,لندن,لوندون,لەندەن,ܠܘܢܕܘܢ,लंडन,लंदन,लण्डन,लन्डन्,लन्दन,লন্ডন,ਲੰਡਨ,લંડન,ଲଣ୍ଡନ,இலண்டன்,లండన్,ಲಂಡನ್,ലണ്ടൻ,ලන්ඩන්,ลอนดอน,ລອນດອນ,ལོན་ཊོན།,လန်ဒန်မြို့,ლონდონი,ለንደን,ᎫᎴ ᏗᏍᎪᏂᎯᏱ,ロンドン,伦敦,倫敦,런던', 'latitude': '51.50853', 'longitude': '-0.12574', 'feature class': 'P', 'feature code': 'PPLC', 'country code': 'GB', 'cc2': '', 'admin1 code': 'ENG', 'admin2 code': 'GLA', 'admin3 code': '', 'admin4 code': '', 'population': '8961989', 'elevation': '', 'dem': '25', 'timezone': 'Europe/London', 'modification date': '2022-03-09'}\n",
      "{'geonameid': '11591955', 'name': 'London', 'asciiname': 'London', 'alternatenames': 'Central London,London', 'latitude': '51.49227', 'longitude': '-0.30864', 'feature class': 'L', 'feature code': 'RGN', 'country code': 'GB', 'cc2': '', 'admin1 code': 'ENG', 'admin2 code': '', 'admin3 code': '', 'admin4 code': '', 'population': '8787892', 'elevation': '', 'dem': '16', 'timezone': 'Europe/London', 'modification date': '2019-03-08'}\n",
      "{'geonameid': '11876643', 'name': 'London', 'asciiname': 'London', 'alternatenames': '', 'latitude': '51.50654', 'longitude': '-0.08476', 'feature class': 'H', 'feature code': 'HBR', 'country code': 'GB', 'cc2': '', 'admin1 code': 'ENG', 'admin2 code': 'GLA', 'admin3 code': 'M8', 'admin4 code': '', 'population': '0', 'elevation': '', 'dem': '3', 'timezone': 'Europe/London', 'modification date': '2018-06-10'}\n",
      "{'geonameid': '11546715', 'name': 'London', 'asciiname': 'London', 'alternatenames': 'London', 'latitude': '16.26487', 'longitude': '-61.48832', 'feature class': 'P', 'feature code': 'PPL', 'country code': 'GP', 'cc2': '', 'admin1 code': '00', 'admin2 code': '', 'admin3 code': '', 'admin4 code': '', 'population': '0', 'elevation': '', 'dem': '31', 'timezone': 'America/Guadeloupe', 'modification date': '2017-05-09'}\n",
      "{'geonameid': '2308696', 'name': 'London', 'asciiname': 'London', 'alternatenames': 'London,Londone', 'latitude': '2.26815', 'longitude': '9.78934', 'feature class': 'P', 'feature code': 'PPL', 'country code': 'GQ', 'cc2': '', 'admin1 code': '00', 'admin2 code': '', 'admin3 code': '', 'admin4 code': '', 'population': '0', 'elevation': '', 'dem': '-9999', 'timezone': 'Africa/Malabo', 'modification date': '2020-02-29'}\n",
      "{'geonameid': '9611218', 'name': 'London', 'asciiname': 'London', 'alternatenames': '', 'latitude': '45.50284', 'longitude': '12.63388', 'feature class': 'S', 'feature code': 'HTL', 'country code': 'IT', 'cc2': '', 'admin1 code': '20', 'admin2 code': 'VE', 'admin3 code': '027019', 'admin4 code': '', 'population': '0', 'elevation': '', 'dem': '2', 'timezone': 'Europe/Rome', 'modification date': '2014-09-26'}\n",
      "{'geonameid': '9955284', 'name': 'London', 'asciiname': 'London', 'alternatenames': '', 'latitude': '45.46727', 'longitude': '9.18444', 'feature class': 'S', 'feature code': 'HTL', 'country code': 'IT', 'cc2': '', 'admin1 code': '09', 'admin2 code': 'MI', 'admin3 code': '015146', 'admin4 code': '1', 'population': '0', 'elevation': '', 'dem': '133', 'timezone': 'Europe/Rome', 'modification date': '2019-07-24'}\n",
      "{'geonameid': '10293491', 'name': 'London', 'asciiname': 'London', 'alternatenames': '', 'latitude': '43.86879', 'longitude': '10.24269', 'feature class': 'S', 'feature code': 'HTL', 'country code': 'IT', 'cc2': '', 'admin1 code': '16', 'admin2 code': 'LU', 'admin3 code': '046033', 'admin4 code': '', 'population': '0', 'elevation': '', 'dem': '5', 'timezone': 'Europe/Rome', 'modification date': '2015-05-29'}\n",
      "{'geonameid': '2331921', 'name': 'London', 'asciiname': 'London', 'alternatenames': 'London', 'latitude': '5.72349', 'longitude': '5.78761', 'feature class': 'P', 'feature code': 'PPL', 'country code': 'NG', 'cc2': '', 'admin1 code': '36', 'admin2 code': '10013', 'admin3 code': '', 'admin4 code': '', 'population': '0', 'elevation': '', 'dem': '20', 'timezone': 'Africa/Lagos', 'modification date': '2016-11-22'}\n",
      "{'geonameid': '9499471', 'name': 'London', 'asciiname': 'London', 'alternatenames': 'London', 'latitude': '60.02058', 'longitude': '10.00489', 'feature class': 'S', 'feature code': 'FRM', 'country code': 'NO', 'cc2': '', 'admin1 code': '30', 'admin2 code': '3047', 'admin3 code': '', 'admin4 code': '', 'population': '0', 'elevation': '', 'dem': '140', 'timezone': 'Europe/Oslo', 'modification date': '2019-12-12'}\n",
      "{'geonameid': '1705729', 'name': 'London', 'asciiname': 'London', 'alternatenames': '', 'latitude': '6.00972', 'longitude': '125.12944', 'feature class': 'P', 'feature code': 'PPL', 'country code': 'PH', 'cc2': '', 'admin1 code': '12', 'admin2 code': '70', 'admin3 code': '126303000', 'admin4 code': '', 'population': '0', 'elevation': '', 'dem': '14', 'timezone': 'Asia/Manila', 'modification date': '2017-12-13'}\n",
      "{'geonameid': '8610073', 'name': 'London', 'asciiname': 'London', 'alternatenames': '', 'latitude': '14.3467', 'longitude': '120.93517', 'feature class': 'R', 'feature code': 'ST', 'country code': 'PH', 'cc2': '', 'admin1 code': '40', 'admin2 code': '20', 'admin3 code': '042106000', 'admin4 code': '', 'population': '0', 'elevation': '', 'dem': '56', 'timezone': 'Asia/Manila', 'modification date': '2017-12-13'}\n",
      "{'geonameid': '8610441', 'name': 'London', 'asciiname': 'London', 'alternatenames': '', 'latitude': '14.32737', 'longitude': '120.97552', 'feature class': 'R', 'feature code': 'ST', 'country code': 'PH', 'cc2': '', 'admin1 code': '40', 'admin2 code': '20', 'admin3 code': '042106000', 'admin4 code': '', 'population': '0', 'elevation': '', 'dem': '113', 'timezone': 'Asia/Manila', 'modification date': '2017-12-13'}\n",
      "{'geonameid': '8610604', 'name': 'London', 'asciiname': 'London', 'alternatenames': '', 'latitude': '14.32306', 'longitude': '120.95167', 'feature class': 'R', 'feature code': 'ST', 'country code': 'PH', 'cc2': '', 'admin1 code': '40', 'admin2 code': '20', 'admin3 code': '042106000', 'admin4 code': '', 'population': '0', 'elevation': '', 'dem': '101', 'timezone': 'Asia/Manila', 'modification date': '2017-12-13'}\n",
      "{'geonameid': '2729913', 'name': 'London', 'asciiname': 'London', 'alternatenames': '', 'latitude': '78.96336', 'longitude': '12.09026', 'feature class': 'S', 'feature code': 'CMP', 'country code': 'SJ', 'cc2': '', 'admin1 code': '00', 'admin2 code': '', 'admin3 code': '', 'admin4 code': '', 'population': '0', 'elevation': '', 'dem': '-9999', 'timezone': 'Arctic/Longyearbyen', 'modification date': '2011-04-18'}\n",
      "{'geonameid': '2406961', 'name': 'London', 'asciiname': 'London', 'alternatenames': 'Lomabu,London', 'latitude': '8.31068', 'longitude': '-10.78731', 'feature class': 'P', 'feature code': 'PPL', 'country code': 'SL', 'cc2': '', 'admin1 code': '01', 'admin2 code': '', 'admin3 code': '', 'admin4 code': '', 'population': '0', 'elevation': '', 'dem': '239', 'timezone': 'Africa/Freetown', 'modification date': '2014-12-03'}\n",
      "{'geonameid': '9876172', 'name': 'London', 'asciiname': 'London', 'alternatenames': 'London', 'latitude': '7.65137', 'longitude': '-12.00293', 'feature class': 'P', 'feature code': 'PPL', 'country code': 'SL', 'cc2': '', 'admin1 code': '03', 'admin2 code': '', 'admin3 code': '', 'admin4 code': '', 'population': '0', 'elevation': '', 'dem': '27', 'timezone': 'Africa/Freetown', 'modification date': '2014-12-04'}\n",
      "{'geonameid': '10009591', 'name': 'London', 'asciiname': 'London', 'alternatenames': 'London', 'latitude': '8.60002', 'longitude': '-10.84547', 'feature class': 'P', 'feature code': 'PPL', 'country code': 'SL', 'cc2': '', 'admin1 code': '01', 'admin2 code': '', 'admin3 code': '', 'admin4 code': '', 'population': '0', 'elevation': '', 'dem': '458', 'timezone': 'Africa/Freetown', 'modification date': '2015-02-08'}\n",
      "{'geonameid': '4073570', 'name': 'London', 'asciiname': 'London', 'alternatenames': '', 'latitude': '31.29767', 'longitude': '-87.08775', 'feature class': 'P', 'feature code': 'PPL', 'country code': 'US', 'cc2': '', 'admin1 code': 'AL', 'admin2 code': '035', 'admin3 code': '', 'admin4 code': '', 'population': '0', 'elevation': '83', 'dem': '88', 'timezone': 'America/Chicago', 'modification date': '2006-01-15'}\n",
      "{'geonameid': '4073571', 'name': 'London', 'asciiname': 'London', 'alternatenames': '', 'latitude': '32.2732', 'longitude': '-86.05024', 'feature class': 'P', 'feature code': 'PPL', 'country code': 'US', 'cc2': '', 'admin1 code': 'AL', 'admin2 code': '101', 'admin3 code': '', 'admin4 code': '', 'population': '0', 'elevation': '83', 'dem': '89', 'timezone': 'America/Chicago', 'modification date': '2006-01-15'}\n",
      "{'geonameid': '4119617', 'name': 'London', 'asciiname': 'London', 'alternatenames': 'Haddoxburg,London', 'latitude': '35.32897', 'longitude': '-93.25296', 'feature class': 'P', 'feature code': 'PPL', 'country code': 'US', 'cc2': '', 'admin1 code': 'AR', 'admin2 code': '115', 'admin3 code': '90813', 'admin4 code': '', 'population': '1046', 'elevation': '116', 'dem': '121', 'timezone': 'America/Chicago', 'modification date': '2017-05-23'}\n",
      "{'geonameid': '4260673', 'name': 'London', 'asciiname': 'London', 'alternatenames': '', 'latitude': '39.6256', 'longitude': '-85.92026', 'feature class': 'P', 'feature code': 'PPL', 'country code': 'US', 'cc2': '', 'admin1 code': 'IN', 'admin2 code': '145', 'admin3 code': '50994', 'admin4 code': '', 'population': '0', 'elevation': '240', 'dem': '242', 'timezone': 'America/Indiana/Indianapolis', 'modification date': '2017-05-23'}\n",
      "{'geonameid': '4298960', 'name': 'London', 'asciiname': 'London', 'alternatenames': 'LOZ,Landon,London,Riceton,lndn,lndn  kntaky,lun dui,Ландон,Лондон,لندن,لندن، کنتاکی,伦敦', 'latitude': '37.12898', 'longitude': '-84.08326', 'feature class': 'P', 'feature code': 'PPLA2', 'country code': 'US', 'cc2': '', 'admin1 code': 'KY', 'admin2 code': '125', 'admin3 code': '', 'admin4 code': '', 'population': '8126', 'elevation': '378', 'dem': '379', 'timezone': 'America/New_York', 'modification date': '2017-03-09'}\n",
      "{'geonameid': '4517009', 'name': 'London', 'asciiname': 'London', 'alternatenames': 'Landon,Limerick,London,New London,lndn,lndn  awhayw,Ландон,لندن,لندن، اوهایو', 'latitude': '39.88645', 'longitude': '-83.44825', 'feature class': 'P', 'feature code': 'PPLA2', 'country code': 'US', 'cc2': '', 'admin1 code': 'OH', 'admin2 code': '097', 'admin3 code': '44674', 'admin4 code': '', 'population': '10060', 'elevation': '321', 'dem': '321', 'timezone': 'America/New_York', 'modification date': '2017-05-23'}\n",
      "{'geonameid': '4637795', 'name': 'London', 'asciiname': 'London', 'alternatenames': '', 'latitude': '35.86982', 'longitude': '-83.00209', 'feature class': 'P', 'feature code': 'PPL', 'country code': 'US', 'cc2': '', 'admin1 code': 'TN', 'admin2 code': '029', 'admin3 code': '', 'admin4 code': '', 'population': '0', 'elevation': '443', 'dem': '451', 'timezone': 'America/New_York', 'modification date': '2006-01-15'}\n",
      "{'geonameid': '4707414', 'name': 'London', 'asciiname': 'London', 'alternatenames': '', 'latitude': '30.67685', 'longitude': '-99.57645', 'feature class': 'P', 'feature code': 'PPL', 'country code': 'US', 'cc2': '', 'admin1 code': 'TX', 'admin2 code': '267', 'admin3 code': '', 'admin4 code': '', 'population': '180', 'elevation': '519', 'dem': '521', 'timezone': 'America/Chicago', 'modification date': '2018-07-30'}\n",
      "{'geonameid': '4707415', 'name': 'London', 'asciiname': 'London', 'alternatenames': 'London,Norfolk', 'latitude': '32.23099', 'longitude': '-94.94438', 'feature class': 'P', 'feature code': 'PPL', 'country code': 'US', 'cc2': '', 'admin1 code': 'TX', 'admin2 code': '401', 'admin3 code': '', 'admin4 code': '', 'population': '0', 'elevation': '165', 'dem': '167', 'timezone': 'America/Chicago', 'modification date': '2006-01-15'}\n",
      "{'geonameid': '4812926', 'name': 'London', 'asciiname': 'London', 'alternatenames': '', 'latitude': '38.19455', 'longitude': '-81.36872', 'feature class': 'P', 'feature code': 'PPL', 'country code': 'US', 'cc2': '', 'admin1 code': 'WV', 'admin2 code': '039', 'admin3 code': '', 'admin4 code': '', 'population': '0', 'elevation': '196', 'dem': '197', 'timezone': 'America/New_York', 'modification date': '2006-01-15'}\n",
      "{'geonameid': '4999913', 'name': 'London', 'asciiname': 'London', 'alternatenames': '', 'latitude': '42.02004', 'longitude': '-83.61327', 'feature class': 'P', 'feature code': 'PPL', 'country code': 'US', 'cc2': '', 'admin1 code': 'MI', 'admin2 code': '115', 'admin3 code': '49180', 'admin4 code': '', 'population': '0', 'elevation': '203', 'dem': '201', 'timezone': 'America/Detroit', 'modification date': '2017-05-23'}\n",
      "{'geonameid': '5035439', 'name': 'London', 'asciiname': 'London', 'alternatenames': '', 'latitude': '43.52607', 'longitude': '-93.0627', 'feature class': 'P', 'feature code': 'PPL', 'country code': 'US', 'cc2': '', 'admin1 code': 'MN', 'admin2 code': '047', 'admin3 code': '37916', 'admin4 code': '', 'population': '0', 'elevation': '364', 'dem': '364', 'timezone': 'America/Chicago', 'modification date': '2017-05-23'}\n",
      "{'geonameid': '5035440', 'name': 'London', 'asciiname': 'London', 'alternatenames': '', 'latitude': '43.5258', 'longitude': '-93.06409', 'feature class': 'S', 'feature code': '', 'country code': 'US', 'cc2': '', 'admin1 code': 'MN', 'admin2 code': '047', 'admin3 code': '37916', 'admin4 code': '', 'population': '0', 'elevation': '366', 'dem': '367', 'timezone': 'America/Chicago', 'modification date': '2017-05-23'}\n",
      "{'geonameid': '5035441', 'name': 'London', 'asciiname': 'London', 'alternatenames': '', 'latitude': '47.2027', 'longitude': '-91.56962', 'feature class': 'P', 'feature code': 'PPL', 'country code': 'US', 'cc2': '', 'admin1 code': 'MN', 'admin2 code': '075', 'admin3 code': '60304', 'admin4 code': '', 'population': '0', 'elevation': '393', 'dem': '395', 'timezone': 'America/Chicago', 'modification date': '2017-05-23'}\n",
      "{'geonameid': '5056033', 'name': 'London', 'asciiname': 'London', 'alternatenames': '', 'latitude': '40.445', 'longitude': '-95.23498', 'feature class': 'P', 'feature code': 'PPL', 'country code': 'US', 'cc2': '', 'admin1 code': 'MO', 'admin2 code': '005', 'admin3 code': '15454', 'admin4 code': '', 'population': '0', 'elevation': '329', 'dem': '332', 'timezone': 'America/Chicago', 'modification date': '2017-05-23'}\n",
      "{'geonameid': '5161176', 'name': 'London', 'asciiname': 'London', 'alternatenames': 'London,New London', 'latitude': '40.91033', 'longitude': '-82.62934', 'feature class': 'P', 'feature code': 'PPL', 'country code': 'US', 'cc2': '', 'admin1 code': 'OH', 'admin2 code': '139', 'admin3 code': '12420', 'admin4 code': '', 'population': '0', 'elevation': '332', 'dem': '331', 'timezone': 'America/New_York', 'modification date': '2017-05-23'}\n",
      "{'geonameid': '5198788', 'name': 'London', 'asciiname': 'London', 'alternatenames': '', 'latitude': '41.14367', 'longitude': '-80.14867', 'feature class': 'P', 'feature code': 'PPL', 'country code': 'US', 'cc2': '', 'admin1 code': 'PA', 'admin2 code': '085', 'admin3 code': '73080', 'admin4 code': '', 'population': '0', 'elevation': '388', 'dem': '386', 'timezone': 'America/New_York', 'modification date': '2017-05-23'}\n",
      "{'geonameid': '5260737', 'name': 'London', 'asciiname': 'London', 'alternatenames': '', 'latitude': '43.04778', 'longitude': '-89.01289', 'feature class': 'P', 'feature code': 'PPL', 'country code': 'US', 'cc2': '', 'admin1 code': 'WI', 'admin2 code': '025', 'admin3 code': '19275', 'admin4 code': '', 'population': '0', 'elevation': '266', 'dem': '267', 'timezone': 'America/Chicago', 'modification date': '2017-05-23'}\n",
      "{'geonameid': '5367815', 'name': 'London', 'asciiname': 'London', 'alternatenames': 'London,Londres,New London', 'latitude': '36.47606', 'longitude': '-119.44318', 'feature class': 'P', 'feature code': 'PPL', 'country code': 'US', 'cc2': '', 'admin1 code': 'CA', 'admin2 code': '107', 'admin3 code': '', 'admin4 code': '', 'population': '1869', 'elevation': '91', 'dem': '93', 'timezone': 'America/Los_Angeles', 'modification date': '2011-05-14'}\n",
      "{'geonameid': '5737562', 'name': 'London', 'asciiname': 'London', 'alternatenames': '', 'latitude': '43.63457', 'longitude': '-123.09285', 'feature class': 'P', 'feature code': 'PPL', 'country code': 'US', 'cc2': '', 'admin1 code': 'OR', 'admin2 code': '039', 'admin3 code': '', 'admin4 code': '', 'population': '0', 'elevation': '274', 'dem': '273', 'timezone': 'America/Los_Angeles', 'modification date': '2006-01-15'}\n",
      "{'geonameid': '11281530', 'name': 'London', 'asciiname': 'London', 'alternatenames': '', 'latitude': '13.34046', 'longitude': '-61.12514', 'feature class': 'P', 'feature code': 'PPL', 'country code': 'VC', 'cc2': '', 'admin1 code': '', 'admin2 code': '', 'admin3 code': '', 'admin4 code': '', 'population': '0', 'elevation': '', 'dem': '20', 'timezone': 'America/St_Vincent', 'modification date': '2016-10-27'}\n",
      "{'geonameid': '3803838', 'name': 'London', 'asciiname': 'London', 'alternatenames': '', 'latitude': '10.36093', 'longitude': '-66.73159', 'feature class': 'P', 'feature code': 'PPLL', 'country code': 'VE', 'cc2': '', 'admin1 code': '15', 'admin2 code': '1515', 'admin3 code': '', 'admin4 code': '', 'population': '0', 'elevation': '', 'dem': '811', 'timezone': 'America/Caracas', 'modification date': '2023-05-13'}\n",
      "{'geonameid': '982298', 'name': 'London', 'asciiname': 'London', 'alternatenames': '', 'latitude': '-24.81927', 'longitude': '31.04765', 'feature class': 'P', 'feature code': 'PPL', 'country code': 'ZA', 'cc2': '', 'admin1 code': '07', 'admin2 code': 'DC32', 'admin3 code': 'MP325', 'admin4 code': '', 'population': '0', 'elevation': '', 'dem': '698', 'timezone': 'Africa/Johannesburg', 'modification date': '2012-07-11'}\n",
      "{'geonameid': '982299', 'name': 'London', 'asciiname': 'London', 'alternatenames': '', 'latitude': '-24.76667', 'longitude': '30.86667', 'feature class': 'P', 'feature code': 'PPL', 'country code': 'ZA', 'cc2': '', 'admin1 code': '07', 'admin2 code': 'DC32', 'admin3 code': 'MP321', 'admin4 code': '', 'population': '0', 'elevation': '', 'dem': '1515', 'timezone': 'Africa/Johannesburg', 'modification date': '2012-07-12'}\n",
      "{'geonameid': '982300', 'name': 'London', 'asciiname': 'London', 'alternatenames': '', 'latitude': '-24.30262', 'longitude': '30.5725', 'feature class': 'P', 'feature code': 'PPL', 'country code': 'ZA', 'cc2': '', 'admin1 code': '09', 'admin2 code': 'DC33', 'admin3 code': 'LIM335', 'admin4 code': '', 'population': '0', 'elevation': '', 'dem': '589', 'timezone': 'Africa/Johannesburg', 'modification date': '2012-07-12'}\n",
      "{'geonameid': '982301', 'name': 'London', 'asciiname': 'London', 'alternatenames': '', 'latitude': '-27.73141', 'longitude': '26.30408', 'feature class': 'S', 'feature code': 'FRM', 'country code': 'ZA', 'cc2': '', 'admin1 code': '03', 'admin2 code': 'DC18', 'admin3 code': 'FS185', 'admin4 code': '', 'population': '0', 'elevation': '', 'dem': '1288', 'timezone': 'Africa/Johannesburg', 'modification date': '2014-10-01'}\n",
      "{'geonameid': '982302', 'name': 'London', 'asciiname': 'London', 'alternatenames': '', 'latitude': '-22.70338', 'longitude': '28.58017', 'feature class': 'S', 'feature code': 'FRM', 'country code': 'ZA', 'cc2': '', 'admin1 code': '09', 'admin2 code': 'DC35', 'admin3 code': 'LIM351', 'admin4 code': '', 'population': '0', 'elevation': '', 'dem': '790', 'timezone': 'Africa/Johannesburg', 'modification date': '2014-10-01'}\n",
      "{'geonameid': '982303', 'name': 'London', 'asciiname': 'London', 'alternatenames': '', 'latitude': '-29.47738', 'longitude': '25.85647', 'feature class': 'S', 'feature code': 'FRM', 'country code': 'ZA', 'cc2': '', 'admin1 code': '03', 'admin2 code': 'DC16', 'admin3 code': 'FS162', 'admin4 code': '', 'population': '0', 'elevation': '', 'dem': '1343', 'timezone': 'Africa/Johannesburg', 'modification date': '2012-07-12'}\n",
      "{'geonameid': '982304', 'name': 'London', 'asciiname': 'London', 'alternatenames': '', 'latitude': '-27.71928', 'longitude': '26.29453', 'feature class': 'S', 'feature code': 'FRM', 'country code': 'ZA', 'cc2': '', 'admin1 code': '03', 'admin2 code': 'DC18', 'admin3 code': 'FS185', 'admin4 code': '', 'population': '0', 'elevation': '', 'dem': '1289', 'timezone': 'Africa/Johannesburg', 'modification date': '2012-07-12'}\n",
      "{'geonameid': '982305', 'name': 'London', 'asciiname': 'London', 'alternatenames': '', 'latitude': '-27.35123', 'longitude': '25.38645', 'feature class': 'S', 'feature code': 'FRM', 'country code': 'ZA', 'cc2': '', 'admin1 code': '10', 'admin2 code': 'DC39', 'admin3 code': 'NW393', 'admin4 code': '', 'population': '0', 'elevation': '', 'dem': '1348', 'timezone': 'Africa/Johannesburg', 'modification date': '2012-07-12'}\n",
      "{'geonameid': '982306', 'name': 'London', 'asciiname': 'London', 'alternatenames': '', 'latitude': '-27.23968', 'longitude': '23.04504', 'feature class': 'S', 'feature code': 'FRM', 'country code': 'ZA', 'cc2': '', 'admin1 code': '08', 'admin2 code': 'DC45', 'admin3 code': 'NC451', 'admin4 code': '', 'population': '0', 'elevation': '', 'dem': '1098', 'timezone': 'Africa/Johannesburg', 'modification date': '2012-07-12'}\n",
      "{'geonameid': '982307', 'name': 'London', 'asciiname': 'London', 'alternatenames': '', 'latitude': '-27.149', 'longitude': '27.18027', 'feature class': 'S', 'feature code': 'FRM', 'country code': 'ZA', 'cc2': '', 'admin1 code': '03', 'admin2 code': 'DC20', 'admin3 code': 'FS201', 'admin4 code': '', 'population': '0', 'elevation': '', 'dem': '1416', 'timezone': 'Africa/Johannesburg', 'modification date': '2012-07-12'}\n",
      "{'geonameid': '982308', 'name': 'London', 'asciiname': 'London', 'alternatenames': '', 'latitude': '-24.81245', 'longitude': '31.02722', 'feature class': 'S', 'feature code': 'FRM', 'country code': 'ZA', 'cc2': '', 'admin1 code': '07', 'admin2 code': 'DC32', 'admin3 code': 'MP325', 'admin4 code': '', 'population': '0', 'elevation': '', 'dem': '700', 'timezone': 'Africa/Johannesburg', 'modification date': '2012-07-12'}\n",
      "{'geonameid': '982309', 'name': 'London', 'asciiname': 'London', 'alternatenames': '', 'latitude': '-24.78249', 'longitude': '30.83933', 'feature class': 'S', 'feature code': 'FRM', 'country code': 'ZA', 'cc2': '', 'admin1 code': '07', 'admin2 code': 'DC32', 'admin3 code': 'MP321', 'admin4 code': '', 'population': '0', 'elevation': '', 'dem': '1333', 'timezone': 'Africa/Johannesburg', 'modification date': '2012-07-12'}\n",
      "{'geonameid': '982310', 'name': 'London', 'asciiname': 'London', 'alternatenames': '', 'latitude': '-24.76802', 'longitude': '26.80225', 'feature class': 'S', 'feature code': 'FRM', 'country code': 'ZA', 'cc2': '', 'admin1 code': '09', 'admin2 code': 'DC36', 'admin3 code': 'LIM361', 'admin4 code': '', 'population': '0', 'elevation': '', 'dem': '1069', 'timezone': 'Africa/Johannesburg', 'modification date': '2012-07-11'}\n",
      "{'geonameid': '982311', 'name': 'London', 'asciiname': 'London', 'alternatenames': '', 'latitude': '-24.58561', 'longitude': '28.81811', 'feature class': 'S', 'feature code': 'FRM', 'country code': 'ZA', 'cc2': '', 'admin1 code': '09', 'admin2 code': 'DC36', 'admin3 code': 'LIM364', 'admin4 code': '', 'population': '0', 'elevation': '', 'dem': '1078', 'timezone': 'Africa/Johannesburg', 'modification date': '2012-07-12'}\n",
      "{'geonameid': '982312', 'name': 'London', 'asciiname': 'London', 'alternatenames': '', 'latitude': '-24.32523', 'longitude': '26.78855', 'feature class': 'S', 'feature code': 'FRM', 'country code': 'ZA', 'cc2': '', 'admin1 code': '09', 'admin2 code': 'DC36', 'admin3 code': 'LIM361', 'admin4 code': '', 'population': '0', 'elevation': '', 'dem': '883', 'timezone': 'Africa/Johannesburg', 'modification date': '2012-07-12'}\n",
      "{'geonameid': '982313', 'name': 'London', 'asciiname': 'London', 'alternatenames': '', 'latitude': '-24.29776', 'longitude': '30.60454', 'feature class': 'S', 'feature code': 'FRM', 'country code': 'ZA', 'cc2': '', 'admin1 code': '09', 'admin2 code': 'DC33', 'admin3 code': 'LIM335', 'admin4 code': '', 'population': '0', 'elevation': '', 'dem': '572', 'timezone': 'Africa/Johannesburg', 'modification date': '2012-07-12'}\n",
      "{'geonameid': '982314', 'name': 'London', 'asciiname': 'London', 'alternatenames': '', 'latitude': '-24.11667', 'longitude': '31.13333', 'feature class': 'S', 'feature code': 'FRM', 'country code': 'ZA', 'cc2': '', 'admin1 code': '09', 'admin2 code': '', 'admin3 code': '', 'admin4 code': '', 'population': '0', 'elevation': '', 'dem': '385', 'timezone': 'Africa/Johannesburg', 'modification date': '2004-05-11'}\n",
      "{'geonameid': '982315', 'name': 'London', 'asciiname': 'London', 'alternatenames': '', 'latitude': '-22.68795', 'longitude': '28.59432', 'feature class': 'S', 'feature code': 'FRM', 'country code': 'ZA', 'cc2': '', 'admin1 code': '09', 'admin2 code': 'DC35', 'admin3 code': 'LIM351', 'admin4 code': '', 'population': '0', 'elevation': '', 'dem': '792', 'timezone': 'Africa/Johannesburg', 'modification date': '2012-07-12'}\n",
      "{'geonameid': '982316', 'name': 'London', 'asciiname': 'London', 'alternatenames': '', 'latitude': '-24.56667', 'longitude': '28.8', 'feature class': 'S', 'feature code': 'AIRF', 'country code': 'ZA', 'cc2': '', 'admin1 code': '09', 'admin2 code': 'DC36', 'admin3 code': 'LIM364', 'admin4 code': '', 'population': '0', 'elevation': '', 'dem': '1079', 'timezone': 'Africa/Johannesburg', 'modification date': '2012-07-12'}\n",
      "{'geonameid': '888390', 'name': 'London', 'asciiname': 'London', 'alternatenames': '', 'latitude': '-18.38333', 'longitude': '32.58333', 'feature class': 'S', 'feature code': 'FRM', 'country code': 'ZW', 'cc2': '', 'admin1 code': '01', 'admin2 code': '', 'admin3 code': '', 'admin4 code': '', 'population': '0', 'elevation': '', 'dem': '1777', 'timezone': 'Africa/Harare', 'modification date': '2018-02-22'}\n",
      "took 35s\n"
     ]
    }
   ],
   "source": [
    "import time\n",
    "\n",
    "def lin_search(db, attribute, query):\n",
    "    \"\"\"Linear search through db, looking for entities with an attribute equal to query.\"\"\"\n",
    "    for town in db.values():\n",
    "        if town[attribute] == query:\n",
    "            yield town\n",
    "\n",
    "start = time.time()\n",
    "for result in lin_search(places, \"name\", \"London\"): print(result)\n",
    "elapsed = time.time() - start\n",
    "print(f\"took {elapsed:.2g}s\")"
   ]
  },
  {
   "cell_type": "markdown",
   "metadata": {},
   "source": [
    "### Direct Lookup\n",
    "\n",
    "When reading the data, we conveniently recorded a dictionary with the `geonameid` as key. If we know it, lookup is quick:"
   ]
  },
  {
   "cell_type": "code",
   "execution_count": 7,
   "metadata": {},
   "outputs": [
    {
     "name": "stdout",
     "output_type": "stream",
     "text": [
      "{'geonameid': '2643743', 'name': 'London', 'asciiname': 'London', 'alternatenames': 'ILondon,LON,Lakana,Landan,Landen,Ljondan,Llundain,Lodoni,Londain,Londan,Londar,Londe,Londen,Londin,Londinium,Londino,Londn,London,London osh,Londona,Londonas,Londoni,Londono,Londons,Londonu,Londra,Londres,Londrez,Londri,Londro,Londye,Londyn,Londýn,Lonn,Lontoo,Loundres,Luan GJon,Lun-tun,Lunden,Lundra,Lundun,Lundunir,Lundúnir,Lung-dung,Lunnainn,Lunnin,Lunnon,Luân Đôn,Lùn-tûn,Lùng-dŭng,Lûn-tun,Lākana,Lůndůn,Lọndọnu,Ranana,Rānana,ilantan,ladana,landan,landana,leondeon,lndn,london,londoni,lun dui,lun dun,lwndwn,lxndxn,rondon,Łondra,Λονδίνο,Лондан,Лондон,Лондон ош,Лондонъ,Лёндан,Լոնդոն,לאנדאן,לונדון,لأندأن,لندن,لوندون,لەندەن,ܠܘܢܕܘܢ,लंडन,लंदन,लण्डन,लन्डन्,लन्दन,লন্ডন,ਲੰਡਨ,લંડન,ଲଣ୍ଡନ,இலண்டன்,లండన్,ಲಂಡನ್,ലണ്ടൻ,ලන්ඩන්,ลอนดอน,ລອນດອນ,ལོན་ཊོན།,လန်ဒန်မြို့,ლონდონი,ለንደን,ᎫᎴ ᏗᏍᎪᏂᎯᏱ,ロンドン,伦敦,倫敦,런던', 'latitude': '51.50853', 'longitude': '-0.12574', 'feature class': 'P', 'feature code': 'PPLC', 'country code': 'GB', 'cc2': '', 'admin1 code': 'ENG', 'admin2 code': 'GLA', 'admin3 code': '', 'admin4 code': '', 'population': '8961989', 'elevation': '', 'dem': '25', 'timezone': 'Europe/London', 'modification date': '2022-03-09'}\n",
      "took 0.0012s\n"
     ]
    }
   ],
   "source": [
    "import time\n",
    "start = time.time()\n",
    "print(places[2643743])\n",
    "elapsed = time.time() - start\n",
    "print(f\"took {elapsed:.2g}s\")"
   ]
  },
  {
   "cell_type": "markdown",
   "metadata": {},
   "source": [
    "### Secondary Index\n",
    "\n",
    "We want fast lookups for place name, so we create a secondary index: a dictionary that maps from place name to the primary, unique key (geonameid). The dictionary values are sets of ids. We also convert geonameids into numbers to save space.\n",
    "\n",
    "Index creation takes a long time, but lookup is ~1000x faster than with linear search."
   ]
  },
  {
   "cell_type": "code",
   "execution_count": 8,
   "metadata": {},
   "outputs": [
    {
     "name": "stdout",
     "output_type": "stream",
     "text": [
      "{'geonameid': '1705729', 'name': 'London', 'asciiname': 'London', 'alternatenames': '', 'latitude': '6.00972', 'longitude': '125.12944', 'feature class': 'P', 'feature code': 'PPL', 'country code': 'PH', 'cc2': '', 'admin1 code': '12', 'admin2 code': '70', 'admin3 code': '126303000', 'admin4 code': '', 'population': '0', 'elevation': '', 'dem': '14', 'timezone': 'Asia/Manila', 'modification date': '2017-12-13'}\n",
      "{'geonameid': '5367815', 'name': 'London', 'asciiname': 'London', 'alternatenames': 'London,Londres,New London', 'latitude': '36.47606', 'longitude': '-119.44318', 'feature class': 'P', 'feature code': 'PPL', 'country code': 'US', 'cc2': '', 'admin1 code': 'CA', 'admin2 code': '107', 'admin3 code': '', 'admin4 code': '', 'population': '1869', 'elevation': '91', 'dem': '93', 'timezone': 'America/Los_Angeles', 'modification date': '2011-05-14'}\n",
      "{'geonameid': '8610441', 'name': 'London', 'asciiname': 'London', 'alternatenames': '', 'latitude': '14.32737', 'longitude': '120.97552', 'feature class': 'R', 'feature code': 'ST', 'country code': 'PH', 'cc2': '', 'admin1 code': '40', 'admin2 code': '20', 'admin3 code': '042106000', 'admin4 code': '', 'population': '0', 'elevation': '', 'dem': '113', 'timezone': 'Asia/Manila', 'modification date': '2017-12-13'}\n",
      "{'geonameid': '2331921', 'name': 'London', 'asciiname': 'London', 'alternatenames': 'London', 'latitude': '5.72349', 'longitude': '5.78761', 'feature class': 'P', 'feature code': 'PPL', 'country code': 'NG', 'cc2': '', 'admin1 code': '36', 'admin2 code': '10013', 'admin3 code': '', 'admin4 code': '', 'population': '0', 'elevation': '', 'dem': '20', 'timezone': 'Africa/Lagos', 'modification date': '2016-11-22'}\n",
      "{'geonameid': '4517009', 'name': 'London', 'asciiname': 'London', 'alternatenames': 'Landon,Limerick,London,New London,lndn,lndn  awhayw,Ландон,لندن,لندن، اوهایو', 'latitude': '39.88645', 'longitude': '-83.44825', 'feature class': 'P', 'feature code': 'PPLA2', 'country code': 'US', 'cc2': '', 'admin1 code': 'OH', 'admin2 code': '097', 'admin3 code': '44674', 'admin4 code': '', 'population': '10060', 'elevation': '321', 'dem': '321', 'timezone': 'America/New_York', 'modification date': '2017-05-23'}\n",
      "{'geonameid': '11591955', 'name': 'London', 'asciiname': 'London', 'alternatenames': 'Central London,London', 'latitude': '51.49227', 'longitude': '-0.30864', 'feature class': 'L', 'feature code': 'RGN', 'country code': 'GB', 'cc2': '', 'admin1 code': 'ENG', 'admin2 code': '', 'admin3 code': '', 'admin4 code': '', 'population': '8787892', 'elevation': '', 'dem': '16', 'timezone': 'Europe/London', 'modification date': '2019-03-08'}\n",
      "{'geonameid': '8610073', 'name': 'London', 'asciiname': 'London', 'alternatenames': '', 'latitude': '14.3467', 'longitude': '120.93517', 'feature class': 'R', 'feature code': 'ST', 'country code': 'PH', 'cc2': '', 'admin1 code': '40', 'admin2 code': '20', 'admin3 code': '042106000', 'admin4 code': '', 'population': '0', 'elevation': '', 'dem': '56', 'timezone': 'Asia/Manila', 'modification date': '2017-12-13'}\n",
      "{'geonameid': '982298', 'name': 'London', 'asciiname': 'London', 'alternatenames': '', 'latitude': '-24.81927', 'longitude': '31.04765', 'feature class': 'P', 'feature code': 'PPL', 'country code': 'ZA', 'cc2': '', 'admin1 code': '07', 'admin2 code': 'DC32', 'admin3 code': 'MP325', 'admin4 code': '', 'population': '0', 'elevation': '', 'dem': '698', 'timezone': 'Africa/Johannesburg', 'modification date': '2012-07-11'}\n",
      "{'geonameid': '982299', 'name': 'London', 'asciiname': 'London', 'alternatenames': '', 'latitude': '-24.76667', 'longitude': '30.86667', 'feature class': 'P', 'feature code': 'PPL', 'country code': 'ZA', 'cc2': '', 'admin1 code': '07', 'admin2 code': 'DC32', 'admin3 code': 'MP321', 'admin4 code': '', 'population': '0', 'elevation': '', 'dem': '1515', 'timezone': 'Africa/Johannesburg', 'modification date': '2012-07-12'}\n",
      "{'geonameid': '982300', 'name': 'London', 'asciiname': 'London', 'alternatenames': '', 'latitude': '-24.30262', 'longitude': '30.5725', 'feature class': 'P', 'feature code': 'PPL', 'country code': 'ZA', 'cc2': '', 'admin1 code': '09', 'admin2 code': 'DC33', 'admin3 code': 'LIM335', 'admin4 code': '', 'population': '0', 'elevation': '', 'dem': '589', 'timezone': 'Africa/Johannesburg', 'modification date': '2012-07-12'}\n",
      "{'geonameid': '982301', 'name': 'London', 'asciiname': 'London', 'alternatenames': '', 'latitude': '-27.73141', 'longitude': '26.30408', 'feature class': 'S', 'feature code': 'FRM', 'country code': 'ZA', 'cc2': '', 'admin1 code': '03', 'admin2 code': 'DC18', 'admin3 code': 'FS185', 'admin4 code': '', 'population': '0', 'elevation': '', 'dem': '1288', 'timezone': 'Africa/Johannesburg', 'modification date': '2014-10-01'}\n",
      "{'geonameid': '982302', 'name': 'London', 'asciiname': 'London', 'alternatenames': '', 'latitude': '-22.70338', 'longitude': '28.58017', 'feature class': 'S', 'feature code': 'FRM', 'country code': 'ZA', 'cc2': '', 'admin1 code': '09', 'admin2 code': 'DC35', 'admin3 code': 'LIM351', 'admin4 code': '', 'population': '0', 'elevation': '', 'dem': '790', 'timezone': 'Africa/Johannesburg', 'modification date': '2014-10-01'}\n",
      "{'geonameid': '2643743', 'name': 'London', 'asciiname': 'London', 'alternatenames': 'ILondon,LON,Lakana,Landan,Landen,Ljondan,Llundain,Lodoni,Londain,Londan,Londar,Londe,Londen,Londin,Londinium,Londino,Londn,London,London osh,Londona,Londonas,Londoni,Londono,Londons,Londonu,Londra,Londres,Londrez,Londri,Londro,Londye,Londyn,Londýn,Lonn,Lontoo,Loundres,Luan GJon,Lun-tun,Lunden,Lundra,Lundun,Lundunir,Lundúnir,Lung-dung,Lunnainn,Lunnin,Lunnon,Luân Đôn,Lùn-tûn,Lùng-dŭng,Lûn-tun,Lākana,Lůndůn,Lọndọnu,Ranana,Rānana,ilantan,ladana,landan,landana,leondeon,lndn,london,londoni,lun dui,lun dun,lwndwn,lxndxn,rondon,Łondra,Λονδίνο,Лондан,Лондон,Лондон ош,Лондонъ,Лёндан,Լոնդոն,לאנדאן,לונדון,لأندأن,لندن,لوندون,لەندەن,ܠܘܢܕܘܢ,लंडन,लंदन,लण्डन,लन्डन्,लन्दन,লন্ডন,ਲੰਡਨ,લંડન,ଲଣ୍ଡନ,இலண்டன்,లండన్,ಲಂಡನ್,ലണ്ടൻ,ලන්ඩන්,ลอนดอน,ລອນດອນ,ལོན་ཊོན།,လန်ဒန်မြို့,ლონდონი,ለንደን,ᎫᎴ ᏗᏍᎪᏂᎯᏱ,ロンドン,伦敦,倫敦,런던', 'latitude': '51.50853', 'longitude': '-0.12574', 'feature class': 'P', 'feature code': 'PPLC', 'country code': 'GB', 'cc2': '', 'admin1 code': 'ENG', 'admin2 code': 'GLA', 'admin3 code': '', 'admin4 code': '', 'population': '8961989', 'elevation': '', 'dem': '25', 'timezone': 'Europe/London', 'modification date': '2022-03-09'}\n",
      "{'geonameid': '982303', 'name': 'London', 'asciiname': 'London', 'alternatenames': '', 'latitude': '-29.47738', 'longitude': '25.85647', 'feature class': 'S', 'feature code': 'FRM', 'country code': 'ZA', 'cc2': '', 'admin1 code': '03', 'admin2 code': 'DC16', 'admin3 code': 'FS162', 'admin4 code': '', 'population': '0', 'elevation': '', 'dem': '1343', 'timezone': 'Africa/Johannesburg', 'modification date': '2012-07-12'}\n",
      "{'geonameid': '5056033', 'name': 'London', 'asciiname': 'London', 'alternatenames': '', 'latitude': '40.445', 'longitude': '-95.23498', 'feature class': 'P', 'feature code': 'PPL', 'country code': 'US', 'cc2': '', 'admin1 code': 'MO', 'admin2 code': '005', 'admin3 code': '15454', 'admin4 code': '', 'population': '0', 'elevation': '329', 'dem': '332', 'timezone': 'America/Chicago', 'modification date': '2017-05-23'}\n",
      "{'geonameid': '982304', 'name': 'London', 'asciiname': 'London', 'alternatenames': '', 'latitude': '-27.71928', 'longitude': '26.29453', 'feature class': 'S', 'feature code': 'FRM', 'country code': 'ZA', 'cc2': '', 'admin1 code': '03', 'admin2 code': 'DC18', 'admin3 code': 'FS185', 'admin4 code': '', 'population': '0', 'elevation': '', 'dem': '1289', 'timezone': 'Africa/Johannesburg', 'modification date': '2012-07-12'}\n",
      "{'geonameid': '11876643', 'name': 'London', 'asciiname': 'London', 'alternatenames': '', 'latitude': '51.50654', 'longitude': '-0.08476', 'feature class': 'H', 'feature code': 'HBR', 'country code': 'GB', 'cc2': '', 'admin1 code': 'ENG', 'admin2 code': 'GLA', 'admin3 code': 'M8', 'admin4 code': '', 'population': '0', 'elevation': '', 'dem': '3', 'timezone': 'Europe/London', 'modification date': '2018-06-10'}\n",
      "{'geonameid': '982305', 'name': 'London', 'asciiname': 'London', 'alternatenames': '', 'latitude': '-27.35123', 'longitude': '25.38645', 'feature class': 'S', 'feature code': 'FRM', 'country code': 'ZA', 'cc2': '', 'admin1 code': '10', 'admin2 code': 'DC39', 'admin3 code': 'NW393', 'admin4 code': '', 'population': '0', 'elevation': '', 'dem': '1348', 'timezone': 'Africa/Johannesburg', 'modification date': '2012-07-12'}\n",
      "{'geonameid': '982306', 'name': 'London', 'asciiname': 'London', 'alternatenames': '', 'latitude': '-27.23968', 'longitude': '23.04504', 'feature class': 'S', 'feature code': 'FRM', 'country code': 'ZA', 'cc2': '', 'admin1 code': '08', 'admin2 code': 'DC45', 'admin3 code': 'NC451', 'admin4 code': '', 'population': '0', 'elevation': '', 'dem': '1098', 'timezone': 'Africa/Johannesburg', 'modification date': '2012-07-12'}\n",
      "{'geonameid': '982307', 'name': 'London', 'asciiname': 'London', 'alternatenames': '', 'latitude': '-27.149', 'longitude': '27.18027', 'feature class': 'S', 'feature code': 'FRM', 'country code': 'ZA', 'cc2': '', 'admin1 code': '03', 'admin2 code': 'DC20', 'admin3 code': 'FS201', 'admin4 code': '', 'population': '0', 'elevation': '', 'dem': '1416', 'timezone': 'Africa/Johannesburg', 'modification date': '2012-07-12'}\n",
      "{'geonameid': '982308', 'name': 'London', 'asciiname': 'London', 'alternatenames': '', 'latitude': '-24.81245', 'longitude': '31.02722', 'feature class': 'S', 'feature code': 'FRM', 'country code': 'ZA', 'cc2': '', 'admin1 code': '07', 'admin2 code': 'DC32', 'admin3 code': 'MP325', 'admin4 code': '', 'population': '0', 'elevation': '', 'dem': '700', 'timezone': 'Africa/Johannesburg', 'modification date': '2012-07-12'}\n",
      "{'geonameid': '982309', 'name': 'London', 'asciiname': 'London', 'alternatenames': '', 'latitude': '-24.78249', 'longitude': '30.83933', 'feature class': 'S', 'feature code': 'FRM', 'country code': 'ZA', 'cc2': '', 'admin1 code': '07', 'admin2 code': 'DC32', 'admin3 code': 'MP321', 'admin4 code': '', 'population': '0', 'elevation': '', 'dem': '1333', 'timezone': 'Africa/Johannesburg', 'modification date': '2012-07-12'}\n",
      "{'geonameid': '982310', 'name': 'London', 'asciiname': 'London', 'alternatenames': '', 'latitude': '-24.76802', 'longitude': '26.80225', 'feature class': 'S', 'feature code': 'FRM', 'country code': 'ZA', 'cc2': '', 'admin1 code': '09', 'admin2 code': 'DC36', 'admin3 code': 'LIM361', 'admin4 code': '', 'population': '0', 'elevation': '', 'dem': '1069', 'timezone': 'Africa/Johannesburg', 'modification date': '2012-07-11'}\n",
      "{'geonameid': '982311', 'name': 'London', 'asciiname': 'London', 'alternatenames': '', 'latitude': '-24.58561', 'longitude': '28.81811', 'feature class': 'S', 'feature code': 'FRM', 'country code': 'ZA', 'cc2': '', 'admin1 code': '09', 'admin2 code': 'DC36', 'admin3 code': 'LIM364', 'admin4 code': '', 'population': '0', 'elevation': '', 'dem': '1078', 'timezone': 'Africa/Johannesburg', 'modification date': '2012-07-12'}\n",
      "{'geonameid': '982312', 'name': 'London', 'asciiname': 'London', 'alternatenames': '', 'latitude': '-24.32523', 'longitude': '26.78855', 'feature class': 'S', 'feature code': 'FRM', 'country code': 'ZA', 'cc2': '', 'admin1 code': '09', 'admin2 code': 'DC36', 'admin3 code': 'LIM361', 'admin4 code': '', 'population': '0', 'elevation': '', 'dem': '883', 'timezone': 'Africa/Johannesburg', 'modification date': '2012-07-12'}\n",
      "{'geonameid': '8610604', 'name': 'London', 'asciiname': 'London', 'alternatenames': '', 'latitude': '14.32306', 'longitude': '120.95167', 'feature class': 'R', 'feature code': 'ST', 'country code': 'PH', 'cc2': '', 'admin1 code': '40', 'admin2 code': '20', 'admin3 code': '042106000', 'admin4 code': '', 'population': '0', 'elevation': '', 'dem': '101', 'timezone': 'Asia/Manila', 'modification date': '2017-12-13'}\n",
      "{'geonameid': '982313', 'name': 'London', 'asciiname': 'London', 'alternatenames': '', 'latitude': '-24.29776', 'longitude': '30.60454', 'feature class': 'S', 'feature code': 'FRM', 'country code': 'ZA', 'cc2': '', 'admin1 code': '09', 'admin2 code': 'DC33', 'admin3 code': 'LIM335', 'admin4 code': '', 'population': '0', 'elevation': '', 'dem': '572', 'timezone': 'Africa/Johannesburg', 'modification date': '2012-07-12'}\n",
      "{'geonameid': '982314', 'name': 'London', 'asciiname': 'London', 'alternatenames': '', 'latitude': '-24.11667', 'longitude': '31.13333', 'feature class': 'S', 'feature code': 'FRM', 'country code': 'ZA', 'cc2': '', 'admin1 code': '09', 'admin2 code': '', 'admin3 code': '', 'admin4 code': '', 'population': '0', 'elevation': '', 'dem': '385', 'timezone': 'Africa/Johannesburg', 'modification date': '2004-05-11'}\n",
      "{'geonameid': '5035439', 'name': 'London', 'asciiname': 'London', 'alternatenames': '', 'latitude': '43.52607', 'longitude': '-93.0627', 'feature class': 'P', 'feature code': 'PPL', 'country code': 'US', 'cc2': '', 'admin1 code': 'MN', 'admin2 code': '047', 'admin3 code': '37916', 'admin4 code': '', 'population': '0', 'elevation': '364', 'dem': '364', 'timezone': 'America/Chicago', 'modification date': '2017-05-23'}\n",
      "{'geonameid': '5035440', 'name': 'London', 'asciiname': 'London', 'alternatenames': '', 'latitude': '43.5258', 'longitude': '-93.06409', 'feature class': 'S', 'feature code': '', 'country code': 'US', 'cc2': '', 'admin1 code': 'MN', 'admin2 code': '047', 'admin3 code': '37916', 'admin4 code': '', 'population': '0', 'elevation': '366', 'dem': '367', 'timezone': 'America/Chicago', 'modification date': '2017-05-23'}\n",
      "{'geonameid': '2406961', 'name': 'London', 'asciiname': 'London', 'alternatenames': 'Lomabu,London', 'latitude': '8.31068', 'longitude': '-10.78731', 'feature class': 'P', 'feature code': 'PPL', 'country code': 'SL', 'cc2': '', 'admin1 code': '01', 'admin2 code': '', 'admin3 code': '', 'admin4 code': '', 'population': '0', 'elevation': '', 'dem': '239', 'timezone': 'Africa/Freetown', 'modification date': '2014-12-03'}\n",
      "{'geonameid': '5035441', 'name': 'London', 'asciiname': 'London', 'alternatenames': '', 'latitude': '47.2027', 'longitude': '-91.56962', 'feature class': 'P', 'feature code': 'PPL', 'country code': 'US', 'cc2': '', 'admin1 code': 'MN', 'admin2 code': '075', 'admin3 code': '60304', 'admin4 code': '', 'population': '0', 'elevation': '393', 'dem': '395', 'timezone': 'America/Chicago', 'modification date': '2017-05-23'}\n",
      "{'geonameid': '2661811', 'name': 'London', 'asciiname': 'London', 'alternatenames': \"Allondon,Allondon River,L'Allondon,La London Riviere,La London Rivière,London\", 'latitude': '46.16667', 'longitude': '6.01667', 'feature class': 'H', 'feature code': 'STM', 'country code': 'FR', 'cc2': '', 'admin1 code': '00', 'admin2 code': '', 'admin3 code': '', 'admin4 code': '', 'population': '0', 'elevation': '', 'dem': '427', 'timezone': 'Europe/Paris', 'modification date': '2021-06-03'}\n",
      "{'geonameid': '982315', 'name': 'London', 'asciiname': 'London', 'alternatenames': '', 'latitude': '-22.68795', 'longitude': '28.59432', 'feature class': 'S', 'feature code': 'FRM', 'country code': 'ZA', 'cc2': '', 'admin1 code': '09', 'admin2 code': 'DC35', 'admin3 code': 'LIM351', 'admin4 code': '', 'population': '0', 'elevation': '', 'dem': '792', 'timezone': 'Africa/Johannesburg', 'modification date': '2012-07-12'}\n",
      "{'geonameid': '982316', 'name': 'London', 'asciiname': 'London', 'alternatenames': '', 'latitude': '-24.56667', 'longitude': '28.8', 'feature class': 'S', 'feature code': 'AIRF', 'country code': 'ZA', 'cc2': '', 'admin1 code': '09', 'admin2 code': 'DC36', 'admin3 code': 'LIM364', 'admin4 code': '', 'population': '0', 'elevation': '', 'dem': '1079', 'timezone': 'Africa/Johannesburg', 'modification date': '2012-07-12'}\n",
      "{'geonameid': '6474424', 'name': 'London', 'asciiname': 'London', 'alternatenames': '', 'latitude': '48.8715', 'longitude': '2.337', 'feature class': 'S', 'feature code': 'HTL', 'country code': 'FR', 'cc2': '', 'admin1 code': '11', 'admin2 code': '75', 'admin3 code': '751', 'admin4 code': '75056', 'population': '0', 'elevation': '', 'dem': '51', 'timezone': 'Europe/Paris', 'modification date': '2016-02-18'}\n",
      "{'geonameid': '2729913', 'name': 'London', 'asciiname': 'London', 'alternatenames': '', 'latitude': '78.96336', 'longitude': '12.09026', 'feature class': 'S', 'feature code': 'CMP', 'country code': 'SJ', 'cc2': '', 'admin1 code': '00', 'admin2 code': '', 'admin3 code': '', 'admin4 code': '', 'population': '0', 'elevation': '', 'dem': '-9999', 'timezone': 'Arctic/Longyearbyen', 'modification date': '2011-04-18'}\n",
      "{'geonameid': '3803838', 'name': 'London', 'asciiname': 'London', 'alternatenames': '', 'latitude': '10.36093', 'longitude': '-66.73159', 'feature class': 'P', 'feature code': 'PPLL', 'country code': 'VE', 'cc2': '', 'admin1 code': '15', 'admin2 code': '1515', 'admin3 code': '', 'admin4 code': '', 'population': '0', 'elevation': '', 'dem': '811', 'timezone': 'America/Caracas', 'modification date': '2023-05-13'}\n",
      "{'geonameid': '6058559', 'name': 'London', 'asciiname': 'London', 'alternatenames': '', 'latitude': '43.08339', 'longitude': '-81.29975', 'feature class': 'L', 'feature code': 'AREA', 'country code': 'CA', 'cc2': '', 'admin1 code': '08', 'admin2 code': '', 'admin3 code': '', 'admin4 code': '', 'population': '0', 'elevation': '', 'dem': '281', 'timezone': 'America/Toronto', 'modification date': '2006-01-18'}\n",
      "{'geonameid': '6058560', 'name': 'London', 'asciiname': 'London', 'alternatenames': 'Landona,London,Londonas,Londono,YXU,leondeon,lndn,lndn  antaryw,londoni,lun dui,lun dun,lwndwn,rondon,Лондон,לונדון,لندن,لندن، انتاریو,لندن، اونٹاریو,ლონდონი,ロンドン,伦敦,런던', 'latitude': '42.98339', 'longitude': '-81.23304', 'feature class': 'P', 'feature code': 'PPL', 'country code': 'CA', 'cc2': '', 'admin1 code': '08', 'admin2 code': '', 'admin3 code': '', 'admin4 code': '', 'population': '346765', 'elevation': '', 'dem': '252', 'timezone': 'America/Toronto', 'modification date': '2012-08-19'}\n",
      "{'geonameid': '4119617', 'name': 'London', 'asciiname': 'London', 'alternatenames': 'Haddoxburg,London', 'latitude': '35.32897', 'longitude': '-93.25296', 'feature class': 'P', 'feature code': 'PPL', 'country code': 'US', 'cc2': '', 'admin1 code': 'AR', 'admin2 code': '115', 'admin3 code': '90813', 'admin4 code': '', 'population': '1046', 'elevation': '116', 'dem': '121', 'timezone': 'America/Chicago', 'modification date': '2017-05-23'}\n",
      "{'geonameid': '4260673', 'name': 'London', 'asciiname': 'London', 'alternatenames': '', 'latitude': '39.6256', 'longitude': '-85.92026', 'feature class': 'P', 'feature code': 'PPL', 'country code': 'US', 'cc2': '', 'admin1 code': 'IN', 'admin2 code': '145', 'admin3 code': '50994', 'admin4 code': '', 'population': '0', 'elevation': '240', 'dem': '242', 'timezone': 'America/Indiana/Indianapolis', 'modification date': '2017-05-23'}\n",
      "{'geonameid': '5260737', 'name': 'London', 'asciiname': 'London', 'alternatenames': '', 'latitude': '43.04778', 'longitude': '-89.01289', 'feature class': 'P', 'feature code': 'PPL', 'country code': 'US', 'cc2': '', 'admin1 code': 'WI', 'admin2 code': '025', 'admin3 code': '19275', 'admin4 code': '', 'population': '0', 'elevation': '266', 'dem': '267', 'timezone': 'America/Chicago', 'modification date': '2017-05-23'}\n",
      "{'geonameid': '5198788', 'name': 'London', 'asciiname': 'London', 'alternatenames': '', 'latitude': '41.14367', 'longitude': '-80.14867', 'feature class': 'P', 'feature code': 'PPL', 'country code': 'US', 'cc2': '', 'admin1 code': 'PA', 'admin2 code': '085', 'admin3 code': '73080', 'admin4 code': '', 'population': '0', 'elevation': '388', 'dem': '386', 'timezone': 'America/New_York', 'modification date': '2017-05-23'}\n",
      "{'geonameid': '888390', 'name': 'London', 'asciiname': 'London', 'alternatenames': '', 'latitude': '-18.38333', 'longitude': '32.58333', 'feature class': 'S', 'feature code': 'FRM', 'country code': 'ZW', 'cc2': '', 'admin1 code': '01', 'admin2 code': '', 'admin3 code': '', 'admin4 code': '', 'population': '0', 'elevation': '', 'dem': '1777', 'timezone': 'Africa/Harare', 'modification date': '2018-02-22'}\n",
      "{'geonameid': '9876172', 'name': 'London', 'asciiname': 'London', 'alternatenames': 'London', 'latitude': '7.65137', 'longitude': '-12.00293', 'feature class': 'P', 'feature code': 'PPL', 'country code': 'SL', 'cc2': '', 'admin1 code': '03', 'admin2 code': '', 'admin3 code': '', 'admin4 code': '', 'population': '0', 'elevation': '', 'dem': '27', 'timezone': 'Africa/Freetown', 'modification date': '2014-12-04'}\n",
      "{'geonameid': '9499471', 'name': 'London', 'asciiname': 'London', 'alternatenames': 'London', 'latitude': '60.02058', 'longitude': '10.00489', 'feature class': 'S', 'feature code': 'FRM', 'country code': 'NO', 'cc2': '', 'admin1 code': '30', 'admin2 code': '3047', 'admin3 code': '', 'admin4 code': '', 'population': '0', 'elevation': '', 'dem': '140', 'timezone': 'Europe/Oslo', 'modification date': '2019-12-12'}\n",
      "{'geonameid': '4298960', 'name': 'London', 'asciiname': 'London', 'alternatenames': 'LOZ,Landon,London,Riceton,lndn,lndn  kntaky,lun dui,Ландон,Лондон,لندن,لندن، کنتاکی,伦敦', 'latitude': '37.12898', 'longitude': '-84.08326', 'feature class': 'P', 'feature code': 'PPLA2', 'country code': 'US', 'cc2': '', 'admin1 code': 'KY', 'admin2 code': '125', 'admin3 code': '', 'admin4 code': '', 'population': '8126', 'elevation': '378', 'dem': '379', 'timezone': 'America/New_York', 'modification date': '2017-03-09'}\n",
      "{'geonameid': '9611218', 'name': 'London', 'asciiname': 'London', 'alternatenames': '', 'latitude': '45.50284', 'longitude': '12.63388', 'feature class': 'S', 'feature code': 'HTL', 'country code': 'IT', 'cc2': '', 'admin1 code': '20', 'admin2 code': 'VE', 'admin3 code': '027019', 'admin4 code': '', 'population': '0', 'elevation': '', 'dem': '2', 'timezone': 'Europe/Rome', 'modification date': '2014-09-26'}\n",
      "{'geonameid': '9955284', 'name': 'London', 'asciiname': 'London', 'alternatenames': '', 'latitude': '45.46727', 'longitude': '9.18444', 'feature class': 'S', 'feature code': 'HTL', 'country code': 'IT', 'cc2': '', 'admin1 code': '09', 'admin2 code': 'MI', 'admin3 code': '015146', 'admin4 code': '1', 'population': '0', 'elevation': '', 'dem': '133', 'timezone': 'Europe/Rome', 'modification date': '2019-07-24'}\n",
      "{'geonameid': '4707414', 'name': 'London', 'asciiname': 'London', 'alternatenames': '', 'latitude': '30.67685', 'longitude': '-99.57645', 'feature class': 'P', 'feature code': 'PPL', 'country code': 'US', 'cc2': '', 'admin1 code': 'TX', 'admin2 code': '267', 'admin3 code': '', 'admin4 code': '', 'population': '180', 'elevation': '519', 'dem': '521', 'timezone': 'America/Chicago', 'modification date': '2018-07-30'}\n",
      "{'geonameid': '4707415', 'name': 'London', 'asciiname': 'London', 'alternatenames': 'London,Norfolk', 'latitude': '32.23099', 'longitude': '-94.94438', 'feature class': 'P', 'feature code': 'PPL', 'country code': 'US', 'cc2': '', 'admin1 code': 'TX', 'admin2 code': '401', 'admin3 code': '', 'admin4 code': '', 'population': '0', 'elevation': '165', 'dem': '167', 'timezone': 'America/Chicago', 'modification date': '2006-01-15'}\n",
      "{'geonameid': '2308696', 'name': 'London', 'asciiname': 'London', 'alternatenames': 'London,Londone', 'latitude': '2.26815', 'longitude': '9.78934', 'feature class': 'P', 'feature code': 'PPL', 'country code': 'GQ', 'cc2': '', 'admin1 code': '00', 'admin2 code': '', 'admin3 code': '', 'admin4 code': '', 'population': '0', 'elevation': '', 'dem': '-9999', 'timezone': 'Africa/Malabo', 'modification date': '2020-02-29'}\n",
      "{'geonameid': '5161176', 'name': 'London', 'asciiname': 'London', 'alternatenames': 'London,New London', 'latitude': '40.91033', 'longitude': '-82.62934', 'feature class': 'P', 'feature code': 'PPL', 'country code': 'US', 'cc2': '', 'admin1 code': 'OH', 'admin2 code': '139', 'admin3 code': '12420', 'admin4 code': '', 'population': '0', 'elevation': '332', 'dem': '331', 'timezone': 'America/New_York', 'modification date': '2017-05-23'}\n",
      "{'geonameid': '5737562', 'name': 'London', 'asciiname': 'London', 'alternatenames': '', 'latitude': '43.63457', 'longitude': '-123.09285', 'feature class': 'P', 'feature code': 'PPL', 'country code': 'US', 'cc2': '', 'admin1 code': 'OR', 'admin2 code': '039', 'admin3 code': '', 'admin4 code': '', 'population': '0', 'elevation': '274', 'dem': '273', 'timezone': 'America/Los_Angeles', 'modification date': '2006-01-15'}\n",
      "{'geonameid': '11546715', 'name': 'London', 'asciiname': 'London', 'alternatenames': 'London', 'latitude': '16.26487', 'longitude': '-61.48832', 'feature class': 'P', 'feature code': 'PPL', 'country code': 'GP', 'cc2': '', 'admin1 code': '00', 'admin2 code': '', 'admin3 code': '', 'admin4 code': '', 'population': '0', 'elevation': '', 'dem': '31', 'timezone': 'America/Guadeloupe', 'modification date': '2017-05-09'}\n",
      "{'geonameid': '4073570', 'name': 'London', 'asciiname': 'London', 'alternatenames': '', 'latitude': '31.29767', 'longitude': '-87.08775', 'feature class': 'P', 'feature code': 'PPL', 'country code': 'US', 'cc2': '', 'admin1 code': 'AL', 'admin2 code': '035', 'admin3 code': '', 'admin4 code': '', 'population': '0', 'elevation': '83', 'dem': '88', 'timezone': 'America/Chicago', 'modification date': '2006-01-15'}\n",
      "{'geonameid': '4073571', 'name': 'London', 'asciiname': 'London', 'alternatenames': '', 'latitude': '32.2732', 'longitude': '-86.05024', 'feature class': 'P', 'feature code': 'PPL', 'country code': 'US', 'cc2': '', 'admin1 code': 'AL', 'admin2 code': '101', 'admin3 code': '', 'admin4 code': '', 'population': '0', 'elevation': '83', 'dem': '89', 'timezone': 'America/Chicago', 'modification date': '2006-01-15'}\n",
      "{'geonameid': '4637795', 'name': 'London', 'asciiname': 'London', 'alternatenames': '', 'latitude': '35.86982', 'longitude': '-83.00209', 'feature class': 'P', 'feature code': 'PPL', 'country code': 'US', 'cc2': '', 'admin1 code': 'TN', 'admin2 code': '029', 'admin3 code': '', 'admin4 code': '', 'population': '0', 'elevation': '443', 'dem': '451', 'timezone': 'America/New_York', 'modification date': '2006-01-15'}\n",
      "{'geonameid': '3581797', 'name': 'London', 'asciiname': 'London', 'alternatenames': '', 'latitude': '17.98333', 'longitude': '-88.43333', 'feature class': 'P', 'feature code': 'PPL', 'country code': 'BZ', 'cc2': '', 'admin1 code': '04', 'admin2 code': '', 'admin3 code': '', 'admin4 code': '', 'population': '0', 'elevation': '', 'dem': '15', 'timezone': 'America/Belize', 'modification date': '1993-12-18'}\n",
      "{'geonameid': '4999913', 'name': 'London', 'asciiname': 'London', 'alternatenames': '', 'latitude': '42.02004', 'longitude': '-83.61327', 'feature class': 'P', 'feature code': 'PPL', 'country code': 'US', 'cc2': '', 'admin1 code': 'MI', 'admin2 code': '115', 'admin3 code': '49180', 'admin4 code': '', 'population': '0', 'elevation': '203', 'dem': '201', 'timezone': 'America/Detroit', 'modification date': '2017-05-23'}\n",
      "{'geonameid': '10293491', 'name': 'London', 'asciiname': 'London', 'alternatenames': '', 'latitude': '43.86879', 'longitude': '10.24269', 'feature class': 'S', 'feature code': 'HTL', 'country code': 'IT', 'cc2': '', 'admin1 code': '16', 'admin2 code': 'LU', 'admin3 code': '046033', 'admin4 code': '', 'population': '0', 'elevation': '', 'dem': '5', 'timezone': 'Europe/Rome', 'modification date': '2015-05-29'}\n",
      "{'geonameid': '10009591', 'name': 'London', 'asciiname': 'London', 'alternatenames': 'London', 'latitude': '8.60002', 'longitude': '-10.84547', 'feature class': 'P', 'feature code': 'PPL', 'country code': 'SL', 'cc2': '', 'admin1 code': '01', 'admin2 code': '', 'admin3 code': '', 'admin4 code': '', 'population': '0', 'elevation': '', 'dem': '458', 'timezone': 'Africa/Freetown', 'modification date': '2015-02-08'}\n",
      "{'geonameid': '11281530', 'name': 'London', 'asciiname': 'London', 'alternatenames': '', 'latitude': '13.34046', 'longitude': '-61.12514', 'feature class': 'P', 'feature code': 'PPL', 'country code': 'VC', 'cc2': '', 'admin1 code': '', 'admin2 code': '', 'admin3 code': '', 'admin4 code': '', 'population': '0', 'elevation': '', 'dem': '20', 'timezone': 'America/St_Vincent', 'modification date': '2016-10-27'}\n",
      "{'geonameid': '4812926', 'name': 'London', 'asciiname': 'London', 'alternatenames': '', 'latitude': '38.19455', 'longitude': '-81.36872', 'feature class': 'P', 'feature code': 'PPL', 'country code': 'US', 'cc2': '', 'admin1 code': 'WV', 'admin2 code': '039', 'admin3 code': '', 'admin4 code': '', 'population': '0', 'elevation': '196', 'dem': '197', 'timezone': 'America/New_York', 'modification date': '2006-01-15'}\n",
      "took 0.018s\n"
     ]
    }
   ],
   "source": [
    "name_idx = {}\n",
    "for town in places.values():\n",
    "    id = int(town['geonameid'])\n",
    "    # matching_places = None\n",
    "    # if town['name'] in name_idx:\n",
    "    #     matching_places = name_idx[town['name']]\n",
    "    # else:\n",
    "    #     matching_places = set()\n",
    "    #     name_idx[town['name']] = matching_places\n",
    "    # matching_places.add(id)\n",
    "\n",
    "    # setdefault retrieves the value for key or adds\n",
    "    # the given default value if the key does not exist.\n",
    "    name_idx.setdefault(town['name'], set()).add(id)\n",
    "\n",
    "def index_search(db, idx, query):\n",
    "    \"\"\"Search using the secondary index 'idx', then look up directly in the database.\"\"\"\n",
    "    for id in idx[query]:\n",
    "        yield db[id]\n",
    "\n",
    "start = time.time()\n",
    "for result in index_search(places, name_idx, \"London\"): print(result)\n",
    "elapsed = time.time() - start\n",
    "print(f\"took {elapsed:.2g}s\")\n"
   ]
  },
  {
   "cell_type": "markdown",
   "metadata": {},
   "source": [
    "## Range Queries\n",
    "\n",
    "We want to find all towns with a population between 10M and 15M, but avoid a costly linear pass.\n",
    "\n",
    "Solution: use a lists of (population, geonameid) tuples, sorted by population. Using binary search, we can find the boundaries for the requested range."
   ]
  },
  {
   "cell_type": "code",
   "execution_count": 10,
   "metadata": {},
   "outputs": [
    {
     "name": "stdout",
     "output_type": "stream",
     "text": [
      "Found 12 entities.\n",
      "Seoul 10349312\n",
      "Dhaka 10356500\n",
      "Moscow 10381222\n",
      "Wuhan 10392693\n",
      "Delhi 10927986\n",
      "Tianjin 11090314\n",
      "Karachi 11624219\n",
      "Mexico City 12294193\n",
      "São Paulo 12400232\n",
      "Mumbai 12691836\n",
      "Chengdu 13568357\n",
      "Istanbul 14804116\n",
      "took 0.025s\n"
     ]
    }
   ],
   "source": [
    "# Create the index.\n",
    "population_idx = []\n",
    "for town in places.values():\n",
    "    # Only include the 'populated place' class, but exclude admin areas and countries.\n",
    "    if town['feature class'] == 'P':\n",
    "        population_idx.append((int(town['population']), int(town['geonameid'])))\n",
    "population_idx.sort()  # Sort first by population, then id\n",
    "\n",
    "# Use bisect instead of implementing binary search ourselves:\n",
    "import bisect\n",
    "# Use operator.itemgetter(0) to extract the population from the (pop, id) tuple.\n",
    "import operator\n",
    "import time\n",
    "start = time.time()\n",
    "\n",
    "# The index of the smallest entity in population_idx greater or equal than 10M.\n",
    "lower = bisect.bisect_left(population_idx, 10e6, key=operator.itemgetter(0))\n",
    "# The index of the largest entity in population_idx greater than 15M.\n",
    "upper = bisect.bisect_right(population_idx, 15e6, key=operator.itemgetter(0))\n",
    "print(f\"Found {upper - lower} entities.\")\n",
    "for idx in range(lower, upper):\n",
    "    entity = places[population_idx[idx][1]]\n",
    "    print(entity['name'], entity['population'])\n",
    "\n",
    "elapsed = time.time() - start\n",
    "print(f\"took {elapsed:.2g}s\")"
   ]
  },
  {
   "cell_type": "markdown",
   "metadata": {},
   "source": [
    "## Trees\n",
    "\n",
    "Instead of binary search on a sorted array, we can achieve the same speed (albeit using more memory) by organizing the population index as a [binary search tree](https://en.wikipedia.org/wiki/Binary_search_tree): Each node stores two (hence, _binary_) child nodes, where all nodes on the left have a lower population, and all nodes on the right have a equal or greater population. Ideally, the root node represents the median population of all cities, so that each subtree contains the same number of entities.\n",
    "\n",
    "[![Example Graph](figures/Binary%20Tree%20by%20Population.svg)](http://magjac.com/graphviz-visual-editor/?dot=digraph%20BST_Pop%20%7B%0A%20%20%20%20rankdir%3DTB%3B%20ordering%3Dout%3B%0A%09node%20%5Bshape%20%3D%20circle%3B%20width%3D1%3B%20fixedwidth%3Dtrue%5D%3B%0A%0A%20%20%20%20Seoul%5Blabel%3D%3Cpop%3A%2010349312%3CBR%2F%3E%5CN%3E%5D%0A%20%20%20%20Moscow%5Blabel%3D%3Cpop%3A%2010381222%3CBR%2F%3E%5CN%3E%5D%0A%20%20%20%20Wuhan%5Blabel%3D%3Cpop%3A%2010392693%3CBR%2F%3E%5CN%3E%5D%0A%20%20%20%20Tianjin%5Blabel%3D%3Cpop%3A%2011090314%3CBR%2F%3E%5CN%3E%5D%0A%20%20%20%20Karachi%5Blabel%3D%3Cpop%3A%2011624219%3CBR%2F%3E%5CN%3E%5D%0A%20%20%20%20S%C3%A3o_Paulo%5Blabel%3D%3Cpop%3A%2012400232%3CBR%2F%3ES%C3%A3o%20Paulo%3E%5D%0A%20%20%20%20Chengdu%5Blabel%3D%3Cpop%3A%2013568357%3CBR%2F%3E%5CN%3E%5D%0A%20%20%20%20%0A%0A%20%20%20%20Tianjin%20-%3E%20Moscow%20%5Blabel%3Dleft%5D%3B%0A%20%20%20%20Tianjin%20-%3E%20S%C3%A3o_Paulo%20%5Blabel%3Dright%5D%3B%0A%20%20%20%20Moscow%20-%3E%20Seoul%20%5Blabel%3Dleft%5D%3B%0A%20%20%20%20Moscow%20-%3E%20Wuhan%20%5Blabel%3Dright%5D%3B%0A%20%20%20%20S%C3%A3o_Paulo%20-%3E%20Karachi%20%5Blabel%3Dleft%5D%3B%0A%20%20%20%20S%C3%A3o_Paulo%20-%3E%20Chengdu%20%5Blabel%3Dright%5D%3B%0A%0A%7D%0A)"
   ]
  },
  {
   "cell_type": "markdown",
   "metadata": {},
   "source": [
    "We are going to build such a tree below. One crucial part is finding the right nodes such that the tree is approximately balanced and does not degenerate into a _vine_:\n",
    "\n",
    "![BST Vine](figures/bst-vine.png)\n",
    "\n",
    "Ideally, we choose the median element from the sorted array as root, and then recursively continue to choose the left and right children from the left and right halves of the array."
   ]
  },
  {
   "cell_type": "code",
   "execution_count": 11,
   "metadata": {},
   "outputs": [],
   "source": [
    "class Node:\n",
    "    \"\"\"A tree node, also represents an entire (sub-)tree.\"\"\"\n",
    "    def __init__(self, key, value):\n",
    "        self.key = key\n",
    "        self.value = value\n",
    "        self.left = None\n",
    "        self.right = None\n",
    "\n",
    "def build_tree(sorted_tuples, left=None, right=None):\n",
    "    \"\"\"Builds a binary search tree from a sorted tuple list.\"\"\"\n",
    "    left = left if left is not None else 0\n",
    "    right = right if right is not None else len(sorted_tuples) - 1\n",
    "\n",
    "    # Stop when the given range is empty.\n",
    "    if left > right:\n",
    "        return None\n",
    "    median = (left + right) // 2\n",
    "    element = sorted_tuples[median]\n",
    "    node = Node(element[0], element[1])\n",
    "    node.left = build_tree(sorted_tuples, left, median - 1)\n",
    "    node.right = build_tree(sorted_tuples, median + 1, right)\n",
    "    return node\n",
    "\n",
    "population_tree = build_tree(population_idx)"
   ]
  },
  {
   "cell_type": "markdown",
   "metadata": {},
   "source": [
    "Now let's query the tree index:"
   ]
  },
  {
   "cell_type": "code",
   "execution_count": 13,
   "metadata": {},
   "outputs": [
    {
     "name": "stdout",
     "output_type": "stream",
     "text": [
      "Seoul 10349312\n",
      "Dhaka 10356500\n",
      "Moscow 10381222\n",
      "Wuhan 10392693\n",
      "Delhi 10927986\n",
      "Tianjin 11090314\n",
      "Karachi 11624219\n",
      "Mexico City 12294193\n",
      "São Paulo 12400232\n",
      "Mumbai 12691836\n",
      "Chengdu 13568357\n",
      "Istanbul 14804116\n",
      "took 0.001s\n"
     ]
    }
   ],
   "source": [
    "def tree_search(node, lower, upper):\n",
    "    \"\"\"Traverses tree from lower to upper key.\"\"\"\n",
    "    if node is None:\n",
    "        return  # reached the bottom of the tree\n",
    "    if lower < node.key:\n",
    "        # return elements on our left\n",
    "        yield from tree_search(node.left, lower, upper)\n",
    "    if lower <= node.key <= upper:\n",
    "        yield node.value  # return this node's value\n",
    "    if node.key <= upper:\n",
    "        # return elements on our right\n",
    "        yield from tree_search(node.right, lower, upper)\n",
    "\n",
    "import time\n",
    "start = time.time()\n",
    "\n",
    "for geonameid in tree_search(population_tree, 10e6, 15e6):\n",
    "    entity = places[geonameid]\n",
    "    print(entity['name'], entity['population'])\n",
    "\n",
    "elapsed = time.time() - start\n",
    "print(f\"took {elapsed:.2g}s\")"
   ]
  }
 ],
 "metadata": {
  "kernelspec": {
   "display_name": "Python 3",
   "language": "python",
   "name": "python3"
  },
  "language_info": {
   "codemirror_mode": {
    "name": "ipython",
    "version": 3
   },
   "file_extension": ".py",
   "mimetype": "text/x-python",
   "name": "python",
   "nbconvert_exporter": "python",
   "pygments_lexer": "ipython3",
   "version": "3.11.2"
  },
  "orig_nbformat": 4
 },
 "nbformat": 4,
 "nbformat_minor": 2
}
