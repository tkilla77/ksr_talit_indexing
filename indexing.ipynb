{
 "cells": [
  {
   "cell_type": "markdown",
   "metadata": {},
   "source": [
    "# Indexing"
   ]
  },
  {
   "cell_type": "markdown",
   "metadata": {},
   "source": [
    "## Direct Indexing"
   ]
  },
  {
   "cell_type": "markdown",
   "metadata": {},
   "source": [
    "## Example Data from geonames\n",
    "\n",
    "From http://download.geonames.org/export/dump/\n",
    "\n",
    "```\n",
    "The main 'geoname' table has the following fields :\n",
    "---------------------------------------------------\n",
    "geonameid         : integer id of record in geonames database\n",
    "name              : name of geographical point (utf8) varchar(200)\n",
    "asciiname         : name of geographical point in plain ascii characters, varchar(200)\n",
    "alternatenames    : alternatenames, comma separated, ascii names automatically transliterated, convenience attribute from alternatename table, varchar(10000)\n",
    "latitude          : latitude in decimal degrees (wgs84)\n",
    "longitude         : longitude in decimal degrees (wgs84)\n",
    "feature class     : see http://www.geonames.org/export/codes.html, char(1)\n",
    "feature code      : see http://www.geonames.org/export/codes.html, varchar(10)\n",
    "country code      : ISO-3166 2-letter country code, 2 characters\n",
    "cc2               : alternate country codes, comma separated, ISO-3166 2-letter country code, 200 characters\n",
    "admin1 code       : fipscode (subject to change to iso code), see exceptions below, see file admin1Codes.txt for display names of this code; varchar(20)\n",
    "admin2 code       : code for the second administrative division, a county in the US, see file admin2Codes.txt; varchar(80) \n",
    "admin3 code       : code for third level administrative division, varchar(20)\n",
    "admin4 code       : code for fourth level administrative division, varchar(20)\n",
    "population        : bigint (8 byte int) \n",
    "elevation         : in meters, integer\n",
    "dem               : digital elevation model, srtm3 or gtopo30, average elevation of 3''x3'' (ca 90mx90m) or 30''x30'' (ca 900mx900m) area in meters, integer. srtm processed by cgiar/ciat.\n",
    "timezone          : the iana timezone id (see file timeZone.txt) varchar(40)\n",
    "modification date : date of last modification in yyyy-MM-dd format\n",
    "```\n",
    "\n"
   ]
  },
  {
   "cell_type": "code",
   "execution_count": 108,
   "metadata": {},
   "outputs": [
    {
     "name": "stdout",
     "output_type": "stream",
     "text": [
      "  % Total    % Received % Xferd  Average Speed   Time    Time     Time  Current\n",
      "                                 Dload  Upload   Total   Spent    Left  Speed\n",
      "100  361M  100  361M    0     0  11.0M      0  0:00:32  0:00:32 --:--:-- 11.0M0.3M      0  0:00:35  0:00:02  0:00:33 10.3M00:29  0:00:03 11.0M\n"
     ]
    }
   ],
   "source": [
    "# Download\n",
    "!curl http://download.geonames.org/export/dump/allCountries.zip --output data/allCountries.zip\n"
   ]
  },
  {
   "cell_type": "code",
   "execution_count": 72,
   "metadata": {},
   "outputs": [],
   "source": [
    "\n",
    "def read_geonames(filename):\n",
    "    from io import TextIOWrapper\n",
    "    import zipfile\n",
    "    import csv\n",
    "    result = {}\n",
    "    with zipfile.ZipFile(f'data/{filename}.zip') as myzip:\n",
    "        with myzip.open(f'{filename}.txt', 'r') as csv_file:\n",
    "            reader = csv.DictReader(TextIOWrapper(csv_file, 'utf-8'), delimiter='\\t', fieldnames=['geonameid', 'name', 'asciiname', 'alternatenames', 'latitude', 'longitude', 'feature class', 'feature code', 'country code', 'cc2', 'admin1 code', 'admin2 code', 'admin3 code', 'admin4 code', 'population', 'elevation', 'dem', 'timezone', 'modification date'])\n",
    "            for data in reader:\n",
    "                result[int(data['geonameid'])] = data\n",
    "\n",
    "    return result\n",
    "\n",
    "cities = read_geonames('cities500')\n",
    "places = read_geonames('allCountries')"
   ]
  },
  {
   "cell_type": "markdown",
   "metadata": {},
   "source": [
    "## Visualize\n",
    "\n",
    "Print the size and look at the first entry. Refrain from using Pandas as we want to code retrieval ourselves."
   ]
  },
  {
   "cell_type": "code",
   "execution_count": 64,
   "metadata": {},
   "outputs": [
    {
     "name": "stdout",
     "output_type": "stream",
     "text": [
      "199727\n"
     ]
    },
    {
     "data": {
      "text/plain": [
       "{'geonameid': '3038999',\n",
       " 'name': 'Soldeu',\n",
       " 'asciiname': 'Soldeu',\n",
       " 'alternatenames': '',\n",
       " 'latitude': '42.57688',\n",
       " 'longitude': '1.66769',\n",
       " 'feature class': 'P',\n",
       " 'feature code': 'PPL',\n",
       " 'country code': 'AD',\n",
       " 'cc2': '',\n",
       " 'admin1 code': '02',\n",
       " 'admin2 code': '',\n",
       " 'admin3 code': '',\n",
       " 'admin4 code': '',\n",
       " 'population': '602',\n",
       " 'elevation': '',\n",
       " 'dem': '1832',\n",
       " 'timezone': 'Europe/Andorra',\n",
       " 'modification date': '2017-11-06'}"
      ]
     },
     "execution_count": 64,
     "metadata": {},
     "output_type": "execute_result"
    }
   ],
   "source": [
    "print(len(cities))\n",
    "next(iter(cities.values()))\n",
    "\n"
   ]
  },
  {
   "cell_type": "markdown",
   "metadata": {},
   "source": [
    "## Lookup\n",
    "Let's find London in the data - oh, we have more than one?"
   ]
  },
  {
   "cell_type": "code",
   "execution_count": 76,
   "metadata": {},
   "outputs": [
    {
     "name": "stdout",
     "output_type": "stream",
     "text": [
      "{'geonameid': '6058560', 'name': 'London', 'asciiname': 'London', 'alternatenames': 'Landona,London,Londonas,Londono,YXU,leondeon,lndn,lndn  antaryw,londoni,lun dui,lun dun,lwndwn,rondon,Лондон,לונדון,لندن,لندن، انتاریو,لندن، اونٹاریو,ლონდონი,ロンドン,伦敦,런던', 'latitude': '42.98339', 'longitude': '-81.23304', 'feature class': 'P', 'feature code': 'PPL', 'country code': 'CA', 'cc2': '', 'admin1 code': '08', 'admin2 code': '', 'admin3 code': '', 'admin4 code': '', 'population': '346765', 'elevation': '', 'dem': '252', 'timezone': 'America/Toronto', 'modification date': '2012-08-19'}\n",
      "{'geonameid': '2643743', 'name': 'London', 'asciiname': 'London', 'alternatenames': 'ILondon,LON,Lakana,Landan,Landen,Ljondan,Llundain,Lodoni,Londain,Londan,Londar,Londe,Londen,Londin,Londinium,Londino,Londn,London,London osh,Londona,Londonas,Londoni,Londono,Londons,Londonu,Londra,Londres,Londrez,Londri,Londro,Londye,Londyn,Londýn,Lonn,Lontoo,Loundres,Luan GJon,Lun-tun,Lunden,Lundra,Lundun,Lundunir,Lundúnir,Lung-dung,Lunnainn,Lunnin,Lunnon,Luân Đôn,Lùn-tûn,Lùng-dŭng,Lûn-tun,Lākana,Lůndůn,Lọndọnu,Ranana,Rānana,ilantan,ladana,landan,landana,leondeon,lndn,london,londoni,lun dui,lun dun,lwndwn,lxndxn,rondon,Łondra,Λονδίνο,Лондан,Лондон,Лондон ош,Лондонъ,Лёндан,Լոնդոն,לאנדאן,לונדון,لأندأن,لندن,لوندون,لەندەن,ܠܘܢܕܘܢ,लंडन,लंदन,लण्डन,लन्डन्,लन्दन,লন্ডন,ਲੰਡਨ,લંડન,ଲଣ୍ଡନ,இலண்டன்,లండన్,ಲಂಡನ್,ലണ്ടൻ,ලන්ඩන්,ลอนดอน,ລອນດອນ,ལོན་ཊོན།,လန်ဒန်မြို့,ლონდონი,ለንደን,ᎫᎴ ᏗᏍᎪᏂᎯᏱ,ロンドン,伦敦,倫敦,런던', 'latitude': '51.50853', 'longitude': '-0.12574', 'feature class': 'P', 'feature code': 'PPLC', 'country code': 'GB', 'cc2': '', 'admin1 code': 'ENG', 'admin2 code': 'GLA', 'admin3 code': '', 'admin4 code': '', 'population': '8961989', 'elevation': '', 'dem': '25', 'timezone': 'Europe/London', 'modification date': '2022-03-09'}\n",
      "{'geonameid': '4119617', 'name': 'London', 'asciiname': 'London', 'alternatenames': 'Haddoxburg,London', 'latitude': '35.32897', 'longitude': '-93.25296', 'feature class': 'P', 'feature code': 'PPL', 'country code': 'US', 'cc2': '', 'admin1 code': 'AR', 'admin2 code': '115', 'admin3 code': '90813', 'admin4 code': '', 'population': '1046', 'elevation': '116', 'dem': '121', 'timezone': 'America/Chicago', 'modification date': '2017-05-23'}\n",
      "{'geonameid': '4298960', 'name': 'London', 'asciiname': 'London', 'alternatenames': 'LOZ,Landon,London,Riceton,lndn,lndn  kntaky,lun dui,Ландон,Лондон,لندن,لندن، کنتاکی,伦敦', 'latitude': '37.12898', 'longitude': '-84.08326', 'feature class': 'P', 'feature code': 'PPLA2', 'country code': 'US', 'cc2': '', 'admin1 code': 'KY', 'admin2 code': '125', 'admin3 code': '', 'admin4 code': '', 'population': '8126', 'elevation': '378', 'dem': '379', 'timezone': 'America/New_York', 'modification date': '2017-03-09'}\n",
      "{'geonameid': '4517009', 'name': 'London', 'asciiname': 'London', 'alternatenames': 'Landon,Limerick,London,New London,lndn,lndn  awhayw,Ландон,لندن,لندن، اوهایو', 'latitude': '39.88645', 'longitude': '-83.44825', 'feature class': 'P', 'feature code': 'PPLA2', 'country code': 'US', 'cc2': '', 'admin1 code': 'OH', 'admin2 code': '097', 'admin3 code': '44674', 'admin4 code': '', 'population': '10060', 'elevation': '321', 'dem': '321', 'timezone': 'America/New_York', 'modification date': '2017-05-23'}\n",
      "{'geonameid': '5367815', 'name': 'London', 'asciiname': 'London', 'alternatenames': 'London,Londres,New London', 'latitude': '36.47606', 'longitude': '-119.44318', 'feature class': 'P', 'feature code': 'PPL', 'country code': 'US', 'cc2': '', 'admin1 code': 'CA', 'admin2 code': '107', 'admin3 code': '', 'admin4 code': '', 'population': '1869', 'elevation': '91', 'dem': '93', 'timezone': 'America/Los_Angeles', 'modification date': '2011-05-14'}\n",
      "took 0.024s\n"
     ]
    }
   ],
   "source": [
    "def lin_search(db, attribute, query):\n",
    "    for town in db.values():\n",
    "        if town[attribute] == query:\n",
    "            yield town\n",
    "\n",
    "start = time.time()\n",
    "for result in lin_search(cities, \"name\", \"London\"): print(result)\n",
    "elapsed = time.time() - start\n",
    "print(f\"took {elapsed:.2g}s\")\n"
   ]
  },
  {
   "cell_type": "markdown",
   "metadata": {},
   "source": [
    "### Direct Lookup\n",
    "\n",
    "When reading the data, we conveniently recorded a dictionary with the `geonameid` as key. If we know it, lookup is quick, roughly 100x faster than looking through the entire dictionary:"
   ]
  },
  {
   "cell_type": "code",
   "execution_count": 82,
   "metadata": {},
   "outputs": [
    {
     "name": "stdout",
     "output_type": "stream",
     "text": [
      "took 3.1e-05s\n"
     ]
    }
   ],
   "source": [
    "import time\n",
    "start = time.time()\n",
    "cities[2643743]\n",
    "elapsed = time.time() - start\n",
    "print(f\"took {elapsed:.2g}s\")"
   ]
  },
  {
   "cell_type": "markdown",
   "metadata": {},
   "source": [
    "### Secondary Index\n",
    "\n",
    "We want fast lookups for town name, so we create a second index: a dictionary that maps from town name to the primary, unique key (geonameid). Index values are sets of ids. We also convert geonameids into numbers to save space.\n",
    "\n",
    "Execution is roughly 100x faster than with linear search."
   ]
  },
  {
   "cell_type": "code",
   "execution_count": 86,
   "metadata": {},
   "outputs": [
    {
     "name": "stdout",
     "output_type": "stream",
     "text": [
      "{'geonameid': '6058560', 'name': 'London', 'asciiname': 'London', 'alternatenames': 'Landona,London,Londonas,Londono,YXU,leondeon,lndn,lndn  antaryw,londoni,lun dui,lun dun,lwndwn,rondon,Лондон,לונדון,لندن,لندن، انتاریو,لندن، اونٹاریو,ლონდონი,ロンドン,伦敦,런던', 'latitude': '42.98339', 'longitude': '-81.23304', 'feature class': 'P', 'feature code': 'PPL', 'country code': 'CA', 'cc2': '', 'admin1 code': '08', 'admin2 code': '', 'admin3 code': '', 'admin4 code': '', 'population': '346765', 'elevation': '', 'dem': '252', 'timezone': 'America/Toronto', 'modification date': '2012-08-19'}\n",
      "{'geonameid': '4119617', 'name': 'London', 'asciiname': 'London', 'alternatenames': 'Haddoxburg,London', 'latitude': '35.32897', 'longitude': '-93.25296', 'feature class': 'P', 'feature code': 'PPL', 'country code': 'US', 'cc2': '', 'admin1 code': 'AR', 'admin2 code': '115', 'admin3 code': '90813', 'admin4 code': '', 'population': '1046', 'elevation': '116', 'dem': '121', 'timezone': 'America/Chicago', 'modification date': '2017-05-23'}\n",
      "{'geonameid': '5367815', 'name': 'London', 'asciiname': 'London', 'alternatenames': 'London,Londres,New London', 'latitude': '36.47606', 'longitude': '-119.44318', 'feature class': 'P', 'feature code': 'PPL', 'country code': 'US', 'cc2': '', 'admin1 code': 'CA', 'admin2 code': '107', 'admin3 code': '', 'admin4 code': '', 'population': '1869', 'elevation': '91', 'dem': '93', 'timezone': 'America/Los_Angeles', 'modification date': '2011-05-14'}\n",
      "{'geonameid': '4298960', 'name': 'London', 'asciiname': 'London', 'alternatenames': 'LOZ,Landon,London,Riceton,lndn,lndn  kntaky,lun dui,Ландон,Лондон,لندن,لندن، کنتاکی,伦敦', 'latitude': '37.12898', 'longitude': '-84.08326', 'feature class': 'P', 'feature code': 'PPLA2', 'country code': 'US', 'cc2': '', 'admin1 code': 'KY', 'admin2 code': '125', 'admin3 code': '', 'admin4 code': '', 'population': '8126', 'elevation': '378', 'dem': '379', 'timezone': 'America/New_York', 'modification date': '2017-03-09'}\n",
      "{'geonameid': '4517009', 'name': 'London', 'asciiname': 'London', 'alternatenames': 'Landon,Limerick,London,New London,lndn,lndn  awhayw,Ландон,لندن,لندن، اوهایو', 'latitude': '39.88645', 'longitude': '-83.44825', 'feature class': 'P', 'feature code': 'PPLA2', 'country code': 'US', 'cc2': '', 'admin1 code': 'OH', 'admin2 code': '097', 'admin3 code': '44674', 'admin4 code': '', 'population': '10060', 'elevation': '321', 'dem': '321', 'timezone': 'America/New_York', 'modification date': '2017-05-23'}\n",
      "{'geonameid': '2643743', 'name': 'London', 'asciiname': 'London', 'alternatenames': 'ILondon,LON,Lakana,Landan,Landen,Ljondan,Llundain,Lodoni,Londain,Londan,Londar,Londe,Londen,Londin,Londinium,Londino,Londn,London,London osh,Londona,Londonas,Londoni,Londono,Londons,Londonu,Londra,Londres,Londrez,Londri,Londro,Londye,Londyn,Londýn,Lonn,Lontoo,Loundres,Luan GJon,Lun-tun,Lunden,Lundra,Lundun,Lundunir,Lundúnir,Lung-dung,Lunnainn,Lunnin,Lunnon,Luân Đôn,Lùn-tûn,Lùng-dŭng,Lûn-tun,Lākana,Lůndůn,Lọndọnu,Ranana,Rānana,ilantan,ladana,landan,landana,leondeon,lndn,london,londoni,lun dui,lun dun,lwndwn,lxndxn,rondon,Łondra,Λονδίνο,Лондан,Лондон,Лондон ош,Лондонъ,Лёндан,Լոնդոն,לאנדאן,לונדון,لأندأن,لندن,لوندون,لەندەن,ܠܘܢܕܘܢ,लंडन,लंदन,लण्डन,लन्डन्,लन्दन,লন্ডন,ਲੰਡਨ,લંડન,ଲଣ୍ଡନ,இலண்டன்,లండన్,ಲಂಡನ್,ലണ്ടൻ,ලන්ඩන්,ลอนดอน,ລອນດອນ,ལོན་ཊོན།,လန်ဒန်မြို့,ლონდონი,ለንደን,ᎫᎴ ᏗᏍᎪᏂᎯᏱ,ロンドン,伦敦,倫敦,런던', 'latitude': '51.50853', 'longitude': '-0.12574', 'feature class': 'P', 'feature code': 'PPLC', 'country code': 'GB', 'cc2': '', 'admin1 code': 'ENG', 'admin2 code': 'GLA', 'admin3 code': '', 'admin4 code': '', 'population': '8961989', 'elevation': '', 'dem': '25', 'timezone': 'Europe/London', 'modification date': '2022-03-09'}\n",
      "took 0.00024s\n"
     ]
    }
   ],
   "source": [
    "name_idx = {}\n",
    "for town in cities.values():\n",
    "    id = int(town['geonameid'])\n",
    "    # setdefault retrieves the value for key or adds\n",
    "    # the given default value if the key does not exist.\n",
    "    name_idx.setdefault(town['name'], set()).add(id)\n",
    "\n",
    "def index_search(db, idx, query):\n",
    "    for id in idx[query]:\n",
    "        yield db[id]\n",
    "\n",
    "start = time.time()\n",
    "for result in index_search(cities, name_idx, \"London\"): print(result)\n",
    "elapsed = time.time() - start\n",
    "print(f\"took {elapsed:.2g}s\")\n"
   ]
  },
  {
   "cell_type": "markdown",
   "metadata": {},
   "source": [
    "## Range Queries\n",
    "\n",
    "We want to find all towns with a population between 10M and 15M, but avoid a costly linear pass.\n",
    "\n",
    "Solution: use a lists of (population, geonameid) tuples, sorted by population. Using binary search, we can find the boundaries for the requested range."
   ]
  },
  {
   "cell_type": "code",
   "execution_count": 107,
   "metadata": {},
   "outputs": [
    {
     "name": "stdout",
     "output_type": "stream",
     "text": [
      "Found 12 cities.\n",
      "Seoul 10349312\n",
      "Dhaka 10356500\n",
      "Moscow 10381222\n",
      "Wuhan 10392693\n",
      "Delhi 10927986\n",
      "Tianjin 11090314\n",
      "Karachi 11624219\n",
      "Mexico City 12294193\n",
      "São Paulo 12400232\n",
      "Mumbai 12691836\n",
      "Chengdu 13568357\n",
      "Istanbul 14804116\n",
      "Lagos 15388000\n",
      "took 0.00023s\n"
     ]
    }
   ],
   "source": [
    "# Create the index.\n",
    "population_idx = []\n",
    "for town in cities.values():\n",
    "    population_idx.append((int(town['population']), int(town['geonameid'])))\n",
    "population_idx.sort()  # Sort first by population, then id\n",
    "\n",
    "# Instead of implementing binary search ourselves...\n",
    "import bisect\n",
    "# Use operator.itemgetter(0) to extract the population from the (pop, id) tuple.\n",
    "import operator\n",
    "import time\n",
    "start = time.time()\n",
    "\n",
    "lower = bisect.bisect_left(population_idx, 10e6, key=operator.itemgetter(0))\n",
    "upper = bisect.bisect_right(population_idx, 15e6, key=operator.itemgetter(0))\n",
    "print(f\"Found {upper - lower} cities.\")\n",
    "for idx in range(lower, upper):\n",
    "    megacity = cities[population_idx[idx][1]]\n",
    "    print(megacity['name'], megacity['population'])\n",
    "\n",
    "elapsed = time.time() - start\n",
    "print(f\"took {elapsed:.2g}s\")"
   ]
  }
 ],
 "metadata": {
  "kernelspec": {
   "display_name": "Python 3",
   "language": "python",
   "name": "python3"
  },
  "language_info": {
   "codemirror_mode": {
    "name": "ipython",
    "version": 3
   },
   "file_extension": ".py",
   "mimetype": "text/x-python",
   "name": "python",
   "nbconvert_exporter": "python",
   "pygments_lexer": "ipython3",
   "version": "3.11.2"
  },
  "orig_nbformat": 4
 },
 "nbformat": 4,
 "nbformat_minor": 2
}
