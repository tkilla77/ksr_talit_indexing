{
 "cells": [
  {
   "cell_type": "code",
   "execution_count": 1,
   "metadata": {},
   "outputs": [
    {
     "name": "stdout",
     "output_type": "stream",
     "text": [
      "Collecting wikipedia-api\n",
      "  Obtaining dependency information for wikipedia-api from https://files.pythonhosted.org/packages/2f/3f/919727b460d88c899d110f98d1a0c415264b5d8ad8176f14ce7ad9db0e3b/Wikipedia_API-0.6.0-py3-none-any.whl.metadata\n",
      "  Downloading Wikipedia_API-0.6.0-py3-none-any.whl.metadata (22 kB)\n",
      "Requirement already satisfied: requests in ./.conda/lib/python3.11/site-packages (from wikipedia-api) (2.31.0)\n",
      "Requirement already satisfied: charset-normalizer<4,>=2 in ./.conda/lib/python3.11/site-packages (from requests->wikipedia-api) (3.2.0)\n",
      "Requirement already satisfied: idna<4,>=2.5 in ./.conda/lib/python3.11/site-packages (from requests->wikipedia-api) (3.4)\n",
      "Requirement already satisfied: urllib3<3,>=1.21.1 in ./.conda/lib/python3.11/site-packages (from requests->wikipedia-api) (2.0.5)\n",
      "Requirement already satisfied: certifi>=2017.4.17 in ./.conda/lib/python3.11/site-packages (from requests->wikipedia-api) (2023.7.22)\n",
      "Downloading Wikipedia_API-0.6.0-py3-none-any.whl (14 kB)\n",
      "Installing collected packages: wikipedia-api\n",
      "Successfully installed wikipedia-api-0.6.0\n"
     ]
    }
   ],
   "source": [
    "!pip install wikipedia-api"
   ]
  },
  {
   "cell_type": "code",
   "execution_count": 49,
   "metadata": {},
   "outputs": [
    {
     "name": "stdout",
     "output_type": "stream",
     "text": [
      "https://de.wikipedia.org/wiki/Zur%C3%BCck_in_die_Zukunft_(Film)\n",
      "Zurück in die Zukunft (Originaltitel Back to the Future) ist eine Science-Fiction-Filmkomödie des Regisseurs Robert Zemeckis, die am 3. Juli 1985 in die amerikanischen und am 3. Oktober 1985 in die deutschen Kinos kam. Das Drehbuch schrieben Robert Zemeckis und Bob Gale. Der Film stellt den ersten Teil der Zurück-in-die-Zukunft-Trilogie dar. Der zweite Teil Zurück in die Zukunft II erschien 1989, der dritte Teil Zurück in die Zukunft III wurde 1990 veröffentlicht.\n",
      "Der Film erzählt die Geschichte des Schülers Marty McFly, der versehentlich per Zeitreise in das Jahr 1955 gerät und dort die Vergangenheit seiner Eltern verändert, was dazu führt, dass seine Existenz gefährdet ist. Marty muss nun versuchen, die ursprüngliche Vergangenheit wiederherzustellen und ins Jahr 1985 zurückzukehren.\n",
      "\n",
      "Handlung\n",
      "Der Jugendliche Marty McFly lebt im Jahr 1985 in seiner kalifornischen Heimatstadt Hill Valley zusammen mit seinen Geschwistern und seinen Eltern George und Lorraine. George ist ein unsicherer Mann, der von seinem Vorgesetzten Biff unterdrückt wird.\n",
      "Marty trifft sich mit dem befreundeten Wissenschaftler Dr. Brown, der ihm eine in einen DeLorean-Sportwagen eingebaute Zeitmaschine vorführt. Die für das Zeitreisen nötige Energie liefert ein mit Plutonium betriebener Kernreaktor. Dr. Brown hatte libysche Terroristen um das Plutonium betrogen. Diese haben den Betrug inzwischen bemerkt und erschießen Dr. Brown. Als sie sich auch gegen Marty wenden, flieht dieser und aktiviert versehentlich die Zeitmaschine, die ihn in das Jahr 1955 bringt. Dr. Brown hatte zuvor die Zeitmaschine zu Demonstrationszwecken auf den 5. November 1955 eingestellt, da er genau an diesem Tag die richtige Idee für die Erfindung der Zeitmaschine gehabt hatte.\n",
      "In der Vergangenheit trifft Marty auf seinen Vater George sowie auf Biff, der seinen Vater auch im Jahr 1955 unterdrückt und mobbt. Marty rettet George vor einem herannahenden Auto und wird selbst angefahren. Aufgrund des Eingreifens von Marty wird er nun an Georges Stelle in das Haus seiner Mutter Lorraine gebracht, wo diese sich um ihn kümmert und sich in ihn verliebt. Damit gerät auch Martys Existenz in Gefahr.\n",
      "Marty sucht den Dr. Brown des Jahres 1955 auf und überzeugt ihn davon, dass er aus der Zukunft kommt und mit einer von ihm gefertigten Zeitmaschine hergereist ist. Dr. Brown erklärt sich bereit, Marty bei seiner Rückkehr ins Jahr 1985 zu helfen. Das Plutonium der Zeitmaschine ist verbraucht und kann im Jahr 1955 nicht beschafft werden. Marty weiß zufällig, dass am folgenden Samstag um 22:04 Uhr ein Blitz in das Rathaus von Hill Valley einschlagen wird. Dessen Energie soll genutzt werden, die Rückreise ins Jahr 1985 zu ermöglichen.\n",
      "Vor seiner Rückkehr muss Marty jedoch noch seine Eltern dazu bringen, sich ineinander zu verlieben. Dieses Vorhaben stellt sich als schwierig heraus, da George ein schüchterner Außenseiter ist. Von Lorraine erfährt Marty, dass diese eine Vorliebe für starke Männer hat, die eine Frau beschützen können.\n",
      "Marty lässt sich daher von Lorraine zu einer Tanzveranstaltung der Schule einladen, plant allerdings, sie zu belästigen, um George die Möglichkeit zu bieten, sie vor ihm zu retten und als Held dazustehen. Der Plan misslingt, da Biffs Freunde Marty in den Kofferraum des Autos der auftretenden Musiker einsperren und Biff seinerseits Lorraine im Auto belästigt. Wie ursprünglich vereinbart, kommt George hinzu, um Lorraine zu retten. Zunächst verblüfft darüber, dass Lorraine nicht wie geplant von Marty bedrängt wird, schlägt er Biff nieder. Lorraine ist begeistert und verliebt sich in George. Durch ihren ersten Kuss während des Tanzballes wird Martys Existenz gesichert.\n",
      "Marty übergibt Dr. Brown einen verschlossenen Brief, der ihn vor seiner Erschießung 1985 warnen soll. Brown weigert sich, ihn zu lesen und zerreißt ihn aus Angst vor Konsequenzen „für das Raum-Zeit-Kontinuum“.\n",
      "Es gelingt Dr. Brown, die Energie des Blitzes im richtigen Moment in die Zeitmaschine zu leiten, was Marty ermöglicht, in das Jahr 1985 zurückzukehren. Der Ankunftsort heißt jetzt allerdings „Lone Pine Mall“ statt „Twin Pines Mall“, da Marty bei der Ankunft im Jahr 1955 eine der beiden Kiefern des Farmers Peabody umgefahren hatte. Obwohl Marty den Rückkehrzeitpunkt auf ein paar Minuten früher eingestellt hatte, kann er erneut nicht verhindern, dass die Terroristen auf Dr. Brown schießen. Der hatte jedoch inzwischen Martys Brief zusammengeklebt und doch gelesen und überlebt den Anschlag jetzt dank einer schusssicheren Weste. Er macht sich mit der Zeitmaschine dreißig Jahre in die Zukunft auf, um die Zeit dort zu erforschen.\n",
      "Durch Martys Einfluss auf die Vergangenheit hat es sein Vater im Jahr 1985 zu einem selbstbewussten und erfolgreichen Buchautor gebracht, und aus Biff wurde ein unterwürfiger Autopflege-Dienstleister.\n",
      "Zum Abschluss erscheint Dr. Brown mit der weiterentwickelten Zeitmaschine aus der Zukunft und fordert Marty und dessen Freundin auf, zusammen mit ihm dorthin zu reisen, da man ihren Kindern helfen müsse.\n",
      "\n",
      "Entstehung\n",
      "Zurück in die Zukunft wurde in Zusammenarbeit von Universal Pictures und Amblin Entertainment produziert. Die Dreharbeiten begannen am 26. November 1984 und endeten am 20. April 1985. Bis zur geplanten Veröffentlichung des Films am 3. Juli 1985 standen somit nur neun Wochen für die Postproduktion zur Verfügung.\n",
      "Die Produktionskosten wurden auf rund 19 Millionen US-Dollar geschätzt. Der Film spielte in den Kinos weltweit rund 381 Millionen US-Dollar ein, davon rund 210 Millionen US-Dollar in den USA – der Film war damit der erfolgreichste Film des Jahres 1985 in den USA.\n",
      "\n",
      "Drehbuch\n",
      "Die Arbeiten am Drehbuch begannen bereits im September des Jahres 1980, Robert Zemeckis und Bob Gale waren daran gleichermaßen beteiligt. Die Idee dafür lag Bob Gale zufolge allerdings schon länger vor. Als Inspiration für den Entwurf des Drehbuches habe ihm die Frage gedient, wie es wohl wäre, in die Vergangenheit zu reisen und dort zu prüfen, wie seine Eltern als Jugendliche waren. Gale hatte im High-School-Jahrbuch seines Vaters geblättert und festgestellt, dass dieser damals stellvertretender Klassensprecher gewesen war. Er fragte sich, ob er mit ihm damals hätte befreundet sein können, und verneinte diese Frage für sich.Ursprünglich wurde das Drehbuch für Columbia Pictures entworfen, später jedoch von diesem und anderen Studios zunächst abgelehnt. Amerikanische Jugendfilme wie Ich glaub’, ich steh’ im Wald enthielten zu dieser Zeit als zentrale Elemente oft Alkohol, Drogen oder Sex, was bei vielen Studios als Garant für kommerziellen Erfolg galt. Daher bemängelten die Verantwortlichen vieler Studios das Fehlen jener Elemente. Auch die Verantwortlichen der Walt Disney Company lehnten das Projekt ab, begründeten es allerdings anders: Sie waren der Meinung, der Film sei für ihre üblichen Zielgruppen zu obszön, was sie vor allem daran festmachten, dass sich im Film eine Mutter in ihren Sohn verliebt.Steven Spielberg erklärte sich als einziger bereit, das Drehbuch zu produzieren. Zemeckis ließ das Projekt allerdings vorerst fallen. Seine vorausgegangenen Filmkomödien I Wanna Hold Your Hand und Mit einem Bein im Kittchen, die beide von Spielberg produziert worden waren, hatten eher wenig Erfolg. Er befürchtete deshalb, ein abermals erfolgloser Film könnte ihn als Regisseur diskreditieren und ihn so um potenzielle Engagements bringen. Nachdem sein Film Auf der Jagd nach dem grünen Diamanten, für den er von Michael Douglas engagiert worden war, relativ erfolgreich war, zeigten einige Studios Interesse an dem Drehbuch zu Zurück in die Zukunft, und Zemeckis beschloss, den Film nun doch zu realisieren. Als Produzent sollte Steven Spielberg fungieren, da dieser das Drehbuch schon früher befürwortet hatte.Bevor das Drehbuch verwirklicht wurde, verlangte Sid Sheinberg, der Vorsitzende von Universal Pictures, noch einige Änderungen. Beispielsweise änderte er den Namen von Martys Mutter von Eileen zu Lorraine und benannte sie damit nach seiner Frau Lorraine Gary. Auf wenig Zustimmung stieß sein Versuch, den Titel in Spaceman From Pluto („Der Raumfahrer vom Pluto“) zu ändern. Dies konnte Steven Spielberg verhindern, indem er Sheinberg eine Notiz schickte, in der er sich für seinen gelungenen Scherz bedankte, über den alle wunderbar lachen konnten. Sheinberg war es zu peinlich, Spielberg zu antworten, dass sein Vorschlag ernst gemeint war.Die größte Schwierigkeit bereitete Gale und Zemeckis bei der Drehbucherstellung der ödipale Aspekt des Films. Die beginnende Affäre zwischen Marty und seiner Mutter musste aufgelöst werden, ohne grotesk auszusehen. Zemeckis erinnert sich: „Wir waren in einer Sackgasse, weil wir dachten, dass Marty die ödipale Geschichte beenden muss, weil er ja weiß, dass sie seine Mutter ist. […] Dann kam die große Inspiration: Es war die Mutter, die es beenden würde. Irgendetwas Komisches passiert, weil sie ihren eigenen Sohn küsst und es sich einfach nicht richtig anfühlt. Das war die perfekte Lösung.“Bis kurz vor Drehbeginn sah das Drehbuch vor, dass der Höhepunkt des Films auf einem Atomtestgelände stattfinden sollte, wo die Zeitmaschine durch die Zündung einer Atombombe die Energie für die Zeitreise zugeführt bekommen sollte. Wegen finanzieller Schwierigkeiten verwarfen sie diesen Gedanken allerdings und entwickelten die Idee, dass die Energie von einem Blitz zugeführt werden sollte.Trotz des offenen Endes war ursprünglich keine Fortsetzung geplant. Erst nach dem großen kommerziellen Erfolg, den der Film mit sich brachte, begannen Bob Gale und Robert Zemeckis mit der Entwicklung der beiden Fortsetzungen.\n",
      "\n",
      "Besetzung\n",
      "Für einige Figuren fand Zemeckis recht schnell Schauspieler, die seiner Meinung nach in die Rollen passten. Crispin Glover, der George McFly spielte, und Lea Thompson, die Lorraine Baines spielte, erhielten so schon eine Zusage, nachdem sie nur wenige Male vorgesprochen hatten. Glover und Thompson, die beide etwa zwanzig Jahre alt waren, übernahmen auch die Rollen ihrer älter gewordenen Figuren aus dem Jahr 1985, was damals noch unüblich war. Die beiden mussten daher für einige Szenen zeitaufwendig mit Make-up und Kostümen auf ein höheres Alter getrimmt werden.Auch Christopher Lloyd wurde für die Rolle des Doctor Brown schon nach kurzer Zeit verpflichtet. Bei der Darstellung seiner Rolle ließ er sich eigenen Aussagen zufolge von dem Dirigenten Leopold Stokowski inspirieren, was sich vornehmlich in seiner überschwänglichen Gestik widerspiegelt. Weitere Inspirationen habe ihm Albert Einstein geliefert.Für andere Figuren gestaltete sich die Suche nach einem geeigneten Schauspieler jedoch weitaus schwieriger. Die Suche nach einem Hauptdarsteller blieb beispielsweise zuerst erfolglos, weshalb man auch den Starttermin der Dreharbeiten verlegen musste. Michael J. Fox – Zemeckis’ Wunschkandidat für die Rolle des Marty McFly – konnte jedoch nicht engagiert werden, da er für die Serie Familienbande arbeitete. Später kristallisierten sich die Bewerber Eric Stoltz und C. Thomas Howell heraus. Stoltz bekam schließlich die Rolle. Jedoch musste Zemeckis nach fünf Wochen Dreharbeiten feststellen, dass Stoltz die Rolle des Marty McFly eher dramatisch und tragisch interpretierte, anstatt den Part mit charmanten und leichten Humor auszufüllen. Daher wandten sich die Produzenten erneut an Fox, der sich schließlich doch noch bereit erklärte, parallel zu Familienbande auch für Zurück in die Zukunft zu drehen. Eric Stoltz wurde von den Produzenten entlassen, stattdessen Fox engagiert und folglich mussten sämtliche Szenen in denen Marty McFly zu sehen war, erneut gedreht werden. Umstritten ist, ob für Zurück in die Zukunft Szenen verwendet wurden, in denen Marty noch von Stoltz verkörpert wird. Aussagen von Cast und Crew belegen jedoch, dass einzelne Einstellungen mit Stoltz für den fertigen Film verwendet wurden. So ist es seine Faust, die Schauspieler Thomas F. Wilson als Biff Tannen im Diner abwehrt. Auch sitzt Stoltz beim ersten Zeitsprung auf dem Parkplatz des Supermarktes in einigen Einstellungen hinter dem Steuer des DeLoreans. Dies ist bei sehr genauer Betrachtung im fertigen Film auch zu erkennen.Fox war nun täglich bis zu 20 Stunden mit seiner Arbeit als Schauspieler beschäftigt. Ein typischer Drehtag sah so aus, dass er um 9 Uhr aufstand, von 10 bis 18 Uhr für Familienbande arbeitete, dort direkt mit dem Auto abgeholt wurde, um ihn zu Universal zu bringen, wo er erst wieder zwischen zwei und vier Uhr nachts mit der Arbeit fertig war und nach Hause konnte. Da die Dreharbeiten zu Familienbande immer werktags stattfanden, mussten die Szenen mit Fox für Zurück in die Zukunft hauptsächlich in der Nacht gedreht werden. Viele Tagszenen konnte man nachts im Studio mit entsprechender Beleuchtung drehen, Tageslichtaufnahmen im Freien konnte Fox wegen seiner werktäglichen Verpflichtungen bei Familienbande nur an Wochenenden drehen.Die Besetzung von Michael J. Fox brachte es mit sich, dass auch die für die Rolle von Marty McFlys Freundin Jennifer ursprünglich vorgesehene Melora Hardin durch Claudia Wells ersetzt wurde, da Hardin den kleineren Fox zu sehr überragt hätte, was nach Meinung der Produzenten auf der Leinwand komisch gewirkt hätte.\n",
      "Das Vorspielen von Martys Band in der Schule erfolgt vor einer Reihe streng aussehender Lehrer. Einer davon nimmt das Megafon und bittet während der Darbietung von „Power of Love“, das Ganze zu beenden. Der unterbrechende Lehrer ist im wirklichen Leben Huey Lewis, der Sänger und Interpret ebendieses Liedes.\n",
      "Die deutsche Synchronfassung wurde durch die Berliner Synchron hergestellt. Dialogregisseur war Andreas Pollak.\n",
      "\n",
      "Produktplatzierung\n",
      "Im Vorfeld zur Produktion des Films wurden zahlreiche Produktplatzierungs-Verträge abgeschlossen, die dem Studio zusätzliche Einnahmen sichern sollten. So wird Marty beispielsweise im Jahr 1955 von seiner Mutter nach der amerikanischen Modefirma Calvin Klein benannt, weil sie diesen Namen auf seiner Unterhose gelesen hatte. Weiterhin wurden Verträge mit den Firmen Burger King, Pepsi und Toyota abgeschlossen.\n",
      "Man versuchte aber auch darauf zu achten, dass sich die Marken in die Handlung einbauen ließen. So hatte Shell zwar mehr als Texaco zahlen wollen, falls man deren Logo im Film zeigte, da man aber am Shell-Logo zwischen 1955 und 1985 keine relevante Veränderung bemerken konnte, haben sich die Filmmacher für Texaco entschieden, da hier die unterschiedlichen Firmenlogos sehr auffällig sind.\n",
      "Universal schloss auch einen Vertrag mit dem Marketing-Verband der kalifornischen Rosinenhersteller, versprach ihnen eine hervorragende Werbemöglichkeit im Film, und der Verband zahlt dafür 50.000 US-Dollar. Dies geschah allerdings ohne vorherige Rücksprache mit den Filmemachern Robert Zemeckis und Bob Gale. Als diese davon erfuhren, dachten sie, dass sie eine Rosinenmarke irgendwo im Film platzieren könnten. Als sie erfuhren, dass es sich bei diesem Sponsor um einen Verband handelte, der keine Marke vertritt, sondern lediglich das Produkt „kalifornische Rosinen“ vermarktet, waren sie überrascht. \n",
      "Bob Gale sagte „wenn ich auf der Tanzveranstaltung einfach nur eine Schüssel voller Rosinen hinstelle und das filme, sieht das aus wie eine Schüssel voller Dreck“. Letztendlich kam in den Film eine Szene, in der der Schriftzug „California Raisins“ (kalifornische Rosinen) auf einer Parkbank aufgedruckt zu sehen ist, auf der ein betrunkener Obdachloser liegt. Weil der Verband Universal deshalb mit einer Klage drohte, zahlte man das Geld zurück.\n",
      "\n",
      "Drehorte\n",
      "Zemeckis hatte vor, den Film im Vorort einer größeren Stadt zu drehen. Da man jedoch von keiner Stadt eine Genehmigung erhielt, um mehrfach Stadtfassaden nach ihren Wünschen abzuändern, entschied man sich letztendlich für das Gelände der Universal Studios. Hauptdrehort war nun der sogenannte Courthouse Square, der bereits für Dreharbeiten verwendet worden war, so zum Beispiel ursprünglich für das Gerichtsgebäude (Courthouse) in Wer die Nachtigall stört oder später für Gremlins – Kleine Monster. \n",
      "Um ihn an das Drehbuch anzupassen, musste man ihn geringfügig verändern. Beispielsweise wurde an das dort befindliche Gebäude die Uhr angebaut, in die zu einem späteren Zeitpunkt der Blitz einschlagen sollte. Sie befand sich noch bis 2003 an dieser Stelle und zeigte sogar noch die Uhrzeit 22:04 an – den Zeitpunkt, zu dem der Blitz im Film in die Uhr einschlägt. Seit 2003 wird die Fassade des Gebäudes von einer neuen Front verdeckt, so dass weder die bekannten Säulen noch die Uhr zu sehen sind. Das Gelände war von 2005 bis 2010 der Schauplatz zur Serie Ghost Whisperer.\n",
      "Soweit nicht durch Dreharbeiten besetzt, war der Platz noch ein fester Teil der Studio-Tour. Dabei waren auch die beiden Mauerstücke vom Tor der Lyon Estates zu sehen. Anfang Juni 2008 brach auf dem Gelände ein Großbrand aus, wobei laut offiziellen Angaben das Set mit dem Gerichtsgebäude und der Rathausuhr zerstört wurde. Dabei handelte es sich allerdings um eine Falschmeldung. Das Gerichtsgebäude sowie die angrenzende Main Street blieben bei dem Feuer fast unbeschädigt. Für einige weitere Szenen wurden jedoch Drehorte benötigt, die sich außerhalb des Geländes von Universal Studios befanden. So wurde außerdem in Pasadena, Burbank, Arleta sowie Whittier gefilmt.\n",
      "\n",
      "Musik\n",
      "Die Filmmusik wurde von Alan Silvestri komponiert. Das Orchester bestand aus 98 Personen; es war 1985 das größte von Universal je für einen Film zusammengestellte Orchester.Die Musik wird auch in Universal-Studios-Themenparks in der Attraktion Back to the Future: The Ride und als Hintergrundmusik an verschiedenen Orten der Parks verwendet.\n",
      "Das im Jahr 1985 erschienene Soundtrack-Album enthält zehn Titel, darunter Lieder der Künstler Eric Clapton, Etta James, Lindsey Buckingham sowie zwei Lieder, Power of Love und Back in Time, des US-amerikanischen Popmusikers Huey Lewis. Dieser spielte im Film auch das Jury-Mitglied, das zu Beginn des Films Martys Band, die ihre eigene Fassung des Liedes Power of Love spielen, wegen ihrer Lautstärke abweist. Mr. Sandman von den Four Aces und The Ballad of Davy Crockett von Fess Parker werden zwar in jeweils einer Szene im Film verwendet, sind jedoch nicht im Soundtrack enthalten.\n",
      "The Power of Love wurde für einen Oscar nominiert und erreichte Platz 1 der Billboard Hot 100. Für den Titel wurde auch ein Musikvideo produziert, in dem Doc Brown und der DeLorean einen Auftritt haben. In dem Video ist Doc Brown offenbar auf der Suche nach Huey Lewis. Er parkt die Zeitmaschine vor der Tür des Clubs, in dem die Band spielt, und geht hinein, doch ein Pärchen setzt sich in den DeLorean, spielt an den Knöpfen und Schaltern herum, und bevor Doc Brown es verhindern kann, verschwindet der Wagen und hinterlässt nur eine Spur aus Flammen. Am Ende des Clips landet der Wagen auf einem Parkplatz, die Flügeltüren öffnen sich, man hört die Frau sagen: „What a great trip“, und das abgefallene Nummernschild dreht sich nach der Zeitreise wie im Film zwischen den brennenden Blockierspuren. Das vollständige Video erschien allerdings erst 2006 auf der Zusatz-DVD zum Kompilationsalbum Greatest Hits und war in dieser langen Version vorher nicht zu sehen.\n",
      "Ende 2009 erschien zum 25-jährigen Jubiläum des Films bei dem auf Filmmusik spezialisierten Label Intrada die vollständige Filmmusik von Alan Silvestri, von der es zuvor nur zwei Stücke auf das offizielle Soundtrack-Album geschafft hatten. Die Doppel-CD enthält (neben im Film nicht verwendeten Stücken) zusätzlich eine frühe Version der Filmmusik (auf CD 2), die etwas ernster wirkt und unter anderem auf Geheiß von Steven Spielberg abgeändert wurde. Eine weitere Besonderheit dieser Veröffentlichung ist die Überschreitung der üblichen Begrenzung der Produktionsmengen auf 3000 Stück durch Wiederverwendungsgebühren der Orchester. Diese Special Limited Edition ist durch besondere Vereinbarungen auf 10.000 Exemplare limitiert. Michael Matessino schrieb einen Begleittext, der Einblicke in die Produktion des Films und seiner Musik bietet.\n",
      "In der Szene, in der Marty Johnny B. Goode spielt, hört man die Stimme von Mark Campbell und die Gitarrenriffs von Tim May. Fox lernte vier Wochen lang das Gitarrespielen (zusammen mit Paul Hanson), damit die Szene authentisch wirkt. Seine Choreographie mit Bewegungen der Gitarristen-Legenden Pete Townshend, Chuck Berry und Jimi Hendrix stammte von Brad Jeffries.\n",
      "\n",
      "Die Zeitmaschine\n",
      "Die Zeitmaschine wurde in verschiedensten Variationen entworfen und häufig abgeändert. Zuerst entwarf man sie in Gestalt einer Laser-Vorrichtung, die in einem Zimmer aufgebaut sein sollte. Anschließend entwarf man einen begehbaren Kühlschrank, der als Zeitmaschine dienen sollte. Da die Verantwortlichen allerdings befürchteten, Kinder könnten dies als Ansporn nutzen, um sich in Kühlschränke einzuschließen, verwarfen sie diese Idee.\n",
      "Schließlich entschied man sich, die Zeitmaschine mobil zu gestalten, was den Entwicklern zufolge logisch sei, da sie so stets mitgenommen werden konnte, womit eine Rückkehr erleichtert würde. Daher legte man fest, dass die Zeitmaschine in einen DeLorean DMC-12 eingebaut werden sollte. Ein Grund dafür sei der Witz gewesen, dass ein DeLorean von den Dorfbewohnern für ein außerirdisches Raumschiff gehalten würde, wenn er in der Vergangenheit ankäme.\n",
      "Von ILM, die Zemeckis mit der Verwirklichung der Spezialeffekte beauftragt hatte, erhielt er verschiedene Entwürfe, wie das sogenannte Raum-Zeit-Kontinuum, das den Übergang von einer Zeit in eine andere räumlich darstellen sollte, aussehen könnte. Da er jedoch mit keinem dieser Entwürfe zufrieden war, entschied er sich dafür, den zeitlichen Übergang nüchtern und ohne derartige Effekte darzustellen. Zemeckis wollte sich so darauf konzentrieren, Zeitreisen technisch glaubwürdig darzustellen. Zu diesem Zweck arbeiteten er und Gale den „Fluxkompensator“ (im Original flux capacitor, also eigentlich „Flusskondensator“) in das Drehbuch ein. Diese Erfindung Doc Browns sollte das Zeitreisen möglich erscheinen lassen. In Bezug auf die Funktionsweise der Zeitmaschine ließen sich die Drehbuchautoren von H. G. Wells’ Die Zeitmaschine inspirieren. So entschieden sie sich dafür, dass die Zeitmaschine nicht gleichzeitig durch Zeit und Raum reisen können sollte, da ihnen dies unmöglich erschien.Während der Dreharbeiten wurden drei Fahrzeuge verwendet. Eines wurde mit einem Porsche-Motor modifiziert und für Außenszenen, in denen ein fahrendes Auto benötigt wurde, verwendet. Ein anderes hatte einen erweiterten Innenraum für Szenen, in denen der DeLorean betreten oder verlassen wurde. Das dritte Fahrzeug war aufgesägt worden, damit man mit der Kamera im Innenraum filmen konnte. Es besaß keine äußerlichen Ausstattungen und wurde lediglich für Szenen innerhalb des DeLoreans verwendet.\n",
      "Um den jeweiligen Fahrzeugen das Aussehen einer Zeitmaschine zu verleihen und den Filmfiguren ein interessantes Fahrzeug für die Zeitreisen zu schaffen, baute man neben Flugzeugteilen diverse Dinge, die man im Abfall oder in üblichen Elektronikläden fand, an. Darunter waren zahlreiche Beleuchtungseffekte und Stromkreise, die zu den geeigneten Zeitpunkten der Handlung an- und ausgehen sollten.Nach der Veröffentlichung des Films dankte John DeLorean Zemeckis für die Verwendung des von ihm entworfenen Autos und dafür, dass Zemeckis angeblich seine Träume am Leben erhalten habe. Weiter bot er an, die Mitarbeiter, die die Zeitmaschine entworfen hatten, als Designer einzustellen. Einer der DeLoreans wurde mittlerweile von einem Fan erworben, der Wagen ist fahrtüchtig und in Kalifornien zugelassen.\n",
      "\n",
      "Zeitparadoxon\n",
      "Die Geschichte spielt wie viele ähnliche Werke unernst mit den durch Zeitreisen verursachten Paradoxa. Martys Eingriff in seine Familiengeschichte entspricht dem Großvaterparadoxon. Brown erhält von ihm selbst stammende Informationen aus der Zukunft, die nun keinen kausalen Urheber mehr haben. Als Marty 1955 das Lied Johnny B. Goode (einschließlich Duckwalk) spielt, ruft ein Bandmitglied namens Marvin Berry seinen Cousin Chuck an und empfiehlt diesem das Lied. (Chuck Berry war der Komponist und Originalinterpret von Johnny B. Goode.) Martys Aktionen in der Vergangenheit verändern zwar spürbar die Zukunft, dennoch bleiben die Veränderungen überschaubar, es gibt offenbar keinen Schmetterlingseffekt, und Martys Gedächtnis ist nicht betroffen, er erinnert sich stets an alles, was er erlebt hat.\n",
      "\n",
      "Hommagen und Anspielungen\n",
      "Der Film beinhaltet mehrere Hommagen und Anspielungen an andere Werke. Die Anfangsszene, in der man tickende Uhren sieht bzw. hört, ist eine Hommage an George Pals Film Die Zeitmaschine aus dem Jahr 1960, der mit einer ähnlichen Szene beginnt. Ebenfalls in der Anfangsszene sieht man eine Uhr, an der ein Mann am Zeiger hängt – eine Nachbildung der berühmten Uhrzeigerszene mit Harold Lloyd aus dem Stummfilm-Klassiker Ausgerechnet Wolkenkratzer! (1923). Später hängt Doc Brown als Hommage genau wie Harold Lloyd in Ausgerechnet Wolkenkratzer! am Zeiger der Rathausuhr. Martys Gegenspieler Biff Tannen wurde nach Universals Produktionschef Ned Tanen benannt. In der englischsprachigen Originalfassung fragt Marty Dr. Brown, ob sein Strahlenschutzanzug von Devo sei („Is that a Devo suit?“). Dies ist eine Anspielung auf die Band Devo, die in den 1980er Jahren für ihre ungewöhnlichen Kunststoffanzüge bekannt war. In der deutschen Synchronisation ist diese Anspielung entfallen. Marty erwähnt, während er auf ein Foto zeigt, die Klasse von 1984. Dies ist eine Anlehnung an den Film Die Klasse von 1984 mit Fox als Darsteller.\n",
      "\n",
      "Veröffentlichung\n",
      "Nach Testvorführungen des fertigen Films wurden etwa sechs Minuten Filmmaterial wieder herausgeschnitten. Es handelte sich dabei um übererklärte Szenen, die nichts zum Fortgang der Handlung beitrugen und das Filmtempo verlangsamt hätten. Kinostart in den USA war am 3. Juli 1985, in den westdeutschen Kinos lief der Film am 3. Oktober 1985 an. In Deutschland wurden rund 4,8 Millionen Kinobesucher gezählt.Ab dem 1. Dezember 1986 war der Film in Deutschland auf VHS erhältlich, als Verweis auf die kommende Fortsetzung wurde am Ende des Films erstmals der Schriftzug Fortsetzung folgt … eingefügt. Die erste Ausstrahlung im deutschen Fernsehen fand am 26. März 1989 im Ersten statt.Seit dem 26. September 2002 ist Zurück in die Zukunft auf DVD erhältlich. Am 20. Oktober 2005 erschien in Deutschland zusätzlich ein Set, in dem alle Teile der Trilogie und eine vierte DVD mit Zusatzmaterial enthalten sind. Bei allen Neuveröffentlichungen des Films entschieden sich Gale und Zemeckis bewusst gegen Überarbeitungen des Films, die durch technische Neuerungen möglich geworden waren, wie zum Beispiel das Entfernen von Filmfehlern oder das Hinzufügen digitaler Effekte, da sie dies für unangebracht hielten und der Meinung waren, dass ein Film immer ein Produkt seiner Zeit sei, dem man das auch ansehen dürfe. Einzig in der englischen Fassung wurden einige wenige Dolby-Surround-Effekte hinzugefügt, in anderssprachigen Fassungen behielt man die ursprüngliche Version bei. Zudem wurde für die Neuveröffentlichungen der Schriftzug Fortsetzung folgt … wieder entfernt.\n",
      "\n",
      "Rezeption\n",
      "Es erschienen noch weitere Projekte, die sich den Film beziehungsweise die komplette Trilogie zum Thema machten. Zum Beispiel ließ CBS die Zeichentrickserie Zurück in die Zukunft (Originaltitel: Back to the Future: The Animated Series) entwickeln, die an die Geschehnisse des dritten Teils anknüpfte. Harvey Comics veröffentlichte eine Reihe von Comics, deren Handlung sich indirekt auf den Film bezog. Außerdem eröffneten im Mai 1991 in den Universal-Studios-Themenparks Attraktionen, die auf dem Film basieren. Im Weiteren erschien das Videospiel Back to the Future für das NES und Commodore 64.\n",
      "Wie alle Teile der Trilogie war Zurück in die Zukunft sowohl in Deutschland als auch in den USA sehr populär. Tatsächlich zitierte der damalige US-Präsident Ronald Reagan 1986 in der State of the Union Address einen Satz aus dem Ende des Films, als er sagte „Where we’re going, we don’t need roads.“ (Wo wir hinfahren, brauchen wir keine Straßen.). Der Film Teenwolf, der im selben Jahr erschien und in welchem Fox ebenfalls als Hauptdarsteller fungierte, versuchte an den Erfolg von Zurück in die Zukunft anzuknüpfen, indem er sich in seiner Werbekampagne auf diesen bezog. In der italienischen Fassung von Teenwolf wurde sogar der Name von Fox’ Charakter von Scott in Marty abgeändert.Marty hängt sich im Film mehrfach mit seinem Skateboard an die Stoßstange eines Autos. Als Zurück in die Zukunft im australischen Kino anlief, musste Michael J. Fox eine Erklärung für das dortige Fernsehen drehen, in welcher er vor den Gefahren warnt, die sich ergeben, wenn man sich mit einem Skateboard an die Stoßstange eines Autos hängt.\n",
      "\n",
      "Kritiken\n",
      "Nach den Kritiken zum Film gefragt, merkten Robert Zemeckis und Bob Gale Jahre später nur einen Punkt an, der ihnen aufgefallen wäre: Dass nämlich nur in einigen europäischen Rezensionen kritisiert wurde, dass die glückliche Zukunft der Familie McFly im Film ausschließlich über deren materiellen Reichtum definiert wird (z. B. das Haus, Martys Geländewagen und der BMW des Vaters), wohingegen in den USA kein einziger Kritiker die Definition von Glück über die materiellen Besitztümer der Familie anmerkte oder gar kritisierte.Im Allgemeinen wurde Zurück in die Zukunft von der Kritik äußerst positiv aufgenommen. Negative Kritiken, wie die Ken Hankes im Mountain Xpress, in welcher er den Film als zu selbstverliebt benennt, oder die John Hartls auf film.com, in welcher er meint, der Film sei so damit beschäftigt, clever zu sein, dass er an seiner eigenen Genialität scheitere, waren eher die Ausnahme. Aber auch Norbert Stresau kritisierte in der Science Fiction Times, „Solche Kinospektakel leben von ihrer Dichte, den mit Informationen, Anspielungen und Querverweisen vollgepackten Bildern und Dialogen, die man auf den ersten Blick gar nicht vollständig aufnehmen kann.“Das Lexikon des internationalen Films beschreibt Zurück in die Zukunft dagegen als „weitgehend amüsante Mischung aus Science-Fiction und romantischer Komödie; in der ‚Rückblende‘ mit einer Reihe gelungener Einfälle, an der nicht nur jugendliche Zuschauer ihren Spaß haben.“Kevin N. Laforest schreibt im Montreal Film Journal, dass der Film gegen Zemeckis’ späteres Meisterwerk Forrest Gump zwar ambitionslos wirke, auf seine Weise jedoch ebenso überzeugend sei.Pauline Kael kritisiert am 29. Juli 1985 im New Yorker die in ihren Augen reaktionäre Geisteshaltung von Zemeckis und Gale: „Steven Spielberg sagt, Zurück in die Zukunft sei die großartigste Episode von Erwachsen müßte man sein, die je produziert wurde. Das ist das Problem daran: Wenn ich ins Kino gehe, möchte ich keine verherrlichte Episode von ‚Erwachsen müßte man sein‘ sehen. […] Der Film entspringt der Vorstellung von Zemeckis und Gale, mittelmäßig (das heißt, erfolgreich) werden zu müssen. […] Diese Geisteshaltung ist verkrampft und gewöhnlich. […] Die Vorstellung des Films bezüglich dessen, was Glücklichsein in den 1980ern bedeutet, […] sollte eigentlich ein satirischer Witz sein, ist sie aber nicht.“Carrie Rickie fühlt sich in der Kritik vom 3. Juli 1985 im Boston Herald enttäuscht von der glatten Ausführung des Films ohne Ecken und Kanten, trotz des ungewöhnlichen Themas: „Was mich am meisten […] deprimiert ist, wie […] Zemeckis alles, was frisch und exzentrisch an Terminator, Repoman und Buckaroo Banzai war, genommen und es für ein Mainstream-Publikum in Sirup verpackt hat.“In seinem filmtheoretischen Buch Film verstehen sieht James Monaco in den 1980er Jahren das „heraufdämmernde digitale Zeitalter des ‚Morphing‘ […], in dem keinem Bild – wie authentisch es auch erscheint – mehr zu trauen ist“ angekündigt, und bescheinigt Zurück in die Zukunft eine „erfrischende postmoderne Sensibilität“. Derartige Filme muten an wie phantastisch ausstaffierte Vergnügungsparks, und Zemeckis spiele bei der Begründung der „zeitgenössischen Kino-Mythologie“ neben Spielberg und Lucas durchaus eine Rolle, so schreibt Monaco.Über den Humor des Films fanden die Kritiker weitgehend positive Worte. Der deutsche Kritiker Andreas C. Lazar schreibt dazu: „alles [ist] dermaßen leicht, charmant und witzig präsentiert, daß auch der schlechtgelaunteste Misanthrop sich ein Lächeln nicht verkneifen kann.“ Gary Panton hob hierzu besonders die Running Gags bezüglich Martys Heimatstadt, die sich über die 30 Jahre im Film verändere, hervor.Stefan Michalzik war speziell von dem Humor der Szenen, die in der Vergangenheit spielen, begeistert, er schrieb in Die Andere Zeitung: „Besonders die Szenen in der Vergangenheit strotzen von komödiantischen Einfällen, die Lachkaskaden garantieren.“ Sönke Krüger schreibt dagegen, der Reiz des Streifens liege vor allem in seiner originellen Handlung und seinem herzhaften Humor, der sich aus der Gegenüberstellung von Mief und Idyll der 1950er Jahre mit Hektik und Modernität der 1980er ergebe.\n",
      "Auch die Leistungen der Darsteller wurden von der Kritik geschätzt. Lazar schreibt, Fox habe während der Dreharbeiten sein Bestes gegeben, und auch Lloyd spiele die Rolle des zerstreuten Professors genial. Gary Panton meint, Michael J. Fox und Christopher Lloyd seien nie besser gewesen als in Zurück in die Zukunft. Besonders Lloyd stehle jedoch Fox mit seiner glaubwürdigen und passionierten Darstellung des Doc Brown die Show. Kevin N. Laforest ist der Meinung, Fox habe hier die Rolle gespielt, die auch seine späteren Rollen maßgeblich beeinflusst habe.Die Idee, die Zeitmaschine in Form eines DeLoreans zu präsentieren, wurde von den Kritikern als besonders ausgefallen gelobt. So schreibt Roger Ebert in der Chicago Sun-Times, in der langen Geschichte der Zeitreise-Filme habe es nie eine Zeitmaschine gegeben, die Browns DeLorean geglichen habe. Lazar war ebenfalls angetan von dieser Idee: „Im unverwechselbaren Achtziger-Chic […] stiehlt Docs DeLorean Marty fast die Show. Aber nur fast, denn der Film ist so gut, dass der schön designte und ausgestattete Wagen nur eine Perle unter vielen ist.“ Für Kevin N. Laforest war die Idee eines plutoniumbetriebenen DeLoreans Beweis für die erstaunlich detaillierten Ideen, welche der Film ihm zufolge darbietet.J. Hoberman nimmt sich in seiner Kritik in der Village Voice den ödipalen Aspekt zum Thema und rezensiert etwas ironisch, der Film sei „die größte psychoanalytische Heilmethode, die je erfunden wurde […]. Marty ist ein amerikanischer Ödipus, der lernt, das Verlangen nach seiner Mutter zu besiegen […] und das Amt des Vaters anzutreten. Seine Belohnung: ein verbesserter Lebensstandard für die ganze Familie plus eine Frau.“\n",
      "\n",
      "Auszeichnungen und Nominierungen\n",
      "Zurück in die Zukunft erhielt bei der Oscarverleihung des Jahres 1986 den Oscar für den besten Tonschnitt. Nominiert war der Film außerdem für das beste Originaldrehbuch, den besten Filmsong und den besten Ton.\n",
      "Bei den Golden Globe Awards ging man trotz Nominierungen in den Kategorien Bester Film, Bestes Filmlied und Bestes Filmdrehbuch leer aus. Außerdem war Fox in der Kategorie Bester Hauptdarsteller in einer Komödie oder einem Musical nominiert.\n",
      "1986 erhielt Fox den Saturn Award in der Kategorie Bester Hauptdarsteller. Der Film wurde außerdem als Bester Science-Fiction-Film sowie für die Besten Spezialeffekte ausgezeichnet. Ferner war er in den Kategorien Bestes Kostüm, Beste Regie, Beste Musik und Bester Nebendarsteller (Crispin Glover und Christopher Lloyd), sowie Beste Nebendarstellerin (Lea Thompson) nominiert gewesen.\n",
      "Bei den britischen BAFTA Award wurde Zurück in die Zukunft in fünf Kategorien für einen Preis vorgeschlagen, ging jedoch leer aus. In Deutschland erhielt er 1985 den Jupiter in der Kategorie Bester Film und 1986 zudem die Goldene Leinwand. 2007 wurde der Film in das National Film Registry aufgenommen.\n",
      "Die Deutsche Film- und Medienbewertung (FBW) verlieh dem Film das Prädikat Wertvoll, auch weil „Elemente von Science-Fiction und komödiantische Erzählmuster miteinander verknüpft werden – in einem großen Bogen von Variationen zwischen alter Filmklamotte und jüngstem kinematographischen Gag“.\n",
      "\n",
      "Dokumentarfilm\n",
      "Zurück in die Zukunft – Wie ein Film zeitlos wurde. 52 Min. Regie: Nathalie Amsellem, Produktion: Arte. Frankreich 2021.\n",
      "\n",
      "Literatur\n",
      "Ralph Sander: Dreimal Zukunft und zurück. Einige Anmerkungen zu Robert Zemeckis’ Zeitreise-Trilogie „Back to the Future“. In: Wolfgang Jeschke (Hrsg.): Das Science Fiction Jahr 1996, Wilhelm Heyne Verlag, München, ISBN 3-453-09445-X, S. 293–302.\n",
      "Michael Klastorin, Sally Hibbin: Back to the Future: The Official Book of the Complete Movie Trilogy, Mallard Press, New York 1990, ISBN 0-7924-5444-8.\n",
      "Norman Kagan: The Cinema of Robert Zemeckis, Taylor Trade Publishing, Lanham 2003, ISBN 0-87833-293-6.\n",
      "Dirk Manthey, Jörg Altendorf, Willy Loderhose (Hrsg.): Das große Film-Lexikon. Alle Top-Filme von A–Z. Zweite Auflage, überarbeitete und erweiterte Neuausgabe. Band VI. Verlagsgruppe Milchstraße, Hamburg 1995, ISBN 3-89324-126-4. \n",
      "James Monaco: Film verstehen: Kunst, Technik, Sprache, Geschichte und Theorie des Films und der Medien; mit einer Einführung in Multimedia. Sonderausgabe August 2002. Rowohlt-Taschenbuch-Verl., Reinbek bei Hamburg 2002, ISBN 3-499-61433-2.\n",
      "Horst Peter Koll (Hrsg.): Lexikon des internationalen Films. Kino, Fernsehen, Video, DVD. Herausgegeben vom Katholischen Institut für Medieninformation (KIM) und der Katholischen Filmkommission für Deutschland. 4891 S., Zweitausendeins, Frankfurt am Main 2002, ISBN 3-86150-455-3.\n",
      "Ronald M. Hahn/Volker Jansen: Lexikon des Science-fiction-Films: [2000 Filme von 1902 bis heute]. Band 2, 7. Auflage, Wilhelm Heyne Verlag, München 1997, ISBN 3-453-11860-X.\n",
      "George Gipe: Zurück in die Zukunft, Bastei Lübbe, Bergisch Gladbach 1985, 224 S., ISBN 3-404-13039-1. (Romanfassung des Films)\n",
      "\n",
      "Weblinks\n",
      "\n",
      "Zurück in die Zukunft in der Internet Movie Database (englisch)\n",
      "Zurück in die Zukunft bei Rotten Tomatoes (englisch)\n",
      "Zurück in die Zukunft bei Metacritic (englisch)\n",
      "Zurück in die Zukunft in der Online-Filmdatenbank\n",
      "Zurück in die Zukunft in der Deutschen Synchronkartei\n",
      "\n",
      "\n",
      "== Einzelnachweise ==\n"
     ]
    }
   ],
   "source": [
    "import wikipediaapi\n",
    "wiki = wikipediaapi.Wikipedia(\n",
    "    'WP Index (tom2@bottom.ch)',\n",
    "    'de',\n",
    "    extract_format=wikipediaapi.ExtractFormat.WIKI)\n",
    "\n",
    "page = wiki.page('Zurück in die Zukunft (Film)')\n",
    "print(page.canonicalurl)\n",
    "print(page.text)\n"
   ]
  },
  {
   "cell_type": "code",
   "execution_count": 47,
   "metadata": {},
   "outputs": [],
   "source": [
    "from tqdm.auto import tqdm\n",
    "def categorymembers(category, max_level=1, level=0):\n",
    "        for page in tqdm(category.categorymembers.values()):\n",
    "            if page.text:\n",
    "                yield page\n",
    "            \n",
    "            if page.ns == wikipediaapi.Namespace.CATEGORY and level < max_level:\n",
    "                yield from categorymembers(page, max_level=max_level, level=level + 1)\n",
    "\n",
    "def crawl_category(category, outfile, depth):     \n",
    "    import csv\n",
    "    with open(outfile, 'w') as outfile:\n",
    "        writer = csv.writer(outfile)\n",
    "\n",
    "        cat = wiki.page(category)\n",
    "        for page in categorymembers(cat.categorymembers, depth):\n",
    "            if page.text:\n",
    "                writer.writerow([page.canonicalurl, page.text])\n",
    "\n"
   ]
  },
  {
   "cell_type": "code",
   "execution_count": 52,
   "metadata": {},
   "outputs": [
    {
     "data": {
      "application/vnd.jupyter.widget-view+json": {
       "model_id": "fe0a30f1d355460ba12621fc65341907",
       "version_major": 2,
       "version_minor": 0
      },
      "text/plain": [
       "  0%|          | 0/11 [00:00<?, ?it/s]"
      ]
     },
     "metadata": {},
     "output_type": "display_data"
    },
    {
     "data": {
      "application/vnd.jupyter.widget-view+json": {
       "model_id": "575d3917ac4149feb344b341ba85f071",
       "version_major": 2,
       "version_minor": 0
      },
      "text/plain": [
       "  0%|          | 0/405 [00:00<?, ?it/s]"
      ]
     },
     "metadata": {},
     "output_type": "display_data"
    },
    {
     "data": {
      "application/vnd.jupyter.widget-view+json": {
       "model_id": "0d3b5ebedf4a450b8b5cff786d0cfc85",
       "version_major": 2,
       "version_minor": 0
      },
      "text/plain": [
       "  0%|          | 0/433 [00:00<?, ?it/s]"
      ]
     },
     "metadata": {},
     "output_type": "display_data"
    },
    {
     "data": {
      "application/vnd.jupyter.widget-view+json": {
       "model_id": "144abc7073dc4a5da360434069f51a36",
       "version_major": 2,
       "version_minor": 0
      },
      "text/plain": [
       "  0%|          | 0/413 [00:00<?, ?it/s]"
      ]
     },
     "metadata": {},
     "output_type": "display_data"
    },
    {
     "data": {
      "application/vnd.jupyter.widget-view+json": {
       "model_id": "861f222a267145549aa6bbf67ceb32bc",
       "version_major": 2,
       "version_minor": 0
      },
      "text/plain": [
       "  0%|          | 0/395 [00:00<?, ?it/s]"
      ]
     },
     "metadata": {},
     "output_type": "display_data"
    },
    {
     "data": {
      "application/vnd.jupyter.widget-view+json": {
       "model_id": "84b32e2e280b418d93a06ac7244d5017",
       "version_major": 2,
       "version_minor": 0
      },
      "text/plain": [
       "  0%|          | 0/399 [00:00<?, ?it/s]"
      ]
     },
     "metadata": {},
     "output_type": "display_data"
    },
    {
     "data": {
      "application/vnd.jupyter.widget-view+json": {
       "model_id": "eafe916db6474613a2dcb2aa09a1afd0",
       "version_major": 2,
       "version_minor": 0
      },
      "text/plain": [
       "  0%|          | 0/390 [00:00<?, ?it/s]"
      ]
     },
     "metadata": {},
     "output_type": "display_data"
    },
    {
     "data": {
      "application/vnd.jupyter.widget-view+json": {
       "model_id": "83e4d257c3fc4aedb16b87d501a39efe",
       "version_major": 2,
       "version_minor": 0
      },
      "text/plain": [
       "  0%|          | 0/377 [00:00<?, ?it/s]"
      ]
     },
     "metadata": {},
     "output_type": "display_data"
    },
    {
     "data": {
      "application/vnd.jupyter.widget-view+json": {
       "model_id": "abf91e2fcba3422b9584bf6b39667f88",
       "version_major": 2,
       "version_minor": 0
      },
      "text/plain": [
       "  0%|          | 0/349 [00:00<?, ?it/s]"
      ]
     },
     "metadata": {},
     "output_type": "display_data"
    },
    {
     "data": {
      "application/vnd.jupyter.widget-view+json": {
       "model_id": "bcbbba493df3421082c8b494b1e4a6a6",
       "version_major": 2,
       "version_minor": 0
      },
      "text/plain": [
       "  0%|          | 0/354 [00:00<?, ?it/s]"
      ]
     },
     "metadata": {},
     "output_type": "display_data"
    },
    {
     "data": {
      "application/vnd.jupyter.widget-view+json": {
       "model_id": "c85366d167464c099af08fe7aaad4a65",
       "version_major": 2,
       "version_minor": 0
      },
      "text/plain": [
       "  0%|          | 0/383 [00:00<?, ?it/s]"
      ]
     },
     "metadata": {},
     "output_type": "display_data"
    }
   ],
   "source": [
    "crawl_category(\"Kategorie:Filmtitel_der_1970er_Jahre\", 'data/movies_197x.csv', 2)"
   ]
  },
  {
   "cell_type": "code",
   "execution_count": 54,
   "metadata": {},
   "outputs": [
    {
     "data": {
      "application/vnd.jupyter.widget-view+json": {
       "model_id": "b17a111ae094401699d15adfe6eeb3f2",
       "version_major": 2,
       "version_minor": 0
      },
      "text/plain": [
       "  0%|          | 0/10 [00:00<?, ?it/s]"
      ]
     },
     "metadata": {},
     "output_type": "display_data"
    },
    {
     "data": {
      "application/vnd.jupyter.widget-view+json": {
       "model_id": "3b2c80c06525425b90a8928bea03e5f1",
       "version_major": 2,
       "version_minor": 0
      },
      "text/plain": [
       "  0%|          | 0/396 [00:00<?, ?it/s]"
      ]
     },
     "metadata": {},
     "output_type": "display_data"
    },
    {
     "data": {
      "application/vnd.jupyter.widget-view+json": {
       "model_id": "62f9e7f71eb64153bd4785281120ff87",
       "version_major": 2,
       "version_minor": 0
      },
      "text/plain": [
       "  0%|          | 0/388 [00:00<?, ?it/s]"
      ]
     },
     "metadata": {},
     "output_type": "display_data"
    },
    {
     "data": {
      "application/vnd.jupyter.widget-view+json": {
       "model_id": "4fc78edd3a6145b7a2eec3b43e9187a8",
       "version_major": 2,
       "version_minor": 0
      },
      "text/plain": [
       "  0%|          | 0/340 [00:00<?, ?it/s]"
      ]
     },
     "metadata": {},
     "output_type": "display_data"
    },
    {
     "data": {
      "application/vnd.jupyter.widget-view+json": {
       "model_id": "91a06d5a923f4aee8f2fb771f771e2f9",
       "version_major": 2,
       "version_minor": 0
      },
      "text/plain": [
       "  0%|          | 0/373 [00:00<?, ?it/s]"
      ]
     },
     "metadata": {},
     "output_type": "display_data"
    },
    {
     "data": {
      "application/vnd.jupyter.widget-view+json": {
       "model_id": "af593022e7d94dcebc3e492d25b8c7e8",
       "version_major": 2,
       "version_minor": 0
      },
      "text/plain": [
       "  0%|          | 0/387 [00:00<?, ?it/s]"
      ]
     },
     "metadata": {},
     "output_type": "display_data"
    },
    {
     "data": {
      "application/vnd.jupyter.widget-view+json": {
       "model_id": "3a26f492e4a1438890ed7d37586b3cd0",
       "version_major": 2,
       "version_minor": 0
      },
      "text/plain": [
       "  0%|          | 0/387 [00:00<?, ?it/s]"
      ]
     },
     "metadata": {},
     "output_type": "display_data"
    },
    {
     "data": {
      "application/vnd.jupyter.widget-view+json": {
       "model_id": "38cd77f50bef40c3944a4068dd6b3963",
       "version_major": 2,
       "version_minor": 0
      },
      "text/plain": [
       "  0%|          | 0/393 [00:00<?, ?it/s]"
      ]
     },
     "metadata": {},
     "output_type": "display_data"
    },
    {
     "data": {
      "application/vnd.jupyter.widget-view+json": {
       "model_id": "51f23d7eb6b04551954519e829921375",
       "version_major": 2,
       "version_minor": 0
      },
      "text/plain": [
       "  0%|          | 0/430 [00:00<?, ?it/s]"
      ]
     },
     "metadata": {},
     "output_type": "display_data"
    },
    {
     "data": {
      "application/vnd.jupyter.widget-view+json": {
       "model_id": "1abc1c82198549969b9367b8cc877f89",
       "version_major": 2,
       "version_minor": 0
      },
      "text/plain": [
       "  0%|          | 0/475 [00:00<?, ?it/s]"
      ]
     },
     "metadata": {},
     "output_type": "display_data"
    },
    {
     "data": {
      "application/vnd.jupyter.widget-view+json": {
       "model_id": "7a0d9502d5c240a7b7edff916daaab10",
       "version_major": 2,
       "version_minor": 0
      },
      "text/plain": [
       "  0%|          | 0/445 [00:00<?, ?it/s]"
      ]
     },
     "metadata": {},
     "output_type": "display_data"
    }
   ],
   "source": [
    "crawl_category(\"Kategorie:Filmtitel_der_1980er_Jahre\", 'data/movies_198x.csv', 2)"
   ]
  },
  {
   "cell_type": "code",
   "execution_count": 57,
   "metadata": {},
   "outputs": [
    {
     "data": {
      "application/vnd.jupyter.widget-view+json": {
       "model_id": "6360f1e5ae704180bfe30cbec624bfc8",
       "version_major": 2,
       "version_minor": 0
      },
      "text/plain": [
       "  0%|          | 0/10 [00:00<?, ?it/s]"
      ]
     },
     "metadata": {},
     "output_type": "display_data"
    },
    {
     "data": {
      "application/vnd.jupyter.widget-view+json": {
       "model_id": "edc5d4a08e8347759a65b6de37d9b181",
       "version_major": 2,
       "version_minor": 0
      },
      "text/plain": [
       "  0%|          | 0/444 [00:00<?, ?it/s]"
      ]
     },
     "metadata": {},
     "output_type": "display_data"
    },
    {
     "ename": "ReadTimeout",
     "evalue": "HTTPSConnectionPool(host='de.wikipedia.org', port=443): Read timed out. (read timeout=10.0)",
     "output_type": "error",
     "traceback": [
      "\u001b[0;31m---------------------------------------------------------------------------\u001b[0m",
      "\u001b[0;31mTimeoutError\u001b[0m                              Traceback (most recent call last)",
      "File \u001b[0;32m~/git/ksr_talit_indexing/.conda/lib/python3.11/site-packages/urllib3/connectionpool.py:536\u001b[0m, in \u001b[0;36mHTTPConnectionPool._make_request\u001b[0;34m(self, conn, method, url, body, headers, retries, timeout, chunked, response_conn, preload_content, decode_content, enforce_content_length)\u001b[0m\n\u001b[1;32m    535\u001b[0m \u001b[39mtry\u001b[39;00m:\n\u001b[0;32m--> 536\u001b[0m     response \u001b[39m=\u001b[39m conn\u001b[39m.\u001b[39;49mgetresponse()\n\u001b[1;32m    537\u001b[0m \u001b[39mexcept\u001b[39;00m (BaseSSLError, \u001b[39mOSError\u001b[39;00m) \u001b[39mas\u001b[39;00m e:\n",
      "File \u001b[0;32m~/git/ksr_talit_indexing/.conda/lib/python3.11/site-packages/urllib3/connection.py:461\u001b[0m, in \u001b[0;36mHTTPConnection.getresponse\u001b[0;34m(self)\u001b[0m\n\u001b[1;32m    460\u001b[0m \u001b[39m# Get the response from http.client.HTTPConnection\u001b[39;00m\n\u001b[0;32m--> 461\u001b[0m httplib_response \u001b[39m=\u001b[39m \u001b[39msuper\u001b[39;49m()\u001b[39m.\u001b[39;49mgetresponse()\n\u001b[1;32m    463\u001b[0m \u001b[39mtry\u001b[39;00m:\n",
      "File \u001b[0;32m~/git/ksr_talit_indexing/.conda/lib/python3.11/http/client.py:1378\u001b[0m, in \u001b[0;36mHTTPConnection.getresponse\u001b[0;34m(self)\u001b[0m\n\u001b[1;32m   1377\u001b[0m \u001b[39mtry\u001b[39;00m:\n\u001b[0;32m-> 1378\u001b[0m     response\u001b[39m.\u001b[39;49mbegin()\n\u001b[1;32m   1379\u001b[0m \u001b[39mexcept\u001b[39;00m \u001b[39mConnectionError\u001b[39;00m:\n",
      "File \u001b[0;32m~/git/ksr_talit_indexing/.conda/lib/python3.11/http/client.py:318\u001b[0m, in \u001b[0;36mHTTPResponse.begin\u001b[0;34m(self)\u001b[0m\n\u001b[1;32m    317\u001b[0m \u001b[39mwhile\u001b[39;00m \u001b[39mTrue\u001b[39;00m:\n\u001b[0;32m--> 318\u001b[0m     version, status, reason \u001b[39m=\u001b[39m \u001b[39mself\u001b[39;49m\u001b[39m.\u001b[39;49m_read_status()\n\u001b[1;32m    319\u001b[0m     \u001b[39mif\u001b[39;00m status \u001b[39m!=\u001b[39m CONTINUE:\n",
      "File \u001b[0;32m~/git/ksr_talit_indexing/.conda/lib/python3.11/http/client.py:279\u001b[0m, in \u001b[0;36mHTTPResponse._read_status\u001b[0;34m(self)\u001b[0m\n\u001b[1;32m    278\u001b[0m \u001b[39mdef\u001b[39;00m \u001b[39m_read_status\u001b[39m(\u001b[39mself\u001b[39m):\n\u001b[0;32m--> 279\u001b[0m     line \u001b[39m=\u001b[39m \u001b[39mstr\u001b[39m(\u001b[39mself\u001b[39m\u001b[39m.\u001b[39mfp\u001b[39m.\u001b[39mreadline(_MAXLINE \u001b[39m+\u001b[39m \u001b[39m1\u001b[39m), \u001b[39m\"\u001b[39m\u001b[39miso-8859-1\u001b[39m\u001b[39m\"\u001b[39m)\n\u001b[1;32m    280\u001b[0m     \u001b[39mif\u001b[39;00m \u001b[39mlen\u001b[39m(line) \u001b[39m>\u001b[39m _MAXLINE:\n",
      "File \u001b[0;32m~/git/ksr_talit_indexing/.conda/lib/python3.11/socket.py:706\u001b[0m, in \u001b[0;36mSocketIO.readinto\u001b[0;34m(self, b)\u001b[0m\n\u001b[1;32m    705\u001b[0m \u001b[39mtry\u001b[39;00m:\n\u001b[0;32m--> 706\u001b[0m     \u001b[39mreturn\u001b[39;00m \u001b[39mself\u001b[39;49m\u001b[39m.\u001b[39;49m_sock\u001b[39m.\u001b[39;49mrecv_into(b)\n\u001b[1;32m    707\u001b[0m \u001b[39mexcept\u001b[39;00m timeout:\n",
      "File \u001b[0;32m~/git/ksr_talit_indexing/.conda/lib/python3.11/ssl.py:1311\u001b[0m, in \u001b[0;36mSSLSocket.recv_into\u001b[0;34m(self, buffer, nbytes, flags)\u001b[0m\n\u001b[1;32m   1308\u001b[0m         \u001b[39mraise\u001b[39;00m \u001b[39mValueError\u001b[39;00m(\n\u001b[1;32m   1309\u001b[0m           \u001b[39m\"\u001b[39m\u001b[39mnon-zero flags not allowed in calls to recv_into() on \u001b[39m\u001b[39m%s\u001b[39;00m\u001b[39m\"\u001b[39m \u001b[39m%\u001b[39m\n\u001b[1;32m   1310\u001b[0m           \u001b[39mself\u001b[39m\u001b[39m.\u001b[39m\u001b[39m__class__\u001b[39m)\n\u001b[0;32m-> 1311\u001b[0m     \u001b[39mreturn\u001b[39;00m \u001b[39mself\u001b[39;49m\u001b[39m.\u001b[39;49mread(nbytes, buffer)\n\u001b[1;32m   1312\u001b[0m \u001b[39melse\u001b[39;00m:\n",
      "File \u001b[0;32m~/git/ksr_talit_indexing/.conda/lib/python3.11/ssl.py:1167\u001b[0m, in \u001b[0;36mSSLSocket.read\u001b[0;34m(self, len, buffer)\u001b[0m\n\u001b[1;32m   1166\u001b[0m \u001b[39mif\u001b[39;00m buffer \u001b[39mis\u001b[39;00m \u001b[39mnot\u001b[39;00m \u001b[39mNone\u001b[39;00m:\n\u001b[0;32m-> 1167\u001b[0m     \u001b[39mreturn\u001b[39;00m \u001b[39mself\u001b[39;49m\u001b[39m.\u001b[39;49m_sslobj\u001b[39m.\u001b[39;49mread(\u001b[39mlen\u001b[39;49m, buffer)\n\u001b[1;32m   1168\u001b[0m \u001b[39melse\u001b[39;00m:\n",
      "\u001b[0;31mTimeoutError\u001b[0m: The read operation timed out",
      "\nThe above exception was the direct cause of the following exception:\n",
      "\u001b[0;31mReadTimeoutError\u001b[0m                          Traceback (most recent call last)",
      "File \u001b[0;32m~/git/ksr_talit_indexing/.conda/lib/python3.11/site-packages/requests/adapters.py:486\u001b[0m, in \u001b[0;36mHTTPAdapter.send\u001b[0;34m(self, request, stream, timeout, verify, cert, proxies)\u001b[0m\n\u001b[1;32m    485\u001b[0m \u001b[39mtry\u001b[39;00m:\n\u001b[0;32m--> 486\u001b[0m     resp \u001b[39m=\u001b[39m conn\u001b[39m.\u001b[39;49murlopen(\n\u001b[1;32m    487\u001b[0m         method\u001b[39m=\u001b[39;49mrequest\u001b[39m.\u001b[39;49mmethod,\n\u001b[1;32m    488\u001b[0m         url\u001b[39m=\u001b[39;49murl,\n\u001b[1;32m    489\u001b[0m         body\u001b[39m=\u001b[39;49mrequest\u001b[39m.\u001b[39;49mbody,\n\u001b[1;32m    490\u001b[0m         headers\u001b[39m=\u001b[39;49mrequest\u001b[39m.\u001b[39;49mheaders,\n\u001b[1;32m    491\u001b[0m         redirect\u001b[39m=\u001b[39;49m\u001b[39mFalse\u001b[39;49;00m,\n\u001b[1;32m    492\u001b[0m         assert_same_host\u001b[39m=\u001b[39;49m\u001b[39mFalse\u001b[39;49;00m,\n\u001b[1;32m    493\u001b[0m         preload_content\u001b[39m=\u001b[39;49m\u001b[39mFalse\u001b[39;49;00m,\n\u001b[1;32m    494\u001b[0m         decode_content\u001b[39m=\u001b[39;49m\u001b[39mFalse\u001b[39;49;00m,\n\u001b[1;32m    495\u001b[0m         retries\u001b[39m=\u001b[39;49m\u001b[39mself\u001b[39;49m\u001b[39m.\u001b[39;49mmax_retries,\n\u001b[1;32m    496\u001b[0m         timeout\u001b[39m=\u001b[39;49mtimeout,\n\u001b[1;32m    497\u001b[0m         chunked\u001b[39m=\u001b[39;49mchunked,\n\u001b[1;32m    498\u001b[0m     )\n\u001b[1;32m    500\u001b[0m \u001b[39mexcept\u001b[39;00m (ProtocolError, \u001b[39mOSError\u001b[39;00m) \u001b[39mas\u001b[39;00m err:\n",
      "File \u001b[0;32m~/git/ksr_talit_indexing/.conda/lib/python3.11/site-packages/urllib3/connectionpool.py:844\u001b[0m, in \u001b[0;36mHTTPConnectionPool.urlopen\u001b[0;34m(self, method, url, body, headers, retries, redirect, assert_same_host, timeout, pool_timeout, release_conn, chunked, body_pos, preload_content, decode_content, **response_kw)\u001b[0m\n\u001b[1;32m    842\u001b[0m     new_e \u001b[39m=\u001b[39m ProtocolError(\u001b[39m\"\u001b[39m\u001b[39mConnection aborted.\u001b[39m\u001b[39m\"\u001b[39m, new_e)\n\u001b[0;32m--> 844\u001b[0m retries \u001b[39m=\u001b[39m retries\u001b[39m.\u001b[39;49mincrement(\n\u001b[1;32m    845\u001b[0m     method, url, error\u001b[39m=\u001b[39;49mnew_e, _pool\u001b[39m=\u001b[39;49m\u001b[39mself\u001b[39;49m, _stacktrace\u001b[39m=\u001b[39;49msys\u001b[39m.\u001b[39;49mexc_info()[\u001b[39m2\u001b[39;49m]\n\u001b[1;32m    846\u001b[0m )\n\u001b[1;32m    847\u001b[0m retries\u001b[39m.\u001b[39msleep()\n",
      "File \u001b[0;32m~/git/ksr_talit_indexing/.conda/lib/python3.11/site-packages/urllib3/util/retry.py:470\u001b[0m, in \u001b[0;36mRetry.increment\u001b[0;34m(self, method, url, response, error, _pool, _stacktrace)\u001b[0m\n\u001b[1;32m    469\u001b[0m \u001b[39mif\u001b[39;00m read \u001b[39mis\u001b[39;00m \u001b[39mFalse\u001b[39;00m \u001b[39mor\u001b[39;00m method \u001b[39mis\u001b[39;00m \u001b[39mNone\u001b[39;00m \u001b[39mor\u001b[39;00m \u001b[39mnot\u001b[39;00m \u001b[39mself\u001b[39m\u001b[39m.\u001b[39m_is_method_retryable(method):\n\u001b[0;32m--> 470\u001b[0m     \u001b[39mraise\u001b[39;00m reraise(\u001b[39mtype\u001b[39;49m(error), error, _stacktrace)\n\u001b[1;32m    471\u001b[0m \u001b[39melif\u001b[39;00m read \u001b[39mis\u001b[39;00m \u001b[39mnot\u001b[39;00m \u001b[39mNone\u001b[39;00m:\n",
      "File \u001b[0;32m~/git/ksr_talit_indexing/.conda/lib/python3.11/site-packages/urllib3/util/util.py:39\u001b[0m, in \u001b[0;36mreraise\u001b[0;34m(tp, value, tb)\u001b[0m\n\u001b[1;32m     38\u001b[0m         \u001b[39mraise\u001b[39;00m value\u001b[39m.\u001b[39mwith_traceback(tb)\n\u001b[0;32m---> 39\u001b[0m     \u001b[39mraise\u001b[39;00m value\n\u001b[1;32m     40\u001b[0m \u001b[39mfinally\u001b[39;00m:\n",
      "File \u001b[0;32m~/git/ksr_talit_indexing/.conda/lib/python3.11/site-packages/urllib3/connectionpool.py:790\u001b[0m, in \u001b[0;36mHTTPConnectionPool.urlopen\u001b[0;34m(self, method, url, body, headers, retries, redirect, assert_same_host, timeout, pool_timeout, release_conn, chunked, body_pos, preload_content, decode_content, **response_kw)\u001b[0m\n\u001b[1;32m    789\u001b[0m \u001b[39m# Make the request on the HTTPConnection object\u001b[39;00m\n\u001b[0;32m--> 790\u001b[0m response \u001b[39m=\u001b[39m \u001b[39mself\u001b[39;49m\u001b[39m.\u001b[39;49m_make_request(\n\u001b[1;32m    791\u001b[0m     conn,\n\u001b[1;32m    792\u001b[0m     method,\n\u001b[1;32m    793\u001b[0m     url,\n\u001b[1;32m    794\u001b[0m     timeout\u001b[39m=\u001b[39;49mtimeout_obj,\n\u001b[1;32m    795\u001b[0m     body\u001b[39m=\u001b[39;49mbody,\n\u001b[1;32m    796\u001b[0m     headers\u001b[39m=\u001b[39;49mheaders,\n\u001b[1;32m    797\u001b[0m     chunked\u001b[39m=\u001b[39;49mchunked,\n\u001b[1;32m    798\u001b[0m     retries\u001b[39m=\u001b[39;49mretries,\n\u001b[1;32m    799\u001b[0m     response_conn\u001b[39m=\u001b[39;49mresponse_conn,\n\u001b[1;32m    800\u001b[0m     preload_content\u001b[39m=\u001b[39;49mpreload_content,\n\u001b[1;32m    801\u001b[0m     decode_content\u001b[39m=\u001b[39;49mdecode_content,\n\u001b[1;32m    802\u001b[0m     \u001b[39m*\u001b[39;49m\u001b[39m*\u001b[39;49mresponse_kw,\n\u001b[1;32m    803\u001b[0m )\n\u001b[1;32m    805\u001b[0m \u001b[39m# Everything went great!\u001b[39;00m\n",
      "File \u001b[0;32m~/git/ksr_talit_indexing/.conda/lib/python3.11/site-packages/urllib3/connectionpool.py:538\u001b[0m, in \u001b[0;36mHTTPConnectionPool._make_request\u001b[0;34m(self, conn, method, url, body, headers, retries, timeout, chunked, response_conn, preload_content, decode_content, enforce_content_length)\u001b[0m\n\u001b[1;32m    537\u001b[0m \u001b[39mexcept\u001b[39;00m (BaseSSLError, \u001b[39mOSError\u001b[39;00m) \u001b[39mas\u001b[39;00m e:\n\u001b[0;32m--> 538\u001b[0m     \u001b[39mself\u001b[39;49m\u001b[39m.\u001b[39;49m_raise_timeout(err\u001b[39m=\u001b[39;49me, url\u001b[39m=\u001b[39;49murl, timeout_value\u001b[39m=\u001b[39;49mread_timeout)\n\u001b[1;32m    539\u001b[0m     \u001b[39mraise\u001b[39;00m\n",
      "File \u001b[0;32m~/git/ksr_talit_indexing/.conda/lib/python3.11/site-packages/urllib3/connectionpool.py:370\u001b[0m, in \u001b[0;36mHTTPConnectionPool._raise_timeout\u001b[0;34m(self, err, url, timeout_value)\u001b[0m\n\u001b[1;32m    369\u001b[0m \u001b[39mif\u001b[39;00m \u001b[39misinstance\u001b[39m(err, SocketTimeout):\n\u001b[0;32m--> 370\u001b[0m     \u001b[39mraise\u001b[39;00m ReadTimeoutError(\n\u001b[1;32m    371\u001b[0m         \u001b[39mself\u001b[39m, url, \u001b[39mf\u001b[39m\u001b[39m\"\u001b[39m\u001b[39mRead timed out. (read timeout=\u001b[39m\u001b[39m{\u001b[39;00mtimeout_value\u001b[39m}\u001b[39;00m\u001b[39m)\u001b[39m\u001b[39m\"\u001b[39m\n\u001b[1;32m    372\u001b[0m     ) \u001b[39mfrom\u001b[39;00m \u001b[39merr\u001b[39;00m\n\u001b[1;32m    374\u001b[0m \u001b[39m# See the above comment about EAGAIN in Python 3.\u001b[39;00m\n",
      "\u001b[0;31mReadTimeoutError\u001b[0m: HTTPSConnectionPool(host='de.wikipedia.org', port=443): Read timed out. (read timeout=10.0)",
      "\nDuring handling of the above exception, another exception occurred:\n",
      "\u001b[0;31mReadTimeout\u001b[0m                               Traceback (most recent call last)",
      "\u001b[1;32m/Users/tom/git/ksr_talit_indexing/wikipedia_downloader.ipynb Zelle 6\u001b[0m line \u001b[0;36m1\n\u001b[0;32m----> <a href='vscode-notebook-cell:/Users/tom/git/ksr_talit_indexing/wikipedia_downloader.ipynb#X12sZmlsZQ%3D%3D?line=0'>1</a>\u001b[0m crawl_category(\u001b[39m\"\u001b[39;49m\u001b[39mKategorie:Filmtitel_der_1990er_Jahre\u001b[39;49m\u001b[39m\"\u001b[39;49m, \u001b[39m'\u001b[39;49m\u001b[39mdata/movies_199x.csv\u001b[39;49m\u001b[39m'\u001b[39;49m, \u001b[39m2\u001b[39;49m)\n",
      "\u001b[1;32m/Users/tom/git/ksr_talit_indexing/wikipedia_downloader.ipynb Zelle 6\u001b[0m line \u001b[0;36m1\n\u001b[1;32m     <a href='vscode-notebook-cell:/Users/tom/git/ksr_talit_indexing/wikipedia_downloader.ipynb#X12sZmlsZQ%3D%3D?line=12'>13</a>\u001b[0m cat \u001b[39m=\u001b[39m wiki\u001b[39m.\u001b[39mpage(category)\n\u001b[1;32m     <a href='vscode-notebook-cell:/Users/tom/git/ksr_talit_indexing/wikipedia_downloader.ipynb#X12sZmlsZQ%3D%3D?line=13'>14</a>\u001b[0m \u001b[39mfor\u001b[39;00m page \u001b[39min\u001b[39;00m categorymembers(cat\u001b[39m.\u001b[39mcategorymembers, depth):\n\u001b[0;32m---> <a href='vscode-notebook-cell:/Users/tom/git/ksr_talit_indexing/wikipedia_downloader.ipynb#X12sZmlsZQ%3D%3D?line=14'>15</a>\u001b[0m     \u001b[39mif\u001b[39;00m page\u001b[39m.\u001b[39;49mtext:\n\u001b[1;32m     <a href='vscode-notebook-cell:/Users/tom/git/ksr_talit_indexing/wikipedia_downloader.ipynb#X12sZmlsZQ%3D%3D?line=15'>16</a>\u001b[0m         writer\u001b[39m.\u001b[39mwriterow([page\u001b[39m.\u001b[39mcanonicalurl, page\u001b[39m.\u001b[39mtext])\n",
      "File \u001b[0;32m~/git/ksr_talit_indexing/.conda/lib/python3.11/site-packages/wikipediaapi/__init__.py:975\u001b[0m, in \u001b[0;36mWikipediaPage.text\u001b[0;34m(self)\u001b[0m\n\u001b[1;32m    968\u001b[0m \u001b[39m@property\u001b[39m\n\u001b[1;32m    969\u001b[0m \u001b[39mdef\u001b[39;00m \u001b[39mtext\u001b[39m(\u001b[39mself\u001b[39m) \u001b[39m-\u001b[39m\u001b[39m>\u001b[39m \u001b[39mstr\u001b[39m:\n\u001b[1;32m    970\u001b[0m \u001b[39m    \u001b[39m\u001b[39m\"\"\"\u001b[39;00m\n\u001b[1;32m    971\u001b[0m \u001b[39m    Returns text of the current page.\u001b[39;00m\n\u001b[1;32m    972\u001b[0m \n\u001b[1;32m    973\u001b[0m \u001b[39m    :return: text of the current page\u001b[39;00m\n\u001b[1;32m    974\u001b[0m \u001b[39m    \"\"\"\u001b[39;00m\n\u001b[0;32m--> 975\u001b[0m     txt \u001b[39m=\u001b[39m \u001b[39mself\u001b[39;49m\u001b[39m.\u001b[39;49msummary\n\u001b[1;32m    976\u001b[0m     \u001b[39mif\u001b[39;00m \u001b[39mlen\u001b[39m(txt) \u001b[39m>\u001b[39m \u001b[39m0\u001b[39m:\n\u001b[1;32m    977\u001b[0m         txt \u001b[39m+\u001b[39m\u001b[39m=\u001b[39m \u001b[39m\"\u001b[39m\u001b[39m\\n\u001b[39;00m\u001b[39m\\n\u001b[39;00m\u001b[39m\"\u001b[39m\n",
      "File \u001b[0;32m~/git/ksr_talit_indexing/.conda/lib/python3.11/site-packages/wikipediaapi/__init__.py:920\u001b[0m, in \u001b[0;36mWikipediaPage.summary\u001b[0;34m(self)\u001b[0m\n\u001b[1;32m    914\u001b[0m \u001b[39m\u001b[39m\u001b[39m\"\"\"\u001b[39;00m\n\u001b[1;32m    915\u001b[0m \u001b[39mReturns summary of the current page.\u001b[39;00m\n\u001b[1;32m    916\u001b[0m \n\u001b[1;32m    917\u001b[0m \u001b[39m:return: summary\u001b[39;00m\n\u001b[1;32m    918\u001b[0m \u001b[39m\"\"\"\u001b[39;00m\n\u001b[1;32m    919\u001b[0m \u001b[39mif\u001b[39;00m \u001b[39mnot\u001b[39;00m \u001b[39mself\u001b[39m\u001b[39m.\u001b[39m_called[\u001b[39m\"\u001b[39m\u001b[39mextracts\u001b[39m\u001b[39m\"\u001b[39m]:\n\u001b[0;32m--> 920\u001b[0m     \u001b[39mself\u001b[39;49m\u001b[39m.\u001b[39;49m_fetch(\u001b[39m\"\u001b[39;49m\u001b[39mextracts\u001b[39;49m\u001b[39m\"\u001b[39;49m)\n\u001b[1;32m    921\u001b[0m \u001b[39mreturn\u001b[39;00m \u001b[39mself\u001b[39m\u001b[39m.\u001b[39m_summary\n",
      "File \u001b[0;32m~/git/ksr_talit_indexing/.conda/lib/python3.11/site-packages/wikipediaapi/__init__.py:1064\u001b[0m, in \u001b[0;36mWikipediaPage._fetch\u001b[0;34m(self, call)\u001b[0m\n\u001b[1;32m   1062\u001b[0m \u001b[39mdef\u001b[39;00m \u001b[39m_fetch\u001b[39m(\u001b[39mself\u001b[39m, call) \u001b[39m-\u001b[39m\u001b[39m>\u001b[39m \u001b[39m\"\u001b[39m\u001b[39mWikipediaPage\u001b[39m\u001b[39m\"\u001b[39m:\n\u001b[1;32m   1063\u001b[0m \u001b[39m    \u001b[39m\u001b[39m\"\"\"Fetches some data?.\"\"\"\u001b[39;00m\n\u001b[0;32m-> 1064\u001b[0m     \u001b[39mgetattr\u001b[39;49m(\u001b[39mself\u001b[39;49m\u001b[39m.\u001b[39;49mwiki, call)(\u001b[39mself\u001b[39;49m)\n\u001b[1;32m   1065\u001b[0m     \u001b[39mself\u001b[39m\u001b[39m.\u001b[39m_called[call] \u001b[39m=\u001b[39m \u001b[39mTrue\u001b[39;00m\n\u001b[1;32m   1066\u001b[0m     \u001b[39mreturn\u001b[39;00m \u001b[39mself\u001b[39m\n",
      "File \u001b[0;32m~/git/ksr_talit_indexing/.conda/lib/python3.11/site-packages/wikipediaapi/__init__.py:297\u001b[0m, in \u001b[0;36mWikipedia.extracts\u001b[0;34m(self, page, **kwargs)\u001b[0m\n\u001b[1;32m    294\u001b[0m used_params \u001b[39m=\u001b[39m kwargs\n\u001b[1;32m    295\u001b[0m used_params\u001b[39m.\u001b[39mupdate(params)\n\u001b[0;32m--> 297\u001b[0m raw \u001b[39m=\u001b[39m \u001b[39mself\u001b[39;49m\u001b[39m.\u001b[39;49m_query(page, used_params)\n\u001b[1;32m    298\u001b[0m \u001b[39mself\u001b[39m\u001b[39m.\u001b[39m_common_attributes(raw[\u001b[39m\"\u001b[39m\u001b[39mquery\u001b[39m\u001b[39m\"\u001b[39m], page)\n\u001b[1;32m    299\u001b[0m pages \u001b[39m=\u001b[39m raw[\u001b[39m\"\u001b[39m\u001b[39mquery\u001b[39m\u001b[39m\"\u001b[39m][\u001b[39m\"\u001b[39m\u001b[39mpages\u001b[39m\u001b[39m\"\u001b[39m]\n",
      "File \u001b[0;32m~/git/ksr_talit_indexing/.conda/lib/python3.11/site-packages/wikipediaapi/__init__.py:528\u001b[0m, in \u001b[0;36mWikipedia._query\u001b[0;34m(self, page, params)\u001b[0m\n\u001b[1;32m    526\u001b[0m params[\u001b[39m\"\u001b[39m\u001b[39mformat\u001b[39m\u001b[39m\"\u001b[39m] \u001b[39m=\u001b[39m \u001b[39m\"\u001b[39m\u001b[39mjson\u001b[39m\u001b[39m\"\u001b[39m\n\u001b[1;32m    527\u001b[0m params[\u001b[39m\"\u001b[39m\u001b[39mredirects\u001b[39m\u001b[39m\"\u001b[39m] \u001b[39m=\u001b[39m \u001b[39m1\u001b[39m\n\u001b[0;32m--> 528\u001b[0m r \u001b[39m=\u001b[39m \u001b[39mself\u001b[39;49m\u001b[39m.\u001b[39;49m_session\u001b[39m.\u001b[39;49mget(base_url, params\u001b[39m=\u001b[39;49mparams, \u001b[39m*\u001b[39;49m\u001b[39m*\u001b[39;49m\u001b[39mself\u001b[39;49m\u001b[39m.\u001b[39;49m_request_kwargs)\n\u001b[1;32m    529\u001b[0m \u001b[39mreturn\u001b[39;00m r\u001b[39m.\u001b[39mjson()\n",
      "File \u001b[0;32m~/git/ksr_talit_indexing/.conda/lib/python3.11/site-packages/requests/sessions.py:602\u001b[0m, in \u001b[0;36mSession.get\u001b[0;34m(self, url, **kwargs)\u001b[0m\n\u001b[1;32m    594\u001b[0m \u001b[39m\u001b[39m\u001b[39mr\u001b[39m\u001b[39m\"\"\"Sends a GET request. Returns :class:`Response` object.\u001b[39;00m\n\u001b[1;32m    595\u001b[0m \n\u001b[1;32m    596\u001b[0m \u001b[39m:param url: URL for the new :class:`Request` object.\u001b[39;00m\n\u001b[1;32m    597\u001b[0m \u001b[39m:param \\*\\*kwargs: Optional arguments that ``request`` takes.\u001b[39;00m\n\u001b[1;32m    598\u001b[0m \u001b[39m:rtype: requests.Response\u001b[39;00m\n\u001b[1;32m    599\u001b[0m \u001b[39m\"\"\"\u001b[39;00m\n\u001b[1;32m    601\u001b[0m kwargs\u001b[39m.\u001b[39msetdefault(\u001b[39m\"\u001b[39m\u001b[39mallow_redirects\u001b[39m\u001b[39m\"\u001b[39m, \u001b[39mTrue\u001b[39;00m)\n\u001b[0;32m--> 602\u001b[0m \u001b[39mreturn\u001b[39;00m \u001b[39mself\u001b[39;49m\u001b[39m.\u001b[39;49mrequest(\u001b[39m\"\u001b[39;49m\u001b[39mGET\u001b[39;49m\u001b[39m\"\u001b[39;49m, url, \u001b[39m*\u001b[39;49m\u001b[39m*\u001b[39;49mkwargs)\n",
      "File \u001b[0;32m~/git/ksr_talit_indexing/.conda/lib/python3.11/site-packages/requests/sessions.py:589\u001b[0m, in \u001b[0;36mSession.request\u001b[0;34m(self, method, url, params, data, headers, cookies, files, auth, timeout, allow_redirects, proxies, hooks, stream, verify, cert, json)\u001b[0m\n\u001b[1;32m    584\u001b[0m send_kwargs \u001b[39m=\u001b[39m {\n\u001b[1;32m    585\u001b[0m     \u001b[39m\"\u001b[39m\u001b[39mtimeout\u001b[39m\u001b[39m\"\u001b[39m: timeout,\n\u001b[1;32m    586\u001b[0m     \u001b[39m\"\u001b[39m\u001b[39mallow_redirects\u001b[39m\u001b[39m\"\u001b[39m: allow_redirects,\n\u001b[1;32m    587\u001b[0m }\n\u001b[1;32m    588\u001b[0m send_kwargs\u001b[39m.\u001b[39mupdate(settings)\n\u001b[0;32m--> 589\u001b[0m resp \u001b[39m=\u001b[39m \u001b[39mself\u001b[39;49m\u001b[39m.\u001b[39;49msend(prep, \u001b[39m*\u001b[39;49m\u001b[39m*\u001b[39;49msend_kwargs)\n\u001b[1;32m    591\u001b[0m \u001b[39mreturn\u001b[39;00m resp\n",
      "File \u001b[0;32m~/git/ksr_talit_indexing/.conda/lib/python3.11/site-packages/requests/sessions.py:703\u001b[0m, in \u001b[0;36mSession.send\u001b[0;34m(self, request, **kwargs)\u001b[0m\n\u001b[1;32m    700\u001b[0m start \u001b[39m=\u001b[39m preferred_clock()\n\u001b[1;32m    702\u001b[0m \u001b[39m# Send the request\u001b[39;00m\n\u001b[0;32m--> 703\u001b[0m r \u001b[39m=\u001b[39m adapter\u001b[39m.\u001b[39;49msend(request, \u001b[39m*\u001b[39;49m\u001b[39m*\u001b[39;49mkwargs)\n\u001b[1;32m    705\u001b[0m \u001b[39m# Total elapsed time of the request (approximately)\u001b[39;00m\n\u001b[1;32m    706\u001b[0m elapsed \u001b[39m=\u001b[39m preferred_clock() \u001b[39m-\u001b[39m start\n",
      "File \u001b[0;32m~/git/ksr_talit_indexing/.conda/lib/python3.11/site-packages/requests/adapters.py:532\u001b[0m, in \u001b[0;36mHTTPAdapter.send\u001b[0;34m(self, request, stream, timeout, verify, cert, proxies)\u001b[0m\n\u001b[1;32m    530\u001b[0m     \u001b[39mraise\u001b[39;00m SSLError(e, request\u001b[39m=\u001b[39mrequest)\n\u001b[1;32m    531\u001b[0m \u001b[39melif\u001b[39;00m \u001b[39misinstance\u001b[39m(e, ReadTimeoutError):\n\u001b[0;32m--> 532\u001b[0m     \u001b[39mraise\u001b[39;00m ReadTimeout(e, request\u001b[39m=\u001b[39mrequest)\n\u001b[1;32m    533\u001b[0m \u001b[39melif\u001b[39;00m \u001b[39misinstance\u001b[39m(e, _InvalidHeader):\n\u001b[1;32m    534\u001b[0m     \u001b[39mraise\u001b[39;00m InvalidHeader(e, request\u001b[39m=\u001b[39mrequest)\n",
      "\u001b[0;31mReadTimeout\u001b[0m: HTTPSConnectionPool(host='de.wikipedia.org', port=443): Read timed out. (read timeout=10.0)"
     ]
    }
   ],
   "source": [
    "crawl_category(\"Kategorie:Filmtitel_der_1990er_Jahre\", 'data/movies_199x.csv', 2)"
   ]
  },
  {
   "cell_type": "code",
   "execution_count": null,
   "metadata": {},
   "outputs": [],
   "source": [
    "crawl_category(\"Kategorie:Filmtitel_des_21._Jahrhunderts\", 'data/movies_20xx.csv', 3)"
   ]
  },
  {
    "cell_type": "markdown",
    "metadata": {},
    "source": [
     "## Index Wikipedia\n",
     "\n",
     "Can we build an index of German Wikipedia in a reasonable amount of time? Lets download the abstracts of the first few 100k articles from https://dumps.wikimedia.org/dewiki/latest/dewiki-latest-abstract1.xml.gz (88MB).\n",
     "\n",
     "Alternatively, get all of them from https://dumps.wikimedia.org/dewiki/latest/dewiki-latest-abstract.xml.gz (364MB, 2.8M articles)."
    ]
   },
   {
    "cell_type": "code",
    "execution_count": 14,
    "metadata": {},
    "outputs": [
     {
      "name": "stdout",
      "output_type": "stream",
      "text": [
       "  % Total    % Received % Xferd  Average Speed   Time    Time     Time  Current\n",
       "                                 Dload  Upload   Total   Spent    Left  Speed\n",
       "100  118M  100  118M    0     0  4010k      0  0:00:30  0:00:30 --:--:-- 4020k0  3392k      0  0:00:35  0:00:05  0:00:30 3777k  0     0  3794k      0  0:00:32  0:00:09  0:00:23 4581k\n"
      ]
     }
    ],
    "source": [
     "!curl https://dumps.wikimedia.org/enwiki/latest/enwiki-latest-abstract1.xml.gz -o data/enwiki-abstract1.xml.gz"
    ]
   },
   {
    "cell_type": "code",
    "execution_count": 50,
    "metadata": {},
    "outputs": [
     {
      "name": "stdout",
      "output_type": "stream",
      "text": [
       "  % Total    % Received % Xferd  Average Speed   Time    Time     Time  Current\n",
       "                                 Dload  Upload   Total   Spent    Left  Speed\n",
       "100  364M  100  364M    0     0  4310k      0  0:01:26  0:01:26 --:--:-- 4454k     0  4201k      0  0:01:28  0:00:10  0:01:18 4495k01:26  0:00:18  0:01:08 4559k:00:37  0:00:51 3712k0  0:01:29  0:00:39  0:00:50 3514k 0  0:01:29  0:00:45  0:00:44 4423k  0  0:01:27  0:01:02  0:00:25 4406k2k      0  0:01:26  0:01:17  0:00:09 4482k\n",
       "  % Total    % Received % Xferd  Average Speed   Time    Time     Time  Current\n",
       "                                 Dload  Upload   Total   Spent    Left  Speed\n",
       "100 88.3M  100 88.3M    0     0  4331k      0  0:00:20  0:00:20 --:--:-- 4493k     0  0:00:23  0:00:04  0:00:19 3863k\n"
      ]
     }
    ],
    "source": [
     "!curl https://dumps.wikimedia.org/dewiki/latest/dewiki-latest-abstract.xml.gz -o data/dewikide-abstract.xml.gz\n",
     "!curl https://dumps.wikimedia.org/dewiki/latest/dewiki-latest-abstract1.xml.gz -o data/dewikide-abstract1.xml.gz\n"
    ]
   },
   {
    "cell_type": "markdown",
    "metadata": {},
    "source": [
     "Let's look at a few lines of the downloaded archive. On unix-like systems, this is straight-forward: `gzcat` streams a gzipped file to standard output, `head` limits the output to the first few lines."
    ]
   },
   {
    "cell_type": "code",
    "execution_count": 1,
    "metadata": {},
    "outputs": [
     {
      "name": "stdout",
      "output_type": "stream",
      "text": [
       "<feed>\n",
       "<doc>\n",
       "<title>Wikipedia: Alan Smithee</title>\n",
       "<url>https://de.wikipedia.org/wiki/Alan_Smithee</url>\n",
       "<abstract>Alan Smithee steht als Pseudonym für einen fiktiven Regisseur, der Filme verantwortet, bei denen der eigentliche Regisseur seinen Namen nicht mit dem Werk in Verbindung gebracht haben möchte. Von 1968 bis 2000 wurde es von der Directors Guild of America (DGA) für solche Situationen empfohlen.</abstract>\n",
       "<links>\n",
       "<sublink linktype=\"nav\"><anchor>Geschichte</anchor><link>https://de.wikipedia.org/wiki/Alan_Smithee#Geschichte</link></sublink>\n",
       "<sublink linktype=\"nav\"><anchor>Entstehung</anchor><link>https://de.wikipedia.org/wiki/Alan_Smithee#Entstehung</link></sublink>\n",
       "<sublink linktype=\"nav\"><anchor>Aufdeckung und Abkehr</anchor><link>https://de.wikipedia.org/wiki/Alan_Smithee#Aufdeckung_und_Abkehr</link></sublink>\n",
       "<sublink linktype=\"nav\"><anchor>Verwendung</anchor><link>https://de.wikipedia.org/wiki/Alan_Smithee#Verwendung</link></sublink>\n",
       "gzcat: error writing to output: Broken pipe\n",
       "gzcat: data/dewiki-abstract.xml.gz: uncompress failed\n"
      ]
     }
    ],
    "source": [
     "!gzcat data/dewiki-abstract.xml.gz | head"
    ]
   },
   {
    "cell_type": "markdown",
    "metadata": {},
    "source": [
     "Aha, we are interested in the <abstract></abstract> element contents. Let's read those. Also, the article URL could serve as a useful identifier for each document. Below, we use a bit of Python XML magic to generate all (url, abstract) tuples in the downloaded archive. You don't need to understand the details (but you may well)."
    ]
   },
   {
    "cell_type": "code",
    "execution_count": 1,
    "metadata": {},
    "outputs": [
     {
      "data": {
       "text/plain": [
        "('https://de.wikipedia.org/wiki/Alan_Smithee',\n",
        " 'Alan Smithee steht als Pseudonym für einen fiktiven Regisseur, der Filme verantwortet, bei denen der eigentliche Regisseur seinen Namen nicht mit dem Werk in Verbindung gebracht haben möchte. Von 1968 bis 2000 wurde es von der Directors Guild of America (DGA) für solche Situationen empfohlen.')"
       ]
      },
      "execution_count": 1,
      "metadata": {},
      "output_type": "execute_result"
     }
    ],
    "source": [
     "def read_wikipedia_abstracts(filename=\"dewiki-abstract1.xml\"):\n",
     "    \"\"\"Read the given filename and yield each articles fulltext.\"\"\"\n",
     "    from io import TextIOWrapper\n",
     "    import gzip\n",
     "    from xml.dom import pulldom\n",
     "\n",
     "    with gzip.open(f'data/{filename}.gz', mode='rt') as xml:\n",
     "        doc = pulldom.parse(xml)\n",
     "        url = None\n",
     "        abstract = None\n",
     "        for event, node in doc:\n",
     "            try:\n",
     "                if event == pulldom.START_ELEMENT and node.tagName == 'url':\n",
     "                    doc.expandNode(node)\n",
     "                    url = node.firstChild.data\n",
     "                elif event == pulldom.START_ELEMENT and node.tagName == 'abstract':\n",
     "                    doc.expandNode(node)\n",
     "                    abstract = node.firstChild.data\n",
     "                    yield url, abstract\n",
     "            except AttributeError:\n",
     "                # Ignore missing articles for now\n",
     "                pass\n",
     "\n",
     "next(read_wikipedia_abstracts())\n",
     "\n"
    ]
   },
   {
    "cell_type": "markdown",
    "metadata": {},
    "source": [
     "### Excercise 2\n",
     "\n",
     "Create an index of all wikipedia abstracts!"
    ]
   },
   {
    "cell_type": "code",
    "execution_count": null,
    "metadata": {},
    "outputs": [],
    "source": [
     "from tqdm.auto import tqdm\n",
     "def build_full_text_index(corpus, index=None):\n",
     "    index = dict() if index is None else index\n",
     "    for id, document in tqdm(corpus):\n",
     "        for term in extract_terms(document):\n",
     "            index.setdefault(term, set()).add(id)\n",
     "    return index\n",
     "\n",
     "index = build_full_text_index(read_wikipedia_abstracts(\"dewiki-abstract.xml\"))"
    ]
   },
   {
    "cell_type": "code",
    "execution_count": 40,
    "metadata": {},
    "outputs": [
     {
      "data": {
       "text/plain": [
        "{'https://en.wikipedia.org/wiki/Battle_of_Zurich',\n",
        " 'https://en.wikipedia.org/wiki/Beat_Richner',\n",
        " 'https://en.wikipedia.org/wiki/Chameleon_(computing)',\n",
        " 'https://en.wikipedia.org/wiki/Eduard_Schweizer',\n",
        " 'https://en.wikipedia.org/wiki/Extreme_performance_art',\n",
        " 'https://en.wikipedia.org/wiki/Feldbach,_Switzerland',\n",
        " 'https://en.wikipedia.org/wiki/Gnomes_of_Zurich',\n",
        " 'https://en.wikipedia.org/wiki/Hans_Konrad_von_Orelli',\n",
        " 'https://en.wikipedia.org/wiki/IC_2000',\n",
        " 'https://en.wikipedia.org/wiki/Jean_Baptiste_Marie_Franceschi-Delonne',\n",
        " 'https://en.wikipedia.org/wiki/Johann_Heinrich_Hottinger',\n",
        " 'https://en.wikipedia.org/wiki/Josias_Simmler',\n",
        " 'https://en.wikipedia.org/wiki/Julius_Friedrich_Lehmann',\n",
        " 'https://en.wikipedia.org/wiki/Kehlhof',\n",
        " 'https://en.wikipedia.org/wiki/Pilatus_SB-2',\n",
        " 'https://en.wikipedia.org/wiki/Richard_Avenarius',\n",
        " 'https://en.wikipedia.org/wiki/Saint_Lucia_Football_Association',\n",
        " 'https://en.wikipedia.org/wiki/Saint_Vincent_and_the_Grenadines_Football_Federation',\n",
        " 'https://en.wikipedia.org/wiki/Sch%C3%B6neich_Tunnel',\n",
        " 'https://en.wikipedia.org/wiki/Zurich,_Ontario',\n",
        " 'https://en.wikipedia.org/wiki/Zurich_(disambiguation)',\n",
        " 'https://en.wikipedia.org/wiki/Zurich_University'}"
       ]
      },
      "execution_count": 40,
      "metadata": {},
      "output_type": "execute_result"
     }
    ],
    "source": [
     "query_index(index, \"zurich\")"
    ]
   }
 ],
 "metadata": {
  "kernelspec": {
   "display_name": "Python 3",
   "language": "python",
   "name": "python3"
  },
  "language_info": {
   "codemirror_mode": {
    "name": "ipython",
    "version": 3
   },
   "file_extension": ".py",
   "mimetype": "text/x-python",
   "name": "python",
   "nbconvert_exporter": "python",
   "pygments_lexer": "ipython3",
   "version": "3.11.6"
  }
 },
 "nbformat": 4,
 "nbformat_minor": 2
}
