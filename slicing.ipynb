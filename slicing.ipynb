{
 "cells": [
  {
   "cell_type": "code",
   "execution_count": 1,
   "metadata": {},
   "outputs": [
    {
     "name": "stdout",
     "output_type": "stream",
     "text": [
      "Zwetschge\n"
     ]
    }
   ],
   "source": [
    "fruit = ['Apfel', 'Birne', 'Zwetschge']\n",
    "print(fruit[-1])  # Zwetschge"
   ]
  },
  {
   "cell_type": "code",
   "execution_count": 11,
   "metadata": {},
   "outputs": [
    {
     "data": {
      "text/plain": [
       "['Apfel']"
      ]
     },
     "execution_count": 11,
     "metadata": {},
     "output_type": "execute_result"
    }
   ],
   "source": [
    "fruit[-3::-1]"
   ]
  },
  {
   "cell_type": "code",
   "execution_count": 17,
   "metadata": {},
   "outputs": [
    {
     "data": {
      "text/plain": [
       "600"
      ]
     },
     "execution_count": 17,
     "metadata": {},
     "output_type": "execute_result"
    }
   ],
   "source": [
    "sum(range(50)[::2])"
   ]
  },
  {
   "cell_type": "code",
   "execution_count": 20,
   "metadata": {},
   "outputs": [
    {
     "data": {
      "text/plain": [
       "'esel'"
      ]
     },
     "execution_count": 20,
     "metadata": {},
     "output_type": "execute_result"
    }
   ],
   "source": [
    "\"lese\"[::-1]"
   ]
  },
  {
   "cell_type": "code",
   "execution_count": null,
   "metadata": {},
   "outputs": [],
   "source": [
    "towns = ['Romanshorn', 11556, 'Amriswil', 14313, 'Arbon', 15459, 'Weinfelden', 11893, 'Frauenfeld', 26093, 'Kreuzlingen', 22788, 'Egnach', 4897]"
   ]
  },
  {
   "cell_type": "code",
   "execution_count": 40,
   "metadata": {},
   "outputs": [
    {
     "name": "stdout",
     "output_type": "stream",
     "text": [
      "\n",
      "Karte 1\n",
      "1 3 5 7 9 11 13 15 17\n",
      "19 21 23 25 27 29 31 33\n",
      "35 37 39 41 43 45 47 49\n",
      "51 53 55 57 59 61 63\n",
      "\n",
      "Karte 2\n",
      "2 3 6 7 10 11 14 15 18\n",
      "19 22 23 26 27 30 31 34\n",
      "35 38 39 42 43 46 47 50\n",
      "51 54 55 58 59 62 63\n",
      "\n",
      "Karte 4\n",
      "4 5 6 7 12 13 14 15 20\n",
      "21 22 23 28 29 30 31 36\n",
      "37 38 39 44 45 46 47 52\n",
      "53 54 55 60 61 62 63\n",
      "\n",
      "Karte 8\n",
      "8 9 10 11 12 13 14 15\n",
      "24 25 26 27 28 29 30 31\n",
      "40 41 42 43 44 45 46 47\n",
      "56 57 58 59 60 61 62 63\n",
      "\n",
      "Karte 16\n",
      "16 17 18 19 20 21 22 23\n",
      "24 25 26 27 28 29 30 31\n",
      "48 49 50 51 52 53 54 55\n",
      "56 57 58 59 60 61 62 63\n",
      "\n",
      "Karte 32\n",
      "32 33 34 35 36 37 38 39\n",
      "40 41 42 43 44 45 46 47\n",
      "48 49 50 51 52 53 54 55\n",
      "56 57 58 59 60 61 62 63\n"
     ]
    }
   ],
   "source": [
    "import textwrap\n",
    "karten = 6\n",
    "for i in range(karten):\n",
    "    print(f\"\\nKarte {2**i}\")\n",
    "    print(textwrap.fill(\" \".join(str(zahl) for zahl in range(2**karten) if f\"{zahl:0{karten}b}\"[karten-i-1] == '1'), 23))\n",
    "    "
   ]
  }
 ],
 "metadata": {
  "kernelspec": {
   "display_name": "Python 3",
   "language": "python",
   "name": "python3"
  },
  "language_info": {
   "codemirror_mode": {
    "name": "ipython",
    "version": 3
   },
   "file_extension": ".py",
   "mimetype": "text/x-python",
   "name": "python",
   "nbconvert_exporter": "python",
   "pygments_lexer": "ipython3",
   "version": "3.12.1"
  }
 },
 "nbformat": 4,
 "nbformat_minor": 2
}
