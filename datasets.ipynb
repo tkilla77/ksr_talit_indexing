{
 "cells": [
  {
   "cell_type": "markdown",
   "metadata": {},
   "source": [
    "Datasets for playing around. Include this into your notebook as follows:\n",
    "\n",
    "```py\n",
    "%run datasets.ipynb\n",
    "dataset = datasets_thurgau_7()\n",
    "#dataset = datasets_cities_200k()\n",
    "#dataset = datasets_world_12M()\n",
    "```"
   ]
  },
  {
   "cell_type": "code",
   "execution_count": 3,
   "metadata": {},
   "outputs": [],
   "source": [
    "# Toy dataset\n",
    "thurgau = {\n",
    "    0: {'name': 'Romanshorn', 'population': 11556, 'latitude': 47.56586, 'longitude': 9.37869},\n",
    "    1: {'name': 'Amriswil', 'population': 14313, 'latitude': 47.54814, 'longitude': 9.30327},\n",
    "    2: {'name': 'Arbon', 'population': 15459, 'latitude': 47.51360, 'longitude': 9.42999},\n",
    "    3: {'name': 'Weinfelden', 'population': 11893, 'latitude': 47.56638, 'longitude': 9.10588},\n",
    "    4: {'name': 'Frauenfeld', 'population': 26093, 'latitude': 47.55856, 'longitude': 8.89685},\n",
    "    5: {'name': 'Kreuzlingen', 'population': 22788, 'latitude': 47.645837,'longitude': 9.178608},\n",
    "    6: {'name': 'Egnach', 'population': 4897, 'latitude': 47.54565, 'longitude': 9.37864},\n",
    "}"
   ]
  },
  {
   "cell_type": "code",
   "execution_count": 7,
   "metadata": {},
   "outputs": [
    {
     "name": "stdout",
     "output_type": "stream",
     "text": [
      "Note: you may need to restart the kernel to use updated packages.\n",
      "Note: you may need to restart the kernel to use updated packages.\n"
     ]
    }
   ],
   "source": [
    "%pip install --quiet tqdm\n",
    "%pip install --quiet ipywidgets\n",
    "\n",
    "from tqdm.auto import tqdm\n",
    "\n",
    "def read_geonames(filename):\n",
    "    \"\"\"Read the given filename and produce a dictionary from geonameid to a dict per entity.\"\"\"\n",
    "    from io import TextIOWrapper\n",
    "    import zipfile\n",
    "    import csv\n",
    "    result = {}\n",
    "    with zipfile.ZipFile(f'data/{filename}.zip') as myzip:\n",
    "        with myzip.open(f'{filename}.txt', 'r') as csv_file:\n",
    "            reader = csv.DictReader(TextIOWrapper(csv_file, 'utf-8'), delimiter='\\t', fieldnames=['geonameid', 'name', 'asciiname', 'alternatenames', 'latitude', 'longitude', 'feature class', 'feature code', 'country code', 'cc2', 'admin1 code', 'admin2 code', 'admin3 code', 'admin4 code', 'population', 'elevation', 'dem', 'timezone', 'modification date'])\n",
    "            for data in tqdm(reader, desc=filename):\n",
    "                result[int(data['geonameid'])] = data\n",
    "\n",
    "    return result\n"
   ]
  },
  {
   "cell_type": "code",
   "execution_count": 5,
   "metadata": {},
   "outputs": [],
   "source": [
    "def datasets_thurgau_7():\n",
    "    return thurgau\n",
    "\n",
    "_datasets = {}\n",
    "\n",
    "def datasets_cities_200k():\n",
    "    if 'cities' not in _datasets:\n",
    "        cities = read_geonames('cities500')  # 200k\n",
    "        _datasets['cities'] = cities\n",
    "    return _datasets['cities']\n",
    "\n",
    "def datasets_world_12M():\n",
    "    if 'world' not in _datasets:\n",
    "        world = read_geonames('allCountries')  # 12M\n",
    "        _datasets['world'] = world\n",
    "    return _datasets['world']"
   ]
  }
 ],
 "metadata": {
  "kernelspec": {
   "display_name": "Python 3",
   "language": "python",
   "name": "python3"
  },
  "language_info": {
   "codemirror_mode": {
    "name": "ipython",
    "version": 3
   },
   "file_extension": ".py",
   "mimetype": "text/x-python",
   "name": "python",
   "nbconvert_exporter": "python",
   "pygments_lexer": "ipython3",
   "version": "3.11.10"
  },
  "orig_nbformat": 4
 },
 "nbformat": 4,
 "nbformat_minor": 2
}
