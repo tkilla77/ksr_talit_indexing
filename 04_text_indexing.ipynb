{
 "cells": [
  {
   "cell_type": "markdown",
   "metadata": {},
   "source": [
    "# Text Indexing\n",
    "\n",
    "*Information Retrieval* is about *selecting* the documents from a - possibly large - collection that match the *query*, and *ranking* the result set according to relevance. One obvious use-case are internet search engines, but efficient and precise search is needed in many other applications."
   ]
  },
  {
   "cell_type": "markdown",
   "metadata": {},
   "source": [
    "## Selection\n",
    "\n",
    "The first part of retrieval is finding the documents that are match the query, ignoring their relative relevance for now.\n",
    "\n",
    "One obvious way to do this what we have already done for the secondary indexing case with the global city database. We created an *inverted index* or *inverted file*: a dictionary that records the set of documents (cities) that match a search term.\n",
    "\n",
    "This is the similar to the index at the back of a book, which maps index terms to pages:\n",
    "\n",
    "<img src=\"figures/book-index.png\" alt=\"Index\" width=\"400\"/>"
   ]
  },
  {
   "cell_type": "markdown",
   "metadata": {},
   "source": [
    "## Tokenization\n",
    "The first step is to turn a document into words, or _tokens_. A first attempt probably uses `string.split()`, but we should be aware that not all languages use whitespace (such as spaces) to separate words (Thai, for instance).\n",
    "\n",
    "Also, we want to remove punctuation from our tokens, and it might be convenient to turn all words to lower-case."
   ]
  },
  {
   "cell_type": "code",
   "execution_count": 77,
   "metadata": {},
   "outputs": [
    {
     "name": "stdout",
     "output_type": "stream",
     "text": [
      "ein\n",
      "film\n",
      "über\n",
      "sterne\n",
      "mit\n",
      "harrison\n",
      "ford\n"
     ]
    }
   ],
   "source": [
    "documents = {\n",
    "    1: \"Ein Film über Sterne mit Harrison Ford.\",\n",
    "    2: \"Ein Film über Sterne von Antoine de Saint-Exupéry.\",\n",
    "    3: \"In diesem Film gewinnt James Bond gegen Dr. No.\",\n",
    "}\n",
    "\n",
    "def extract_terms(document):\n",
    "    import string, re\n",
    "    for word in document.split():\n",
    "        # 1) skip two-letter words\n",
    "        # 2) strip punctuation at word boundaries\n",
    "        # 3) transform to lower-case\n",
    "        if len(word) > 2:\n",
    "            yield word.strip(string.punctuation).lower()\n",
    "    # Alternative: use regular expressions\n",
    "    #yield from re.findall(\"\\w+\", document)\n",
    "\n",
    "for word in extract_terms(documents[1]): print(word)"
   ]
  },
  {
   "cell_type": "markdown",
   "metadata": {},
   "source": [
    "What is an index? A set of page numbers (in our case: document identifiers) that match a word. We build a dictionary mapping from each word to the set of documents in which it occurs:"
   ]
  },
  {
   "cell_type": "code",
   "execution_count": 78,
   "metadata": {},
   "outputs": [
    {
     "data": {
      "application/vnd.jupyter.widget-view+json": {
       "model_id": "c159c8aa92244bd8ac7e3efa2d485133",
       "version_major": 2,
       "version_minor": 0
      },
      "text/plain": [
       "  0%|          | 0/3 [00:00<?, ?it/s]"
      ]
     },
     "metadata": {},
     "output_type": "display_data"
    },
    {
     "data": {
      "text/plain": [
       "{'ein': {1, 2},\n",
       " 'film': {1, 2, 3},\n",
       " 'über': {1, 2},\n",
       " 'sterne': {1, 2},\n",
       " 'mit': {1},\n",
       " 'harrison': {1},\n",
       " 'ford': {1},\n",
       " 'von': {2},\n",
       " 'antoine': {2},\n",
       " 'saint-exupéry': {2},\n",
       " 'diesem': {3},\n",
       " 'gewinnt': {3},\n",
       " 'james': {3},\n",
       " 'bond': {3},\n",
       " 'gegen': {3},\n",
       " 'dr': {3},\n",
       " 'no': {3}}"
      ]
     },
     "execution_count": 78,
     "metadata": {},
     "output_type": "execute_result"
    }
   ],
   "source": [
    "def build_text_index(tuples):\n",
    "    \"\"\"Builds and returns a full-text index over all (id, document) tuples given.\"\"\"\n",
    "    from tqdm.auto import tqdm\n",
    "    index = dict()\n",
    "    for id, document in tqdm(tuples):\n",
    "        for term in extract_terms(document):\n",
    "            index.setdefault(term, set()).add(id)\n",
    "    return index\n",
    "\n",
    "index = build_text_index(documents.items())\n",
    "index"
   ]
  },
  {
   "cell_type": "markdown",
   "metadata": {},
   "source": [
    "### Querying\n",
    "\n",
    "We can query directly as follows:"
   ]
  },
  {
   "cell_type": "code",
   "execution_count": 79,
   "metadata": {},
   "outputs": [
    {
     "data": {
      "text/plain": [
       "{1, 2}"
      ]
     },
     "execution_count": 79,
     "metadata": {},
     "output_type": "execute_result"
    }
   ],
   "source": [
    "def query_index(index, query):\n",
    "    return index.get(query, set())\n",
    "\n",
    "query_index(index, \"sterne\")"
   ]
  },
  {
   "cell_type": "markdown",
   "metadata": {},
   "source": [
    "If our query is more than a single word, the above fails. Conveniently, we use the same term extractor on the query as we used for indexing and query the index for each word (_token_) separately. We then need to decide how the results for each token should be combined to form the final result set.\n",
    "\n",
    "Shall we include only documents contained in each per-token results (the _intersection_ of all results)?\n",
    "\n",
    "Or rather combine all result sets, producing their _union_?"
   ]
  },
  {
   "cell_type": "code",
   "execution_count": 80,
   "metadata": {},
   "outputs": [
    {
     "data": {
      "text/plain": [
       "{1}"
      ]
     },
     "execution_count": 80,
     "metadata": {},
     "output_type": "execute_result"
    }
   ],
   "source": [
    "def query_index(index, query):\n",
    "    result_set = None\n",
    "    for term in extract_terms(query):\n",
    "        results = index.get(term, set())\n",
    "        result_set = results if result_set is None else result_set.intersection(results)\n",
    "    return result_set\n",
    "\n",
    "query_index(index, \"ford sterne\")"
   ]
  },
  {
   "cell_type": "markdown",
   "metadata": {},
   "source": [
    "## Bigger Dataset: 1970s Movies\n",
    "\n",
    "Let's move up to a slightly bigger dataset: the German wikipedia movie articles of 1985, the 1970s or 1980s.\n",
    "  * Movies of 1985 (`data/movies_1985.csv.zip`)\n",
    "  * Movies of the 1970ies (`data/movies_197x.csv.zip`)\n",
    "  * Movies of the 1980ies (`data/movies_198x.csv.zip`)\n",
    "  * Movies of the 1990ies (`data/movies_199x.csv.zip`)\n",
    "\n",
    "The CSVs have two columns: the wikipedia url as identifier, and the full article as text.\n",
    "More datasets may be found at https://if.ksr.ch/talit/indexing.\n",
    "\n",
    "The following function will yield a stream of `(identifier, text)` tuples ready for indexing:"
   ]
  },
  {
   "cell_type": "code",
   "execution_count": 81,
   "metadata": {},
   "outputs": [],
   "source": [
    "def read_movie_csv(filename):\n",
    "    \"\"\"Reads a two-column CSV of Wikipedia articles and yields each (id, text)pair contained therein.\"\"\"\n",
    "    import csv\n",
    "    with open(filename, 'r', encoding='UTF-8') as csvfile:\n",
    "        reader = csv.reader(csvfile)\n",
    "        for url, text in reader:\n",
    "            yield url, text"
   ]
  },
  {
   "cell_type": "markdown",
   "metadata": {},
   "source": [
    "We can index the movie-datasets with our existing index building code:"
   ]
  },
  {
   "cell_type": "code",
   "execution_count": 82,
   "metadata": {},
   "outputs": [
    {
     "data": {
      "application/vnd.jupyter.widget-view+json": {
       "model_id": "249415580e3e4e3f8b8275ae96ee4617",
       "version_major": 2,
       "version_minor": 0
      },
      "text/plain": [
       "0it [00:00, ?it/s]"
      ]
     },
     "metadata": {},
     "output_type": "display_data"
    }
   ],
   "source": [
    "dataset = 'data/movies_198x.csv'\n",
    "movie_index = build_text_index(read_movie_csv(dataset))"
   ]
  },
  {
   "cell_type": "markdown",
   "metadata": {},
   "source": [
    "A quick query reveals that our index is able to produce meaningful results:"
   ]
  },
  {
   "cell_type": "code",
   "execution_count": 83,
   "metadata": {},
   "outputs": [
    {
     "data": {
      "text/plain": [
       "{'https://de.wikipedia.org/wiki/Zur%C3%BCck_in_die_Zukunft_(Film)',\n",
       " 'https://de.wikipedia.org/wiki/Zur%C3%BCck_in_die_Zukunft_II'}"
      ]
     },
     "execution_count": 83,
     "metadata": {},
     "output_type": "execute_result"
    }
   ],
   "source": [
    "query_index(movie_index, \"delorean\")"
   ]
  },
  {
   "cell_type": "markdown",
   "metadata": {},
   "source": [
    "## Stop Wording\n",
    "\n",
    "Looking at our index more closely, we find that many words provide little value. For instance, the word `der` appears in 4009 of the 4014 documents:"
   ]
  },
  {
   "cell_type": "code",
   "execution_count": 84,
   "metadata": {},
   "outputs": [
    {
     "data": {
      "text/plain": [
       "4009"
      ]
     },
     "execution_count": 84,
     "metadata": {},
     "output_type": "execute_result"
    }
   ],
   "source": [
    "len(query_index(movie_index, \"der\"))"
   ]
  },
  {
   "cell_type": "markdown",
   "metadata": {},
   "source": [
    "Why even store that information and spend index for something that brings no value? In practice, we'd want to apply a technique called _Stop Wording_ to our indexing: Words known to appear frequently should be dropped from indexing and also from the query.\n",
    "\n",
    "We could download a list of stopwords from the internet - but don't we have that information already in our pipeline? Each word stores the set of documents where it appears. The length of that set divided by the total number of documents gives us the _relative document frequency_.\n",
    "\n",
    "Let's list all our index tokens along with their frequency:"
   ]
  },
  {
   "cell_type": "code",
   "execution_count": 100,
   "metadata": {},
   "outputs": [
    {
     "data": {
      "text/plain": [
       "[('der', 0.9987543597409069),\n",
       " ('ist', 0.9980069755854509),\n",
       " ('und', 0.9955156950672646),\n",
       " ('die', 0.9915296462381664),\n",
       " ('weblinks', 0.989785749875436),\n",
       " ('von', 0.9778276033881415),\n",
       " ('ein', 0.9770802192326856),\n",
       " ('dem', 0.9750871948181365),\n",
       " ('den', 0.9673642252117588),\n",
       " ('internet', 0.9646238166417539)]"
      ]
     },
     "execution_count": 100,
     "metadata": {},
     "output_type": "execute_result"
    }
   ],
   "source": [
    "n = sum(1 for _ in read_movie_csv(dataset))\n",
    "freqs = [(word, len(docs) / n) for word, docs in movie_index.items()]\n",
    "import operator\n",
    "freqs.sort(reverse=True, key=operator.itemgetter(1))\n",
    "freqs[:10]"
   ]
  },
  {
   "cell_type": "markdown",
   "metadata": {},
   "source": [
    "Clearly, we don't want any of these. Let's produce a set of stopwords that includes all words that appear in more than one third of the documents:"
   ]
  },
  {
   "cell_type": "code",
   "execution_count": 86,
   "metadata": {},
   "outputs": [
    {
     "data": {
      "text/plain": [
       "96"
      ]
     },
     "execution_count": 86,
     "metadata": {},
     "output_type": "execute_result"
    }
   ],
   "source": [
    "cutoff = 1/3\n",
    "stopwords = {word for word, freq in freqs if freq > cutoff}\n",
    "len(stopwords)"
   ]
  },
  {
   "cell_type": "markdown",
   "metadata": {},
   "source": [
    "We can now adapt our term extractor to skip any words in our stopword list:"
   ]
  },
  {
   "cell_type": "code",
   "execution_count": 87,
   "metadata": {},
   "outputs": [],
   "source": [
    "def extract_terms(document, stop_words=stopwords):\n",
    "    import string, re\n",
    "    for word in document.split():\n",
    "        # 1) skip two-letter words\n",
    "        # 2) strip punctuation at word boundaries\n",
    "        # 3) transform to lower-case\n",
    "        if len(word) > 2:\n",
    "            word = word.strip(string.punctuation).lower()\n",
    "            if not word in stop_words:\n",
    "                yield word\n",
    "    # Alternative: use regular expressions\n",
    "    #yield from re.findall(\"\\w+\", document)\n"
   ]
  },
  {
   "cell_type": "markdown",
   "metadata": {},
   "source": [
    "Re-building the index over the toy dataset shows that frequent words such as `film` no longer appear in the index:"
   ]
  },
  {
   "cell_type": "code",
   "execution_count": 88,
   "metadata": {},
   "outputs": [
    {
     "data": {
      "application/vnd.jupyter.widget-view+json": {
       "model_id": "4fd1e3e880d14ba9b138b9a1dd34c12f",
       "version_major": 2,
       "version_minor": 0
      },
      "text/plain": [
       "  0%|          | 0/3 [00:00<?, ?it/s]"
      ]
     },
     "metadata": {},
     "output_type": "display_data"
    },
    {
     "data": {
      "text/plain": [
       "{'sterne': {1, 2},\n",
       " 'harrison': {1},\n",
       " 'ford': {1},\n",
       " 'antoine': {2},\n",
       " 'saint-exupéry': {2},\n",
       " 'diesem': {3},\n",
       " 'gewinnt': {3},\n",
       " 'james': {3},\n",
       " 'bond': {3},\n",
       " 'gegen': {3},\n",
       " 'dr': {3},\n",
       " 'no': {3}}"
      ]
     },
     "execution_count": 88,
     "metadata": {},
     "output_type": "execute_result"
    }
   ],
   "source": [
    "index = build_text_index(documents.items())\n",
    "index"
   ]
  },
  {
   "cell_type": "markdown",
   "metadata": {},
   "source": [
    "### Term Extraction: Filtering & Expansion\n",
    "\n",
    "A more sophisticated term extractor would likely perform additional filtering and expansions:\n",
    "  * transform words to their stems (`donuts` --> `donut`)\n",
    "  * add synonyms (`donut` --> `pastry`)\n",
    "  * expand acronmys (`HTML` --> `hypertext markup language`)\n",
    "  * fix common typos (`abreviation` --> `abbreviation`)"
   ]
  },
  {
   "cell_type": "markdown",
   "metadata": {},
   "source": [
    "## Ranking\n",
    "\n",
    "We really care about which document is the best match for a query. We also want to avoid dropping a good search result simply because one minor search term does not appear in it. Let's rephrase search to include all documents that contain any of the search terms (instead of all of them):"
   ]
  },
  {
   "cell_type": "code",
   "execution_count": 93,
   "metadata": {},
   "outputs": [],
   "source": [
    "def query_index_union(index, query):\n",
    "    result_set = None\n",
    "    for term in extract_terms(query):\n",
    "        results = index.get(term, set())\n",
    "        result_set = results if result_set is None else result_set.union(results)\n",
    "    return result_set\n"
   ]
  },
  {
   "cell_type": "markdown",
   "metadata": {},
   "source": [
    "### Querying with Union\n",
    "\n",
    "While a specific query such as `delorean` works fine, query terms that appear frequently blow up the search results:"
   ]
  },
  {
   "cell_type": "code",
   "execution_count": 95,
   "metadata": {},
   "outputs": [
    {
     "data": {
      "text/plain": [
       "522"
      ]
     },
     "execution_count": 95,
     "metadata": {},
     "output_type": "execute_result"
    }
   ],
   "source": [
    "len(query_index_union(movie_index, \"michael fox delorean\"))"
   ]
  },
  {
   "cell_type": "markdown",
   "metadata": {},
   "source": [
    "Clearly, some terms are more interesting than others. But which terms are interesting? Clearly, a term that appears in all or most documents is quite uninteresting. We can use our stop-wording approach again to find out the document frequency for our search terms.\n",
    "\n",
    "First, let's turn the frequency table into a dictionary that supports quick lookup:"
   ]
  },
  {
   "cell_type": "code",
   "execution_count": 111,
   "metadata": {},
   "outputs": [
    {
     "name": "stdout",
     "output_type": "stream",
     "text": [
      "Requirement already satisfied: tabulate in ./.conda/lib/python3.11/site-packages (0.9.0)\n",
      "Note: you may need to restart the kernel to use updated packages.\n"
     ]
    },
    {
     "data": {
      "text/html": [
       "<table>\n",
       "<thead>\n",
       "<tr><th>Term    </th><th style=\"text-align: right;\">  Relative Document Frequency</th></tr>\n",
       "</thead>\n",
       "<tbody>\n",
       "<tr><td>michael </td><td style=\"text-align: right;\">                       11.98%</td></tr>\n",
       "<tr><td>fox     </td><td style=\"text-align: right;\">                        1.77%</td></tr>\n",
       "<tr><td>delorean</td><td style=\"text-align: right;\">                        0.05%</td></tr>\n",
       "</tbody>\n",
       "</table>"
      ],
      "text/plain": [
       "'<table>\\n<thead>\\n<tr><th>Term    </th><th style=\"text-align: right;\">  Relative Document Frequency</th></tr>\\n</thead>\\n<tbody>\\n<tr><td>michael </td><td style=\"text-align: right;\">                       11.98%</td></tr>\\n<tr><td>fox     </td><td style=\"text-align: right;\">                        1.77%</td></tr>\\n<tr><td>delorean</td><td style=\"text-align: right;\">                        0.05%</td></tr>\\n</tbody>\\n</table>'"
      ]
     },
     "execution_count": 111,
     "metadata": {},
     "output_type": "execute_result"
    }
   ],
   "source": [
    "word_frequencies = {word: freq for word, freq in freqs}\n",
    "\n",
    "table = [['Term', 'Relative Document Frequency']]\n",
    "for token in extract_terms(\"michael fox delorean\"):\n",
    "    table.append([token, word_frequencies[token]])\n",
    "\n",
    "%pip install tabulate\n",
    "from tabulate import tabulate\n",
    "tabulate(table, headers=\"firstrow\", floatfmt=\".2%\", tablefmt='html')"
   ]
  },
  {
   "cell_type": "markdown",
   "metadata": {},
   "source": [
    "### Visualize term frequencies\n",
    "\n",
    "If we are to use the term frequency to compute an overall rank of the search results, it would be nice if we could somehow add up the contributions of each term. For this, it is important to know the shape of the term frequencies.\n",
    "\n",
    "Let's plot them:"
   ]
  },
  {
   "cell_type": "code",
   "execution_count": 112,
   "metadata": {},
   "outputs": [
    {
     "name": "stdout",
     "output_type": "stream",
     "text": [
      "['der', 'telefonanruf', 'kovács', 'konklave', 'bardili', 'teetjen', 'sehen.das', 'zement', 'maues', '13,8', 'emotionen“']\n"
     ]
    },
    {
     "name": "stderr",
     "output_type": "stream",
     "text": [
      "/var/folders/rs/4ym7352x37df592tnnlbw2mm0000gn/T/ipykernel_68883/527513099.py:15: UserWarning: set_ticklabels() should only be used with a fixed number of ticks, i.e. after set_ticks() or using a FixedLocator.\n",
      "  ax.set_xticklabels([None] + labels[0:-1:label_multiple], rotation=90)\n"
     ]
    },
    {
     "data": {
      "image/png": "[encoded data removed]",
      "text/plain": [
       "<Figure size 640x480 with 1 Axes>"
      ]
     },
     "metadata": {},
     "output_type": "display_data"
    }
   ],
   "source": [
    "#!pip install matplotlib\n",
    "\n",
    "def plot_terms(terms):\n",
    "    import matplotlib.pyplot as plt\n",
    "    import matplotlib as mpl\n",
    "    import math\n",
    "\n",
    "    labels = [x for x, y in terms.items()]\n",
    "    values = [y for x, y in terms.items()]\n",
    "    fig, ax = plt.subplots() \n",
    "    #ax.set_yscale('log')\n",
    "    label_count = 10\n",
    "    label_multiple = len(terms) // label_count\n",
    "    ax.xaxis.set_major_locator(mpl.ticker.MultipleLocator(label_multiple, 0))\n",
    "    ax.set_xticklabels([None] + labels[0:-1:label_multiple], rotation=90)\n",
    "    print(labels[0:-1:label_multiple])\n",
    "    ax.plot(values)\n",
    "\n",
    "plot_terms(word_frequencies)"
   ]
  },
  {
   "cell_type": "markdown",
   "metadata": {},
   "source": [
    "Hm, this surely looks like a [power law distribution](https://en.wikipedia.org/wiki/Power_law). Indeed, [Zipf's law](https://en.wikipedia.org/wiki/Zipf%27s_law) states that the most common word appears roughly twice as often as the next common one.\n",
    "\n",
    "Applying a log to the (inverted) frequency would probably help with making the value useful for ranking:"
   ]
  },
  {
   "cell_type": "code",
   "execution_count": 116,
   "metadata": {},
   "outputs": [
    {
     "name": "stdout",
     "output_type": "stream",
     "text": [
      "Michael: 2.1, Fox: 4, delorean: 7.6\n",
      "['der', 'telefonanruf', 'kovács', 'konklave', 'bardili', 'teetjen', 'sehen.das', 'zement', 'maues', '13,8', 'emotionen“']\n"
     ]
    },
    {
     "name": "stderr",
     "output_type": "stream",
     "text": [
      "/var/folders/rs/4ym7352x37df592tnnlbw2mm0000gn/T/ipykernel_68883/527513099.py:15: UserWarning: set_ticklabels() should only be used with a fixed number of ticks, i.e. after set_ticks() or using a FixedLocator.\n",
      "  ax.set_xticklabels([None] + labels[0:-1:label_multiple], rotation=90)\n"
     ]
    },
    {
     "data": {
      "image/png": "[encoded data removed]",
      "text/plain": [
       "<Figure size 640x480 with 1 Axes>"
      ]
     },
     "metadata": {},
     "output_type": "display_data"
    }
   ],
   "source": [
    "import math\n",
    "log_terms = {term: math.log(1/weight) for term, weight in word_frequencies.items()}\n",
    "print(f\"Michael: {log_terms['michael']:.2g}, Fox: {log_terms['fox']:.2g}, delorean: {log_terms['delorean']:.2g}\")\n",
    "\n",
    "plot_terms(log_terms)"
   ]
  },
  {
   "cell_type": "markdown",
   "metadata": {},
   "source": [
    "### Ranking: Putting things together\n",
    "Let's rank the search results by summing up the IDF values for each search term:"
   ]
  },
  {
   "cell_type": "code",
   "execution_count": 123,
   "metadata": {},
   "outputs": [],
   "source": [
    "def query_index_weighted(index, query, k=10):\n",
    "    \"\"\"Returns the top k search results matching query.\"\"\"\n",
    "    result_set = dict()\n",
    "    for term in extract_terms(query):\n",
    "        idf = log_terms[term]\n",
    "        results = index.get(term, set())\n",
    "        for result in results:\n",
    "            result_set[result] = result_set.get(result, 0) + idf\n",
    "    return dict(sorted(result_set.items(), reverse=True, key=lambda item: item[1])[:k])"
   ]
  },
  {
   "cell_type": "markdown",
   "metadata": {},
   "source": [
    "Ah, now _Back to the Future_ at last appears in the top search results:"
   ]
  },
  {
   "cell_type": "code",
   "execution_count": 124,
   "metadata": {},
   "outputs": [
    {
     "data": {
      "text/plain": [
       "{'https://de.wikipedia.org/wiki/Zur%C3%BCck_in_die_Zukunft_(Film)': 13.760936260361827,\n",
       " 'https://de.wikipedia.org/wiki/Zur%C3%BCck_in_die_Zukunft_II': 13.760936260361827,\n",
       " 'https://de.wikipedia.org/wiki/Ein_Fisch_namens_Wanda': 6.15653991156549,\n",
       " 'https://de.wikipedia.org/wiki/James_Bond_007_%E2%80%93_Im_Angesicht_des_Todes': 6.15653991156549,\n",
       " 'https://de.wikipedia.org/wiki/Alarmstufe_1_(1985)': 6.15653991156549,\n",
       " 'https://de.wikipedia.org/wiki/Die_Zeitfalle': 6.15653991156549,\n",
       " 'https://de.wikipedia.org/wiki/James_Bond_007_%E2%80%93_Lizenz_zum_T%C3%B6ten': 6.15653991156549,\n",
       " 'https://de.wikipedia.org/wiki/Stirb_langsam': 6.15653991156549,\n",
       " 'https://de.wikipedia.org/wiki/High_School_U.S.A.': 6.15653991156549,\n",
       " 'https://de.wikipedia.org/wiki/James_Bond_007_%E2%80%93_In_t%C3%B6dlicher_Mission': 6.15653991156549}"
      ]
     },
     "execution_count": 124,
     "metadata": {},
     "output_type": "execute_result"
    }
   ],
   "source": [
    "query_index_weighted(movie_index, \"michael fox delorean\")"
   ]
  }
 ],
 "metadata": {
  "kernelspec": {
   "display_name": "Python 3",
   "language": "python",
   "name": "python3"
  },
  "language_info": {
   "codemirror_mode": {
    "name": "ipython",
    "version": 3
   },
   "file_extension": ".py",
   "mimetype": "text/x-python",
   "name": "python",
   "nbconvert_exporter": "python",
   "pygments_lexer": "ipython3",
   "version": "3.11.6"
  }
 },
 "nbformat": 4,
 "nbformat_minor": 2
}
